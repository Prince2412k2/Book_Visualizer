{
 "cells": [
  {
   "cell_type": "code",
   "execution_count": 3,
   "metadata": {},
   "outputs": [
    {
     "ename": "AttributeError",
     "evalue": "module 'zipfile' has no attribute 'open'",
     "output_type": "error",
     "traceback": [
      "\u001b[0;31m---------------------------------------------------------------------------\u001b[0m",
      "\u001b[0;31mAttributeError\u001b[0m                            Traceback (most recent call last)",
      "Cell \u001b[0;32mIn [3], line 3\u001b[0m\n\u001b[1;32m      1\u001b[0m \u001b[38;5;28;01mfrom\u001b[39;00m \u001b[38;5;21;01mepy\u001b[39;00m \u001b[38;5;28;01mimport\u001b[39;00m get_ebook_cls\n\u001b[0;32m----> 3\u001b[0m book\u001b[38;5;241m=\u001b[39mget_ebook_cls(\u001b[38;5;124m\"\u001b[39m\u001b[38;5;124m./books/LP.epub\u001b[39m\u001b[38;5;124m\"\u001b[39m)\n",
      "File \u001b[0;32m~/Documents/Project/BOOK/epy.py:596\u001b[0m, in \u001b[0;36mget_ebook_cls\u001b[0;34m(file)\u001b[0m\n\u001b[1;32m    594\u001b[0m filext \u001b[38;5;241m=\u001b[39m os\u001b[38;5;241m.\u001b[39mpath\u001b[38;5;241m.\u001b[39msplitext(file)[\u001b[38;5;241m1\u001b[39m]\n\u001b[1;32m    595\u001b[0m \u001b[38;5;28;01mif\u001b[39;00m filext \u001b[38;5;241m==\u001b[39m \u001b[38;5;124m\"\u001b[39m\u001b[38;5;124m.epub\u001b[39m\u001b[38;5;124m\"\u001b[39m:\n\u001b[0;32m--> 596\u001b[0m     \u001b[38;5;28;01mreturn\u001b[39;00m Epub(\u001b[43mzipfile\u001b[49m\u001b[38;5;241;43m.\u001b[39;49m\u001b[43mopen\u001b[49m(file))\n\u001b[1;32m    597\u001b[0m \u001b[38;5;28;01melif\u001b[39;00m filext \u001b[38;5;241m==\u001b[39m \u001b[38;5;124m\"\u001b[39m\u001b[38;5;124m.fb2\u001b[39m\u001b[38;5;124m\"\u001b[39m:\n\u001b[1;32m    598\u001b[0m     \u001b[38;5;28;01mreturn\u001b[39;00m FictionBook(zipfile\u001b[38;5;241m.\u001b[39mopen(file))\n",
      "\u001b[0;31mAttributeError\u001b[0m: module 'zipfile' has no attribute 'open'"
     ]
    }
   ],
   "source": [
    "from epy import get_ebook_cls\n",
    "\n",
    "book=get_ebook_cls(\"./books/LP.epub\")"
   ]
  },
  {
   "cell_type": "code",
   "execution_count": 3,
   "metadata": {},
   "outputs": [
    {
     "ename": "AttributeError",
     "evalue": "'Epub' object has no attribute 'rootfile'",
     "output_type": "error",
     "traceback": [
      "\u001b[0;31m---------------------------------------------------------------------------\u001b[0m",
      "\u001b[0;31mAttributeError\u001b[0m                            Traceback (most recent call last)",
      "Cell \u001b[0;32mIn [3], line 1\u001b[0m\n\u001b[0;32m----> 1\u001b[0m book\u001b[38;5;241m.\u001b[39mget_meta()\n",
      "File \u001b[0;32m~/Documents/Project/BOOK/epy.py:38\u001b[0m, in \u001b[0;36mEpub.get_meta\u001b[0;34m(self)\u001b[0m\n\u001b[1;32m     36\u001b[0m meta \u001b[38;5;241m=\u001b[39m []\n\u001b[1;32m     37\u001b[0m \u001b[38;5;66;03m# why self.file.read(self.rootfile) problematic\u001b[39;00m\n\u001b[0;32m---> 38\u001b[0m cont \u001b[38;5;241m=\u001b[39m ET\u001b[38;5;241m.\u001b[39mfromstring(\u001b[38;5;28mself\u001b[39m\u001b[38;5;241m.\u001b[39mfile\u001b[38;5;241m.\u001b[39mopen(\u001b[38;5;28;43mself\u001b[39;49m\u001b[38;5;241;43m.\u001b[39;49m\u001b[43mrootfile\u001b[49m)\u001b[38;5;241m.\u001b[39mread())\n\u001b[1;32m     39\u001b[0m \u001b[38;5;28;01mfor\u001b[39;00m i \u001b[38;5;129;01min\u001b[39;00m cont\u001b[38;5;241m.\u001b[39mfindall(\u001b[38;5;124m\"\u001b[39m\u001b[38;5;124mOPF:metadata/*\u001b[39m\u001b[38;5;124m\"\u001b[39m, \u001b[38;5;28mself\u001b[39m\u001b[38;5;241m.\u001b[39mNS):\n\u001b[1;32m     40\u001b[0m     \u001b[38;5;28;01mif\u001b[39;00m i\u001b[38;5;241m.\u001b[39mtext \u001b[38;5;129;01mis\u001b[39;00m \u001b[38;5;129;01mnot\u001b[39;00m \u001b[38;5;28;01mNone\u001b[39;00m:\n",
      "\u001b[0;31mAttributeError\u001b[0m: 'Epub' object has no attribute 'rootfile'"
     ]
    }
   ],
   "source": [
    "book.get_meta()"
   ]
  }
 ],
 "metadata": {
  "kernelspec": {
   "display_name": "book",
   "language": "python",
   "name": "python3"
  },
  "language_info": {
   "codemirror_mode": {
    "name": "ipython",
    "version": 3
   },
   "file_extension": ".py",
   "mimetype": "text/x-python",
   "name": "python",
   "nbconvert_exporter": "python",
   "pygments_lexer": "ipython3",
   "version": "3.11.11"
  }
 },
 "nbformat": 4,
 "nbformat_minor": 2
}
