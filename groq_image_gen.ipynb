{
 "cells": [
  {
   "cell_type": "markdown",
   "metadata": {},
   "source": [
    "# DOC\n"
   ]
  },
  {
   "cell_type": "markdown",
   "metadata": {},
   "source": [
    "## DOCUMENTATION\n",
    "___\n",
    "### **LLM**\n",
    "\n",
    "| **Model**                    | **Context Window** |**Limits**           |\n",
    "|------------------------------|--------------------|---------------------|\n",
    "| **Qwen 2.5 35B Code**        | Up to 128K tokens  |Fine Tuned for coding|\n",
    "| **Cohere Command R+**        | Up to 128K tokens  | 1000 calls per month|\n",
    "| **Mistral-7B-Instruct-v0.3** | 32,768 tokens      | Hallucinations      |\n",
    "\n",
    "#### Using `Mistral-7B-Instruct-v0.3` because \n",
    "- reliable outputs\n",
    "- 1000 calls per day\n",
    "- works in huggingface(same as text-to-image)\n",
    "\n",
    "\n",
    "### **Text-to-Image**\n",
    "\n",
    "\n",
    "| **Category**               | **Stable Diffusion 3.5 Large Turbo**                                                                 | **FLUX.1-Dev FP16**                                                                       |\n",
    "|----------------------------|-----------------------------------------------------------------------------------------------------|-------------------------------------------------------------------------------------------|\n",
    "| **API Endpoint**           | `stabilityai/stable-diffusion-3-5-large-turbo`                                                     | `black-forest-labs/FLUX.1-Dev-FP16`                                                     |\n",
    "| **Key API Parameters**     | `guidance_scale=3`, `num_inference_steps=4`, `negative_prompt`                                     | `num_inference_steps=8`, `control_image` (Canny/Depth), `true_cfg=4.0`                  |\n",
    "| **API Latency**            | 3.8–5.2 sec/image (cold start: 12–18 sec)                                                          | 6.1–8.9 sec/image (cold start: 15–22 sec)                                                |\n",
    "| **Cost Efficiency**        | $0.0021/image (PRO tier)                                                                           | $0.0033/image (PRO tier)                                                                 |\n",
    "| **Free Tier Limits**       | 500 requests/hour                                                                                  | 300 requests/hour                                                                        |\n",
    "| **Max Resolution**         | 1024x1024 via single API call                                                                      | 2048x2048 (requires `high_res_fix=true` parameter)                                       |\n",
    "| **Advanced Features**      | - 4-step inference <br> - Text-to-image only                                                       | - Unified ControlNet (Canny/Depth) <br> - Image-to-image <br> - Inpainting/Outpainting   |\n",
    "| **NSFW Filtering**         | Enabled by default (`safety_checker=strict`)                                                       | Optional (`safety_checker=relaxed`)                                                      |\n",
    "| **Rate Limits (PRO)**      | 5K requests/hour                                                                                   | 3K requests/hour                                                                         |\n",
    "| **Use Case Focus**         | Rapid batch generation (social media, prototyping)                                                 | High-detail workflows (product design, architectural viz)                                |\n",
    "\n",
    "#### using `SD-3.5-LT` because \n",
    "- latency is low\n",
    "- More requests\n",
    "- we want stialized images which is better on SD \n",
    "\n"
   ]
  },
  {
   "cell_type": "markdown",
   "metadata": {},
   "source": [
    "___\n",
    "___\n",
    "___"
   ]
  },
  {
   "cell_type": "markdown",
   "metadata": {},
   "source": [
    "# Groqq\n"
   ]
  },
  {
   "cell_type": "markdown",
   "metadata": {},
   "source": [
    "### Get **Summary**, **Characters** AND **Places** \n",
    "![Local Image](./media/Sudo_summary.png \"Smmary, characters and Places\")"
   ]
  },
  {
   "cell_type": "code",
   "execution_count": 1,
   "metadata": {},
   "outputs": [],
   "source": [
    "#IMPORTS\n",
    "from reader import ebook,read_list,read_json\n",
    "from typing import Optional,Dict,List\n",
    "import requests\n",
    "from dotenv import load_dotenv\n",
    "import json\n",
    "import os\n",
    "from pydantic import BaseModel, ValidationError\n",
    "from dataclasses import dataclass\n",
    "from groq import Groq"
   ]
  },
  {
   "cell_type": "code",
   "execution_count": 2,
   "metadata": {},
   "outputs": [],
   "source": [
    "#model init \n",
    "\n",
    "load_dotenv()\n",
    "API = os.getenv(\"HF_API\")\n",
    "GROQ= os.getenv(\"GROQ_API\")\n",
    "\n",
    "\n",
    "groq_client=Groq(api_key=GROQ,)\n",
    "\n",
    "headers = {\n",
    "    \"Authorization\": f\"Bearer {API}\",\n",
    "    \"Content-Type\": \"application/json\",\n",
    "}\n",
    "\n",
    "url = \"https://api-inference.huggingface.co/models/mistralai/Mistral-7B-Instruct-v0.3/v1/chat/completions\""
   ]
  },
  {
   "cell_type": "code",
   "execution_count": 3,
   "metadata": {},
   "outputs": [],
   "source": [
    "sum_role='''(NOTE: Only output in JSON. Ensure the JSON format is valid, well-formed, and Ready to parse. nothing before or after the json file)\n",
    "Input:  \n",
    "1.Current Chapter Text: The current chapter to be analyzed.\n",
    "2.Character List: A list of characters with their physical/visual descriptions till now (This chapter).\n",
    "3.Places list: list of places and their visual description till now (This chapter).\n",
    "4.Previous Chapters' Summary: Context from earlier chapters.\n",
    "\n",
    "Rules:  \n",
    "1.Narrative Summary: Summarize and explain the chapter in detail, integrating context and key developments from previous chapters and create a self containing summary and explaination. end with to be continued.\n",
    "2.Character List: add new characters to the list based on this chapter and Update existing character's physical/visual descriptions. If no characters are mentioned, return the same list as given.\n",
    "3.Places: Include an updated description of any significant locations mentioned in this chapter, focusing on environment, weather, vibe, and structure.\n",
    "4.Output Format: Ensure the output is valid and well-structured JSON.\n",
    "\n",
    "Output:  \n",
    "Generate a JSON object in this format:\n",
    "{\n",
    "  \"summary\": \"Detailed Summary and explination of the current chapter in context of previous chapters. Use previus chapter summary as context\",\n",
    "  \"characters\": {\n",
    "      \"Character Name\": \"Updated or new physical/visual description (age, looks, clothes, hair, body language) based on this chapter.\"\n",
    "    },\n",
    "  \"places\": {\n",
    "      \"Place Name\": \"Updated or new visual description (environment, weather, vibe, structure, etc.) based on this chapter.\"\n",
    "  }\n",
    "}\n",
    "'''"
   ]
  },
  {
   "cell_type": "markdown",
   "metadata": {},
   "source": [
    "### **get_sum()** Function\n",
    "![Local Image](./media/Get_sum_logic.png \"Smmary, characters and Places\")"
   ]
  },
  {
   "cell_type": "code",
   "execution_count": 22,
   "metadata": {},
   "outputs": [],
   "source": [
    "\n",
    "class SummarySchema(BaseModel):\n",
    "    summary: str\n",
    "    characters: Dict[str,str]\n",
    "    places: Dict[str,str]\n",
    "\n",
    "def sum_msg(text: str, role:str, context: str, characters: dict = {}, places: dict = {}) -> list:\n",
    "    message =[\n",
    "        {\n",
    "            \"role\": \"system\",\n",
    "            \"content\": f\"{role}, make sure the out follow the given json schema{json.dumps(SummarySchema.model_json_schema(), indent=2)}\",\n",
    "        },\n",
    "        {\n",
    "            \"role\": \"user\",\n",
    "            \"content\": json.dumps({\n",
    "                \"past_context\": context,\n",
    "                \"Current_Chapter\": text,\n",
    "                \"character_list\": characters,\n",
    "                \"places_list\": places\n",
    "            }),\n",
    "        },\n",
    "    ]\n",
    "    return message\n",
    "    \n",
    "def groq_sum(msg:str,validator:BaseModel):\n",
    "    \n",
    "    try:\n",
    "        completion = groq_client.chat.completions.create(\n",
    "            model=\"llama-3.1-8b-instant\",\n",
    "            messages=msg,\n",
    "            temperature=1,\n",
    "            max_completion_tokens=8000,\n",
    "            top_p=1,\n",
    "            stream=False,\n",
    "            stop=None,\n",
    "            response_format={\"type\": \"json_object\"},\n",
    "        )\n",
    "        \n",
    "    except Exception as e:\n",
    "        return (f\"Request error : {e}\")\n",
    "    \n",
    "    try:\n",
    "        validator.model_validate_json(completion.choices[0].message.content)\n",
    "        return completion.choices[0].message.content\n",
    "    except Exception as e:\n",
    "        return f\"Validation error : {e}\""
   ]
  },
  {
   "cell_type": "code",
   "execution_count": 20,
   "metadata": {},
   "outputs": [],
   "source": [
    "#text output_dict\n",
    "book=ebook(\"./books/stranger.pdf\")\n",
    "title=book.get_metadata()['title']\n",
    "_,text=zip(*book.get_chapters())\n",
    "text=text[:5]\n",
    "\n",
    "output_dict={\n",
    "    0:\n",
    "        {\n",
    "            \"summary\":\"There is no previous context\",\n",
    "            \"characters\":{},\n",
    "            \"places\": {}\n",
    "        }\n",
    "            }"
   ]
  },
  {
   "cell_type": "code",
   "execution_count": 24,
   "metadata": {},
   "outputs": [
    {
     "name": "stdout",
     "output_type": "stream",
     "text": [
      "490\n",
      "6491\n",
      "2685\n",
      "4337\n",
      "2365\n"
     ]
    },
    {
     "name": "stderr",
     "output_type": "stream",
     "text": [
      "[nltk_data] Downloading package punkt to /home/prince/nltk_data...\n",
      "[nltk_data]   Package punkt is already up-to-date!\n"
     ]
    }
   ],
   "source": [
    "import nltk\n",
    "from nltk.tokenize import word_tokenize\n",
    "\n",
    "nltk.download(\"punkt\")  # Download tokenizer model if needed\n",
    "\n",
    "for i in text:\n",
    "    tokens = word_tokenize(i)  # Better handling of punctuation\n",
    "    print(len(tokens))  # 8 (counts punctuation as separate tokens)\n",
    "\n"
   ]
  },
  {
   "cell_type": "code",
   "execution_count": 25,
   "metadata": {},
   "outputs": [
    {
     "name": "stdout",
     "output_type": "stream",
     "text": [
      "chapter: 0 done\n",
      "Error: Expecting value: line 1 column 1 (char 0)\n",
      "\n",
      "\n",
      "\n",
      "Request error : Error code: 413 - {'error': {'message': 'Request too large for model `llama-3.1-8b-instant` in organization `org_01jb0ynhzvfppr48n0wg2cxn9b` service tier `on_demand` on tokens per minute (TPM): Limit 6000, Requested 8613, please reduce your message size and try again. Visit https://console.groq.com/docs/rate-limits for more information.', 'type': 'tokens', 'code': 'rate_limit_exceeded'}}\n",
      "chapter: 1 done\n"
     ]
    },
    {
     "ename": "TypeError",
     "evalue": "'NoneType' object is not subscriptable",
     "output_type": "error",
     "traceback": [
      "\u001b[0;31m---------------------------------------------------------------------------\u001b[0m",
      "\u001b[0;31mTypeError\u001b[0m                                 Traceback (most recent call last)",
      "Cell \u001b[0;32mIn[25], line 6\u001b[0m\n\u001b[1;32m      4\u001b[0m     output_dict[idx\u001b[38;5;241m+\u001b[39m\u001b[38;5;241m1\u001b[39m]\u001b[38;5;241m=\u001b[39moutput_dict[idx]\n\u001b[1;32m      5\u001b[0m \u001b[38;5;28;01melse\u001b[39;00m:\n\u001b[0;32m----> 6\u001b[0m     context\u001b[38;5;241m=\u001b[39moutput_dict[idx][\u001b[38;5;124m\"\u001b[39m\u001b[38;5;124msummary\u001b[39m\u001b[38;5;124m\"\u001b[39m]\n\u001b[1;32m      7\u001b[0m     characters\u001b[38;5;241m=\u001b[39moutput_dict[idx][\u001b[38;5;124m\"\u001b[39m\u001b[38;5;124mcharacters\u001b[39m\u001b[38;5;124m\"\u001b[39m]\n\u001b[1;32m      8\u001b[0m     places\u001b[38;5;241m=\u001b[39moutput_dict[idx][\u001b[38;5;124m\"\u001b[39m\u001b[38;5;124mplaces\u001b[39m\u001b[38;5;124m\"\u001b[39m]\n",
      "\u001b[0;31mTypeError\u001b[0m: 'NoneType' object is not subscriptable"
     ]
    }
   ],
   "source": [
    "for idx,i in enumerate(text):\n",
    " \n",
    "    if len(i)<1200:\n",
    "        output_dict[idx+1]=output_dict[idx]\n",
    "    else:\n",
    "        context=output_dict[idx][\"summary\"]\n",
    "        characters=output_dict[idx][\"characters\"]\n",
    "        places=output_dict[idx][\"places\"]\n",
    "        \n",
    "        mes=sum_msg(\n",
    "            text=i,\n",
    "            role=sum_role,\n",
    "            context=context,\n",
    "            characters=characters,\n",
    "            places=places\n",
    "            )\n",
    "        \n",
    "        summary_characters=groq_sum(mes,validator=SummarySchema)\n",
    "        \n",
    "        output_json=read_json(summary_characters)\n",
    "        output_dict[idx+1]=output_json\n",
    "        \n",
    "    print(f\"chapter: {idx} done\")\n",
    "print(output_dict)"
   ]
  },
  {
   "cell_type": "code",
   "execution_count": 17,
   "metadata": {},
   "outputs": [
    {
     "name": "stdout",
     "output_type": "stream",
     "text": [
      "CHAPTER 1 :\n",
      "\n",
      "Characters:\n",
      "Narrator: The narrator is a grown-up who lives in France, feels hungry and cold, and is reminiscing about his childhood. He is a pilot who has traveled the world and has had many interactions with grown-ups.\n",
      "Leon Werth: Leon Werth is the friend to whom the narrator dedicates his book, and is remembered by the narrator as a little boy.\n",
      "The little voice: A mysterious voice that wakes the narrator up in the Sahara desert and asks him to draw a sheep.\n",
      "\n",
      "Places:\n",
      "France: The country where the narrator lives, and where he feels hungry and cold.\n",
      "The virgin forest: A jungle where boa constrictors live, which the narrator read about in a book called Stories of Life when he was six years old.\n",
      "The Sahara desert: A desert where the narrator had a breakdown six years ago, and where he was stranded with no one to talk to.\n",
      "\n",
      "Summary:\n",
      "The narrator, who lives in France and feels hungry and cold, dedicates his book to his friend Leon Werth when he was a little boy. He reminisces about his childhood, specifically when he was six years old and drew a picture of a boa constrictor digesting an elephant, but the grown-ups did not understand it and thought it was a hat. The narrator was discouraged and abandoned his dream of becoming a painter, instead learning to fly planes and traveling the world. However, he was disappointed by the lack of understanding from the grown-ups he met, who only saw his drawing as a hat. The narrator lived a solitary life until he had a breakdown in the Sahara desert six years ago, where he was stranded with no one to talk to. His life changed when a mysterious voice asked him to draw a sheep, which is where the story will continue. To be continued...\n",
      "\n",
      "-------------------------------------------------------------------------------------------------------------------\n",
      "CHAPTER 2 :\n",
      "\n",
      "Characters:\n",
      "Narrator: The narrator is a grown-up who lives in France, feels hungry and cold, and is reminiscing about his childhood. He is a pilot who has traveled the world and has had many interactions with grown-ups. He can be somewhat sarcastic and humorous, but also determined and resourceful.\n",
      "Leon Werth: Leon Werth is the friend to whom the narrator dedicates his book, and is remembered by the narrator as a little boy.\n",
      "The little voice: A mysterious voice that wakes the narrator up in the Sahara desert and asks him to draw a sheep. He is revealed to be a little prince, who is kind, gentle, and determined, but also mysterious and otherworldly.\n",
      "The little prince: A young boy who is the source of the little voice, and is kind, gentle, and determined. He is full of wonder and curiosity, and is not afraid to ask for what he wants.\n",
      "\n",
      "Places:\n",
      "France: The country where the narrator lives, and where he feels hungry and cold.\n",
      "The virgin forest: A jungle where boa constrictors live, which the narrator read about in a book called Stories of Life when he was six years old.\n",
      "The Sahara desert: A desert where the narrator had a breakdown six years ago, and where he was stranded with no one to talk to. The desert is vast, hot, and isolating, with nothing but sand and rock as far as the eye can see.\n",
      "\n",
      "Summary:\n",
      "The narrator, after being discouraged from becoming a painter as a child, learned to fly planes and traveled the world. He had many interactions with grown-ups, but they never truly understood him, always seeing his childhood drawing as a hat. The narrator lived a solitary life until his plane broke down in the Sahara desert six years ago. While stranded, he was surprised by a mysterious little voice asking him to draw a sheep. Despite his initial inability to draw, the little voice persisted, and the narrator eventually drew several sheep, each being rejected for various reasons. Finally, when the narrator drew a sheep inside a box, the little voice was satisfied, saying it was exactly what he wanted. The narrator then made the acquaintance of the little prince, who asked him many questions but never seemed to hear his in return. The narrator is still trying to understand where the little prince came from, and the little prince's words slowly reveal more about his story. To be continued...\n",
      "\n",
      "-------------------------------------------------------------------------------------------------------------------\n",
      "CHAPTER 3 :\n",
      "\n",
      "Characters:\n",
      "Narrator: The narrator is a grown-up who lives in France, feels hungry and cold, and is reminiscing about his childhood. He is a pilot who has traveled the world and has had many interactions with grown-ups. He can be somewhat sarcastic and humorous, but also determined and resourceful. He is intrigued by the little prince and is trying to learn more about him.\n",
      "Leon Werth: Leon Werth is the friend to whom the narrator dedicates his book, and is remembered by the narrator as a little boy. No new information is available about him in this chapter.\n",
      "The little voice: The little voice is revealed to be the little prince, who is kind, gentle, and determined, but also mysterious and otherworldly. He is full of wonder and curiosity, and is not afraid to ask for what he wants. He is amused by the narrator's statement that he came from heaven and is fascinated by the narrator's plane.\n",
      "The little prince: The little prince is a young boy who is the source of the little voice. He is kind, gentle, and determined, but also mysterious and otherworldly. He is full of wonder and curiosity, and is not afraid to ask for what he wants. He is from another planet, which is very small, and he wants to take the sheep the narrator drew for him back to his planet.\n",
      "\n",
      "Places:\n",
      "France: The country where the narrator lives, and where he feels hungry and cold. No new information is available about France in this chapter.\n",
      "The virgin forest: A jungle where boa constrictors live, which the narrator read about in a book called Stories of Life when he was six years old. No new information is available about the virgin forest in this chapter.\n",
      "The Sahara desert: A desert where the narrator had a breakdown six years ago, and where he was stranded with no one to talk to. The desert is vast, hot, and isolating, with nothing but sand and rock as far as the eye can see. The little prince and the narrator are currently in the Sahara desert, and the narrator is trying to learn more about the little prince's story.\n",
      "The little prince's home planet: A small planet, scarcely larger than a house, where the little prince is from. The planet is so small that one cannot go far on it, and the little prince wants to take the sheep the narrator drew for him back to his planet.\n",
      "\n",
      "Summary:\n",
      "The narrator continues to recount his encounter with the little prince in the Sahara desert. The little prince is fascinated by the narrator's plane and asks him where he comes from, to which the narrator replies that he came from heaven, which amuses the little prince. The little prince then reveals that he is from another planet, but does not disclose which one. The narrator is intrigued by this information and tries to learn more about the little prince's home planet. The little prince mentions that his planet is very small, scarcely larger than a house, and that he wants to take the sheep the narrator drew for him back to his planet. The narrator learns that the little prince's planet is one of the many small, unnamed planets in the universe, and that it is so small that one cannot go far on it. The little prince's words are slowly revealing more about his story, and the narrator is determined to understand where the little prince came from and what his story is. To be continued...\n",
      "\n",
      "-------------------------------------------------------------------------------------------------------------------\n"
     ]
    }
   ],
   "source": [
    "#print out_dict\n",
    "for num, dic in output_dict.items():\n",
    "    if num==0:\n",
    "        continue\n",
    "    print(f\"CHAPTER {num} :\\n\")\n",
    "    \n",
    "    sum,char,places=dic.items()\n",
    "    print(\"Characters:\")\n",
    "    if len(char)>0 :\n",
    "        for name,i in char[1].items():\n",
    "            print(f\"{name}: {i}\")\n",
    "    \n",
    "    print(\"\\nPlaces:\")\n",
    "    if len(places)>0:\n",
    "        for name,i in places[1].items():\n",
    "            print(f\"{name}: {i}\")\n",
    "    print(f\"\\nSummary:\\n{sum[1]}\")\n",
    "    print(\"\\n-------------------------------------------------------------------------------------------------------------------\")"
   ]
  },
  {
   "cell_type": "markdown",
   "metadata": {},
   "source": [
    "### Get **Scenes**\n",
    "![Local Image](./media/Sudo_summary.png )"
   ]
  },
  {
   "cell_type": "code",
   "execution_count": 18,
   "metadata": {},
   "outputs": [
    {
     "name": "stdout",
     "output_type": "stream",
     "text": [
      "{'properties': {'scenes': {'additionalProperties': {'type': 'string'}, 'title': 'Scenes', 'type': 'object'}}, 'required': ['scenes'], 'title': 'SceneSchema', 'type': 'object'}\n"
     ]
    }
   ],
   "source": [
    "class SceneSchema(BaseModel):\n",
    "    scenes: Dict[str,str]\n",
    "print(SceneSchema.model_json_schema())"
   ]
  },
  {
   "cell_type": "code",
   "execution_count": 19,
   "metadata": {},
   "outputs": [],
   "source": [
    "scene_role=''' \n",
    "Analyze the input text and:  \n",
    "1. Detect Scene Changes: Identify shifts in location, time, or significant events.  \n",
    "2. Generate Scene Prompts: For each scene, create a text-to-image prompt capturing:  \n",
    "   - Subject: Characters, objects, appearances.  \n",
    "   - Setting: Location, time, weather, lighting.  \n",
    "   - Action/Emotion: Key actions and emotional tone.  \n",
    "   - Symbolism/Subtext: Hidden themes or foreshadowing.  \n",
    "   - Style: Artistic medium, color palette, composition.  \n",
    "3. Output JSON: Return a JSON list   \n",
    "\n",
    "Key Features \n",
    "1. Scene Detection: Splits input into scenes based on time/location shifts (e.g., \"next morning,\" \"that night\").  \n",
    "2. Precision: Captures character details, environmental cues, and subtext (e.g., owls = magical intrusion).  \n",
    "3. Style Flexibility: Specifies artistic styles (realism, fantasy) and references (Hopper, Crewdson).  \n",
    "4. JSON Ready: Outputs a parseable list for automated workflows.  \n",
    "\n",
    "Output Format:  \n",
    "{ \n",
    "  \"scene\":\"[Detailed text-to-image prompt]\",  \n",
    "}  \n",
    "\n",
    "Example Input:  \n",
    "\"The Dursleys lay in bed, Vernon awake and anxious while Petunia slept. The next morning, he walked to work, spotting cloaked figures whispering on the street. That night, owls flooded the sky, dropping letters on rooftops.\"\n",
    "\n",
    "Example Output:  \n",
    "{\n",
    "    \"scene1\":\"Highly detailed digital painting of a dim suburban bedroom at night. A middle-aged man (Vernon Dursley) in stiff pajamas lies rigidly awake, hands clasped over his chest, staring at the ceiling with a furrowed brow. Beside him, a plump woman (Petunia Dursley) sleeps under a floral quilt, her face pinched. Faint orange streetlamp glow filters through half-closed curtains, casting shadows on dated wallpaper. Rain streaks the window, revealing distant storm clouds. Mood: Tense and uneasy. Style: Realistic with muted tones (slate grays, mustard yellows), chiaroscuro lighting, Edward Hopper-inspired composition.\",\n",
    "    \"scene2\": \"Photorealistic morning street scene. Vernon Dursley, in a crisp suit, strides down a damp suburban sidewalk, glancing nervously at cloaked figures whispering in the background. Overcast sky, puddles reflecting muted light. Mood: Suspicious and mundane. Style: Cool gray and green tones, wide-angle shot, Gregory Crewdson-inspired cinematic realism.\" ,\n",
    "    \"scene3\": \"Fantasy night scene. Hundreds of owls darken the sky, swooping over rooftops and dropping envelopes. Moonlight illuminates swirling feathers and letters raining onto a suburban neighborhood. Mood: Surreal and ominous. Style: Dark fantasy digital painting, deep blues and silvers, dynamic motion blur, inspired by John Howe.\",\n",
    "}  \n",
    "'''"
   ]
  },
  {
   "cell_type": "code",
   "execution_count": 20,
   "metadata": {},
   "outputs": [],
   "source": [
    "def scene_msg(text: str) -> list:\n",
    "    message = [\n",
    "        {\n",
    "            \"role\": \"system\",\n",
    "            \"content\":f''' {scene_role} make sure the output follow the given json schema  {json.dumps(SceneSchema.model_json_schema(), indent=2)}''',\n",
    "        },\n",
    "        \n",
    "        {\n",
    "            \"role\": \"user\",\n",
    "            \"content\": text,  # This should be your input text that describes the scenes\n",
    "        },]\n",
    "        \n",
    "    return message"
   ]
  },
  {
   "cell_type": "code",
   "execution_count": 21,
   "metadata": {},
   "outputs": [
    {
     "name": "stdout",
     "output_type": "stream",
     "text": [
      "--Genrating Scenes per chapter--\n",
      "{\n",
      "   \"scenes\": {\n",
      "      \"scene1\": \"A watercolor illustration of a child's bedroom at night, with a six-year-old boy sitting at a desk, drawing with a colored pencil. A book lies open in front of him, showing a picture of a boa constrictor swallowing a wild beast. The room is dimly lit, with a single bedside lamp casting a warm glow. Mood: Curious and imaginative. Style: Whimsical, with loose brushstrokes and muted colors, inspired by Beatrix Potter.\",\n",
      "      \"scene2\": \"A realistic depiction of a boa constrictor digesting an elephant, drawn in a child's scribble style. The boa constrictor is shown with a large lump in its body, and the elephant's legs and tail are visible inside. The background is a warm, sunny yellow, representing the jungle. Mood: Playful and humorous. Style: Naive, with bold lines and bright colors, inspired by children's drawings.\",\n",
      "      \"scene3\": \"A portrait of the narrator as a grown-up, standing in front of a map of the world, wearing a pilot's uniform and holding a pair of binoculars. The map shows various locations marked with pins and strings, indicating his travels. The background is a deep blue, representing the sky. Mood: Adventurous and confident. Style: Realistic, with precise details and a sense of depth, inspired by National Geographic photography.\",\n",
      "      \"scene4\": \"A surreal illustration of the narrator's plane breaking down in the Sahara desert, with the engine smoking and the pilot standing next to it, looking worried. The sun beats down relentlessly, casting a harsh shadow on the sand. Mood: Desolate and ominous. Style: Dreamlike, with distorted proportions and vibrant colors, inspired by Salvador Dali.\",\n",
      "      \"scene5\": \"A heartwarming scene of the narrator meeting a young boy in the desert, who asks him to draw a sheep. The boy is shown standing in front of the narrator, looking up at him with a curious expression. The background is a warm, golden brown, representing the desert sand. Mood: Surprised and delighted. Style: Tender, with soft brushstrokes and a sense of intimacy, inspired by Norman Rockwell.\"\n",
      "   }\n",
      "}\n",
      "chapter: 1 Done\n",
      "{\n",
      "   \"scenes\": {\n",
      "      \"scene1\": \"Detailed digital painting of a dimly lit cockpit at night. A middle-aged man, the narrator, sits in the pilot's seat, looking out at the stars with a mixture of wonder and unease. The dashboard glows with soft blue lights, and the window reflects the curvature of the Earth. Mood: Contemplative and nostalgic. Style: Realistic with muted tones, inspired by the works of Edward Hopper.\",\n",
      "      \"scene2\": \"Watercolor illustration of a young boy, the little prince, standing in the middle of the Sahara desert, looking up at the narrator with an air of curiosity. The sun beats down on the sand, casting a warm glow over the scene. The little prince wears a long coat and a wide-brimmed hat, and carries a small suitcase. Mood: Innocent and inquisitive. Style: Whimsical with vibrant colors, inspired by the works of Antoine de Saint-Exupéry.\",\n",
      "      \"scene3\": \"Fantasy illustration of the little prince and the narrator sitting on the sand, surrounded by scraps of paper and broken engine parts. The little prince looks at the narrator's drawings with a critical eye, while the narrator appears frazzled and frustrated. The sky above is a deep shade of blue, with a few wispy clouds drifting lazily by. Mood: Humorous and lighthearted. Style: Cartoonish with bold lines and bright colors, inspired by the works of Quentin Blake.\",\n",
      "      \"scene4\": \"Dreamlike illustration of the little prince leaning over the narrator's drawing, a look of joy and wonder on his face. The drawing depicts a sheep in a box, and the little prince's eyes shine with delight. The background is a soft, gradient blue, with stars twinkling like diamonds. Mood: Enchanted and peaceful. Style: Surrealistic with soft textures and muted colors, inspired by the works of René Magritte.\"\n",
      "   }\n",
      "}\n",
      "chapter: 2 Done\n",
      "{\n",
      "   \"scenes\": {\n",
      "      \"scene1\": \"Watercolor illustration of a quiet desert landscape at sunset. A man sits next to a crashed plane, looking at a drawing. A small, curious prince stands beside him, asking questions. Warm, golden light casts long shadows. Mood: Contemplative and inquisitive. Style: Whimsical, childlike, with hints of Beatrix Potter's storytelling.\",\n",
      "      \"scene2\": \"Digital painting of the little prince's first encounter with the plane. The prince stands in awe, looking up at the complex machine, while the narrator proudly explains its purpose. A vast, starry sky serves as the backdrop. Mood: Wonder and curiosity. Style: Realistic with vibrant colors, inspired by the works of Syd Mead.\",\n",
      "      \"scene3\": \"Mixed-media art depicting the little prince's laughter and the narrator's slight irritation. The prince holds his belly, laughing, as the narrator looks on with a mix of amusement and annoyance. Soft, pastel colors dominate the scene. Mood: Amusing and slightly tense. Style: Quirky, with textures reminiscent of handmade paper and ink.\",\n",
      "      \"scene4\": \"Fantasy illustration of the little prince lost in thought, staring at the plane. The landscape around him fades into a gentle, dreamy haze. A few stars twinkle in the sky. Mood: Pensive and mystical. Style: Ethereal, with glowing colors and soft brushstrokes, inspired by the works of Mark Rothko.\",\n",
      "      \"scene5\": \"Colored pencil drawing of the little prince holding the sheep, surrounded by a halo of soft light. The narrator looks on, intrigued by the prince's stories of other planets. A subtle, gradient sky transitions from blue to purple. Mood: Enchanted and inquisitive. Style: Delicate, with intricate details and a touch of magic realism.\",\n",
      "      \"scene6\": \"Pencil sketch of the little prince and the narrator discussing the sheep's 'house' and the idea of tying it up. The prince's laughter and the narrator's confusion are palpable. A few, scattered stars shine in the night sky. Mood: Playful and slightly absurd. Style: Simple, with bold lines and a focus on the characters' emotions, inspired by the works of Quentin Blake.\",\n",
      "      \"scene7\": \"Cosmic, digital artwork representing the little prince's home planet, small and fragile in the vastness of space. A few, distant stars serve as a reminder of the planet's isolation. Mood: Melancholic and contemplative. Style: Dark, with deep blues and purples, and a sense of scale that emphasizes the planet's tiny size, inspired by the works of Simon Stalenhag.\"\n",
      "   }\n",
      "}\n",
      "chapter: 3 Done\n",
      "{\n",
      "   \"scenes\": {\n",
      "      \"scene1\": \"Watercolor illustration of a little prince and the narrator standing in a vast, empty landscape, with the little prince holding a rope and a picket. The little prince has a surprised and amused expression, while the narrator looks on with a mixture of confusion and curiosity. Mood: Whimsical and inquisitive. Style: childlike, with muted earth tones and loose brushstrokes, inspired by Antoine de Saint-Exupéry.\",\n",
      "      \"scene2\": \"Detailed digital painting of the asteroid B 612, a small, rocky planet with a few volcanoes and a vast, empty landscape. The sky is a deep shade of blue, with a few stars twinkling in the distance. Mood: Desolate and melancholic. Style: Realistic, with a focus on textures and atmospheric perspective, inspired by space exploration photography.\",\n",
      "      \"scene3\": \"Mixed media illustration of the little prince's planet, with a small house, a few trees, and a vast, empty landscape. The little prince is shown standing in the distance, looking out at the viewer with a sense of longing. Mood: Nostalgic and wistful. Style: A combination of traditional and digital media, with a focus on expressive brushstrokes and muted colors, inspired by the works of Shaun Tan.\",\n",
      "      \"scene4\": \"Simple, yet evocative line drawing of the little prince and the narrator sitting together, looking up at the stars. The little prince is shown holding a small, delicate sheep, while the narrator looks on with a sense of wonder. Mood: Contemplative and peaceful. Style: Minimalist, with a focus on simple lines and gentle textures, inspired by the works of Quentin Blake.\",\n",
      "      \"scene5\": \"Vibrant, expressive painting of the little prince's journey, with the little prince shown standing on a small, rocky outcropping, looking out at a vast, starry expanse. The sky is a deep shade of blue, with a few stars twinkling in the distance. Mood: Exhilarating and expansive. Style: Expressionist, with a focus on bold colors and energetic brushstrokes, inspired by the works of Marc Chagall.\"\n",
      "   }\n",
      "}\n",
      "chapter: 4 Done\n",
      "{\n",
      "   \"scenes\": {\n",
      "      \"scene1\": \"A watercolor illustration of a small, isolated planet with a single, tiny figure standing on it. The little prince, a young boy with a gentle face, looks out at the viewer with a sense of longing. The sky is a deep shade of blue, with a few wispy clouds. In the distance, a small sun rises, casting a warm glow. Mood: Wistful and contemplative. Style: Whimsical, childlike, with gentle brushstrokes and muted colors, reminiscent of a fairy tale.\",\n",
      "      \"scene2\": \"A detailed drawing of a baobab tree, its trunk thick and gnarled, its branches twisted and tangled. The tree towers over the surrounding landscape, its roots digging deep into the earth. In the background, the little prince stands, looking up at the tree with a sense of concern. Mood: Ominous and foreboding. Style: Realistic, with bold lines and dark shadows, inspired by the works of John Howe.\",\n",
      "      \"scene3\": \"A beautiful, dreamlike illustration of the little prince standing on his planet, watching a sunset. The sky is ablaze with color, oranges, pinks, and purples swirling together in a vibrant dance. The little prince's face is tilted upwards, his eyes closed in rapture, as he drinks in the beauty of the scene. Mood: Peaceful and serene. Style: Fantastical, with loose brushstrokes and vibrant colors, inspired by the works of Marc Chagall.\",\n",
      "      \"scene4\": \"A simple, yet powerful drawing of the little prince, sitting on a rock, looking out at the viewer with a sense of melancholy. His face is drawn, his eyes sad, as he reflects on his life and his journey. In the background, the stars twinkle like diamonds, a reminder of the vastness of the universe. Mood: Reflective and introspective. Style: Minimalist, with clean lines and simple shapes, inspired by the works of Edward Hopper.\"\n",
      "   }\n",
      "}\n",
      "chapter: 5 Done\n"
     ]
    }
   ],
   "source": [
    "scene_output_list=[]\n",
    "print(\"--Genrating Scenes per chapter--\")\n",
    "for idx,i in enumerate(text):\n",
    "    inputs=i.replace(\"\\n\",\" \")\n",
    "    scene_message = scene_msg(inputs)\n",
    "    scene_output=groq_sum(msg=scene_message,validator=SceneSchema)\n",
    "    if scene_output is None:\n",
    "        print(\"None\")\n",
    "        continue\n",
    "    print(scene_output)\n",
    "    scene_json_output=read_json(scene_output)\n",
    "    scene_output_list.append(scene_json_output)\n",
    "    print(f\"chapter: {idx+1} Done\")"
   ]
  },
  {
   "cell_type": "code",
   "execution_count": 46,
   "metadata": {},
   "outputs": [
    {
     "data": {
      "text/plain": [
       "[[\"A watercolor illustration of a child's bedroom at night, with a six-year-old boy sitting at a desk, drawing with a colored pencil. A book lies open in front of him, showing a picture of a boa constrictor swallowing a wild beast. The room is dimly lit, with a single bedside lamp casting a warm glow. Mood: Curious and imaginative. Style: Whimsical, with loose brushstrokes and muted colors, inspired by Beatrix Potter.\",\n",
       "  \"A realistic depiction of a boa constrictor digesting an elephant, drawn in a child's scribble style. The boa constrictor is shown with a large lump in its body, and the elephant's legs and tail are visible inside. The background is a warm, sunny yellow, representing the jungle. Mood: Playful and humorous. Style: Naive, with bold lines and bright colors, inspired by children's drawings.\",\n",
       "  \"A portrait of the narrator as a grown-up, standing in front of a map of the world, wearing a pilot's uniform and holding a pair of binoculars. The map shows various locations marked with pins and strings, indicating his travels. The background is a deep blue, representing the sky. Mood: Adventurous and confident. Style: Realistic, with precise details and a sense of depth, inspired by National Geographic photography.\",\n",
       "  \"A surreal illustration of the narrator's plane breaking down in the Sahara desert, with the engine smoking and the pilot standing next to it, looking worried. The sun beats down relentlessly, casting a harsh shadow on the sand. Mood: Desolate and ominous. Style: Dreamlike, with distorted proportions and vibrant colors, inspired by Salvador Dali.\",\n",
       "  'A heartwarming scene of the narrator meeting a young boy in the desert, who asks him to draw a sheep. The boy is shown standing in front of the narrator, looking up at him with a curious expression. The background is a warm, golden brown, representing the desert sand. Mood: Surprised and delighted. Style: Tender, with soft brushstrokes and a sense of intimacy, inspired by Norman Rockwell.'],\n",
       " [\"Detailed digital painting of a dimly lit cockpit at night. A middle-aged man, the narrator, sits in the pilot's seat, looking out at the stars with a mixture of wonder and unease. The dashboard glows with soft blue lights, and the window reflects the curvature of the Earth. Mood: Contemplative and nostalgic. Style: Realistic with muted tones, inspired by the works of Edward Hopper.\",\n",
       "  'Watercolor illustration of a young boy, the little prince, standing in the middle of the Sahara desert, looking up at the narrator with an air of curiosity. The sun beats down on the sand, casting a warm glow over the scene. The little prince wears a long coat and a wide-brimmed hat, and carries a small suitcase. Mood: Innocent and inquisitive. Style: Whimsical with vibrant colors, inspired by the works of Antoine de Saint-Exupéry.',\n",
       "  \"Fantasy illustration of the little prince and the narrator sitting on the sand, surrounded by scraps of paper and broken engine parts. The little prince looks at the narrator's drawings with a critical eye, while the narrator appears frazzled and frustrated. The sky above is a deep shade of blue, with a few wispy clouds drifting lazily by. Mood: Humorous and lighthearted. Style: Cartoonish with bold lines and bright colors, inspired by the works of Quentin Blake.\",\n",
       "  \"Dreamlike illustration of the little prince leaning over the narrator's drawing, a look of joy and wonder on his face. The drawing depicts a sheep in a box, and the little prince's eyes shine with delight. The background is a soft, gradient blue, with stars twinkling like diamonds. Mood: Enchanted and peaceful. Style: Surrealistic with soft textures and muted colors, inspired by the works of René Magritte.\"],\n",
       " [\"Watercolor illustration of a quiet desert landscape at sunset. A man sits next to a crashed plane, looking at a drawing. A small, curious prince stands beside him, asking questions. Warm, golden light casts long shadows. Mood: Contemplative and inquisitive. Style: Whimsical, childlike, with hints of Beatrix Potter's storytelling.\",\n",
       "  \"Digital painting of the little prince's first encounter with the plane. The prince stands in awe, looking up at the complex machine, while the narrator proudly explains its purpose. A vast, starry sky serves as the backdrop. Mood: Wonder and curiosity. Style: Realistic with vibrant colors, inspired by the works of Syd Mead.\",\n",
       "  \"Mixed-media art depicting the little prince's laughter and the narrator's slight irritation. The prince holds his belly, laughing, as the narrator looks on with a mix of amusement and annoyance. Soft, pastel colors dominate the scene. Mood: Amusing and slightly tense. Style: Quirky, with textures reminiscent of handmade paper and ink.\",\n",
       "  'Fantasy illustration of the little prince lost in thought, staring at the plane. The landscape around him fades into a gentle, dreamy haze. A few stars twinkle in the sky. Mood: Pensive and mystical. Style: Ethereal, with glowing colors and soft brushstrokes, inspired by the works of Mark Rothko.',\n",
       "  \"Colored pencil drawing of the little prince holding the sheep, surrounded by a halo of soft light. The narrator looks on, intrigued by the prince's stories of other planets. A subtle, gradient sky transitions from blue to purple. Mood: Enchanted and inquisitive. Style: Delicate, with intricate details and a touch of magic realism.\",\n",
       "  \"Pencil sketch of the little prince and the narrator discussing the sheep's 'house' and the idea of tying it up. The prince's laughter and the narrator's confusion are palpable. A few, scattered stars shine in the night sky. Mood: Playful and slightly absurd. Style: Simple, with bold lines and a focus on the characters' emotions, inspired by the works of Quentin Blake.\",\n",
       "  \"Cosmic, digital artwork representing the little prince's home planet, small and fragile in the vastness of space. A few, distant stars serve as a reminder of the planet's isolation. Mood: Melancholic and contemplative. Style: Dark, with deep blues and purples, and a sense of scale that emphasizes the planet's tiny size, inspired by the works of Simon Stalenhag.\"],\n",
       " ['Watercolor illustration of a little prince and the narrator standing in a vast, empty landscape, with the little prince holding a rope and a picket. The little prince has a surprised and amused expression, while the narrator looks on with a mixture of confusion and curiosity. Mood: Whimsical and inquisitive. Style: childlike, with muted earth tones and loose brushstrokes, inspired by Antoine de Saint-Exupéry.',\n",
       "  'Detailed digital painting of the asteroid B 612, a small, rocky planet with a few volcanoes and a vast, empty landscape. The sky is a deep shade of blue, with a few stars twinkling in the distance. Mood: Desolate and melancholic. Style: Realistic, with a focus on textures and atmospheric perspective, inspired by space exploration photography.',\n",
       "  \"Mixed media illustration of the little prince's planet, with a small house, a few trees, and a vast, empty landscape. The little prince is shown standing in the distance, looking out at the viewer with a sense of longing. Mood: Nostalgic and wistful. Style: A combination of traditional and digital media, with a focus on expressive brushstrokes and muted colors, inspired by the works of Shaun Tan.\",\n",
       "  'Simple, yet evocative line drawing of the little prince and the narrator sitting together, looking up at the stars. The little prince is shown holding a small, delicate sheep, while the narrator looks on with a sense of wonder. Mood: Contemplative and peaceful. Style: Minimalist, with a focus on simple lines and gentle textures, inspired by the works of Quentin Blake.',\n",
       "  \"Vibrant, expressive painting of the little prince's journey, with the little prince shown standing on a small, rocky outcropping, looking out at a vast, starry expanse. The sky is a deep shade of blue, with a few stars twinkling in the distance. Mood: Exhilarating and expansive. Style: Expressionist, with a focus on bold colors and energetic brushstrokes, inspired by the works of Marc Chagall.\"]]"
      ]
     },
     "execution_count": 46,
     "metadata": {},
     "output_type": "execute_result"
    }
   ],
   "source": [
    "outputs=[]\n",
    "# scene_output_list[0]['scenes']\n",
    "for i in scene_output_list:\n",
    "    # print(i[\"scenes\"].values())\n",
    "    outputs.append(list(i[\"scenes\"].values()))\n",
    "outputs"
   ]
  },
  {
   "cell_type": "markdown",
   "metadata": {},
   "source": [
    "### Image"
   ]
  },
  {
   "cell_type": "markdown",
   "metadata": {},
   "source": [
    "### Loop Logic\n",
    "![Local Image](./media/Image_Loop.png )"
   ]
  },
  {
   "cell_type": "code",
   "execution_count": 49,
   "metadata": {},
   "outputs": [],
   "source": [
    "from huggingface_hub import InferenceClient\n",
    "import time\n"
   ]
  },
  {
   "cell_type": "code",
   "execution_count": 50,
   "metadata": {},
   "outputs": [],
   "source": [
    "client = InferenceClient(\n",
    "    # model=\"strangerzonehf/Qs-Sketch\",\n",
    "    model=\"strangerzonehf/Flux-Sketch-Sized-LoRA\",\n",
    "    token=API,\n",
    ")"
   ]
  },
  {
   "cell_type": "code",
   "execution_count": 56,
   "metadata": {},
   "outputs": [],
   "source": [
    "def get_images(key, text,tag,characters,places):\n",
    "    image = client.text_to_image(\n",
    "        f\"Text: {text}// context-> characters: {characters}, places:{places}\",\n",
    "        # negative_prompt=\"hand,feet,text,written,shinny,artificial,unnatural,plastic,words,letters\",\n",
    "        height=480,\n",
    "        width= 480,\n",
    "        # guidance_scale=2,\n",
    "        # num_inference_steps=10\n",
    "        \n",
    "    )\n",
    "    image.save(f\"./output/1Sketch_{title}_{key}_{tag}.png\")"
   ]
  },
  {
   "cell_type": "markdown",
   "metadata": {},
   "source": [
    "### Get **Image**\n",
    "![Local Image](./media/Get_img_logic.png )"
   ]
  },
  {
   "cell_type": "code",
   "execution_count": 57,
   "metadata": {},
   "outputs": [
    {
     "name": "stdout",
     "output_type": "stream",
     "text": [
      "C0S1 saved. tag :  \n",
      "    prompt:Detailed digital painting of a dimly lit cockpit at night. A middle-aged man, the narrator, sits in the pilot's seat, looking out at the stars with a mixture of wonder and unease. The dashboard glows with soft blue lights, and the window reflects the curvature of the Earth. Mood: Contemplative and nostalgic. Style: Realistic with muted tones, inspired by the works of Edward Hopper. \n",
      "    characters:{'Narrator': 'The narrator is a grown-up who lives in France, feels hungry and cold, and is reminiscing about his childhood. He is a pilot who has traveled the world and has had many interactions with grown-ups.', 'Leon Werth': 'Leon Werth is the friend to whom the narrator dedicates his book, and is remembered by the narrator as a little boy.', 'The little voice': 'A mysterious voice that wakes the narrator up in the Sahara desert and asks him to draw a sheep.'}\n",
      "    places:{'France': 'The country where the narrator lives, and where he feels hungry and cold.', 'The virgin forest': 'A jungle where boa constrictors live, which the narrator read about in a book called Stories of Life when he was six years old.', 'The Sahara desert': 'A desert where the narrator had a breakdown six years ago, and where he was stranded with no one to talk to.'}\n",
      "C0S2 saved. tag :  \n",
      "    prompt:Watercolor illustration of a young boy, the little prince, standing in the middle of the Sahara desert, looking up at the narrator with an air of curiosity. The sun beats down on the sand, casting a warm glow over the scene. The little prince wears a long coat and a wide-brimmed hat, and carries a small suitcase. Mood: Innocent and inquisitive. Style: Whimsical with vibrant colors, inspired by the works of Antoine de Saint-Exupéry. \n",
      "    characters:{'Narrator': 'The narrator is a grown-up who lives in France, feels hungry and cold, and is reminiscing about his childhood. He is a pilot who has traveled the world and has had many interactions with grown-ups.', 'Leon Werth': 'Leon Werth is the friend to whom the narrator dedicates his book, and is remembered by the narrator as a little boy.', 'The little voice': 'A mysterious voice that wakes the narrator up in the Sahara desert and asks him to draw a sheep.'}\n",
      "    places:{'France': 'The country where the narrator lives, and where he feels hungry and cold.', 'The virgin forest': 'A jungle where boa constrictors live, which the narrator read about in a book called Stories of Life when he was six years old.', 'The Sahara desert': 'A desert where the narrator had a breakdown six years ago, and where he was stranded with no one to talk to.'}\n",
      "C0S3 saved. tag :  \n",
      "    prompt:Fantasy illustration of the little prince and the narrator sitting on the sand, surrounded by scraps of paper and broken engine parts. The little prince looks at the narrator's drawings with a critical eye, while the narrator appears frazzled and frustrated. The sky above is a deep shade of blue, with a few wispy clouds drifting lazily by. Mood: Humorous and lighthearted. Style: Cartoonish with bold lines and bright colors, inspired by the works of Quentin Blake. \n",
      "    characters:{'Narrator': 'The narrator is a grown-up who lives in France, feels hungry and cold, and is reminiscing about his childhood. He is a pilot who has traveled the world and has had many interactions with grown-ups.', 'Leon Werth': 'Leon Werth is the friend to whom the narrator dedicates his book, and is remembered by the narrator as a little boy.', 'The little voice': 'A mysterious voice that wakes the narrator up in the Sahara desert and asks him to draw a sheep.'}\n",
      "    places:{'France': 'The country where the narrator lives, and where he feels hungry and cold.', 'The virgin forest': 'A jungle where boa constrictors live, which the narrator read about in a book called Stories of Life when he was six years old.', 'The Sahara desert': 'A desert where the narrator had a breakdown six years ago, and where he was stranded with no one to talk to.'}\n",
      "C0S4 saved. tag :  \n",
      "    prompt:Dreamlike illustration of the little prince leaning over the narrator's drawing, a look of joy and wonder on his face. The drawing depicts a sheep in a box, and the little prince's eyes shine with delight. The background is a soft, gradient blue, with stars twinkling like diamonds. Mood: Enchanted and peaceful. Style: Surrealistic with soft textures and muted colors, inspired by the works of René Magritte. \n",
      "    characters:{'Narrator': 'The narrator is a grown-up who lives in France, feels hungry and cold, and is reminiscing about his childhood. He is a pilot who has traveled the world and has had many interactions with grown-ups.', 'Leon Werth': 'Leon Werth is the friend to whom the narrator dedicates his book, and is remembered by the narrator as a little boy.', 'The little voice': 'A mysterious voice that wakes the narrator up in the Sahara desert and asks him to draw a sheep.'}\n",
      "    places:{'France': 'The country where the narrator lives, and where he feels hungry and cold.', 'The virgin forest': 'A jungle where boa constrictors live, which the narrator read about in a book called Stories of Life when he was six years old.', 'The Sahara desert': 'A desert where the narrator had a breakdown six years ago, and where he was stranded with no one to talk to.'}\n",
      "C1S1 saved. tag :  \n",
      "    prompt:Watercolor illustration of a quiet desert landscape at sunset. A man sits next to a crashed plane, looking at a drawing. A small, curious prince stands beside him, asking questions. Warm, golden light casts long shadows. Mood: Contemplative and inquisitive. Style: Whimsical, childlike, with hints of Beatrix Potter's storytelling. \n",
      "    characters:{'Narrator': 'The narrator is a grown-up who lives in France, feels hungry and cold, and is reminiscing about his childhood. He is a pilot who has traveled the world and has had many interactions with grown-ups. He can be somewhat sarcastic and humorous, but also determined and resourceful.', 'Leon Werth': 'Leon Werth is the friend to whom the narrator dedicates his book, and is remembered by the narrator as a little boy.', 'The little voice': 'A mysterious voice that wakes the narrator up in the Sahara desert and asks him to draw a sheep. He is revealed to be a little prince, who is kind, gentle, and determined, but also mysterious and otherworldly.', 'The little prince': 'A young boy who is the source of the little voice, and is kind, gentle, and determined. He is full of wonder and curiosity, and is not afraid to ask for what he wants.'}\n",
      "    places:{'France': 'The country where the narrator lives, and where he feels hungry and cold.', 'The virgin forest': 'A jungle where boa constrictors live, which the narrator read about in a book called Stories of Life when he was six years old.', 'The Sahara desert': 'A desert where the narrator had a breakdown six years ago, and where he was stranded with no one to talk to. The desert is vast, hot, and isolating, with nothing but sand and rock as far as the eye can see.'}\n",
      "C1S2 saved. tag :  \n",
      "    prompt:Digital painting of the little prince's first encounter with the plane. The prince stands in awe, looking up at the complex machine, while the narrator proudly explains its purpose. A vast, starry sky serves as the backdrop. Mood: Wonder and curiosity. Style: Realistic with vibrant colors, inspired by the works of Syd Mead. \n",
      "    characters:{'Narrator': 'The narrator is a grown-up who lives in France, feels hungry and cold, and is reminiscing about his childhood. He is a pilot who has traveled the world and has had many interactions with grown-ups. He can be somewhat sarcastic and humorous, but also determined and resourceful.', 'Leon Werth': 'Leon Werth is the friend to whom the narrator dedicates his book, and is remembered by the narrator as a little boy.', 'The little voice': 'A mysterious voice that wakes the narrator up in the Sahara desert and asks him to draw a sheep. He is revealed to be a little prince, who is kind, gentle, and determined, but also mysterious and otherworldly.', 'The little prince': 'A young boy who is the source of the little voice, and is kind, gentle, and determined. He is full of wonder and curiosity, and is not afraid to ask for what he wants.'}\n",
      "    places:{'France': 'The country where the narrator lives, and where he feels hungry and cold.', 'The virgin forest': 'A jungle where boa constrictors live, which the narrator read about in a book called Stories of Life when he was six years old.', 'The Sahara desert': 'A desert where the narrator had a breakdown six years ago, and where he was stranded with no one to talk to. The desert is vast, hot, and isolating, with nothing but sand and rock as far as the eye can see.'}\n",
      "C1S3 saved. tag :  \n",
      "    prompt:Mixed-media art depicting the little prince's laughter and the narrator's slight irritation. The prince holds his belly, laughing, as the narrator looks on with a mix of amusement and annoyance. Soft, pastel colors dominate the scene. Mood: Amusing and slightly tense. Style: Quirky, with textures reminiscent of handmade paper and ink. \n",
      "    characters:{'Narrator': 'The narrator is a grown-up who lives in France, feels hungry and cold, and is reminiscing about his childhood. He is a pilot who has traveled the world and has had many interactions with grown-ups. He can be somewhat sarcastic and humorous, but also determined and resourceful.', 'Leon Werth': 'Leon Werth is the friend to whom the narrator dedicates his book, and is remembered by the narrator as a little boy.', 'The little voice': 'A mysterious voice that wakes the narrator up in the Sahara desert and asks him to draw a sheep. He is revealed to be a little prince, who is kind, gentle, and determined, but also mysterious and otherworldly.', 'The little prince': 'A young boy who is the source of the little voice, and is kind, gentle, and determined. He is full of wonder and curiosity, and is not afraid to ask for what he wants.'}\n",
      "    places:{'France': 'The country where the narrator lives, and where he feels hungry and cold.', 'The virgin forest': 'A jungle where boa constrictors live, which the narrator read about in a book called Stories of Life when he was six years old.', 'The Sahara desert': 'A desert where the narrator had a breakdown six years ago, and where he was stranded with no one to talk to. The desert is vast, hot, and isolating, with nothing but sand and rock as far as the eye can see.'}\n",
      "C1S4 saved. tag :  \n",
      "    prompt:Fantasy illustration of the little prince lost in thought, staring at the plane. The landscape around him fades into a gentle, dreamy haze. A few stars twinkle in the sky. Mood: Pensive and mystical. Style: Ethereal, with glowing colors and soft brushstrokes, inspired by the works of Mark Rothko. \n",
      "    characters:{'Narrator': 'The narrator is a grown-up who lives in France, feels hungry and cold, and is reminiscing about his childhood. He is a pilot who has traveled the world and has had many interactions with grown-ups. He can be somewhat sarcastic and humorous, but also determined and resourceful.', 'Leon Werth': 'Leon Werth is the friend to whom the narrator dedicates his book, and is remembered by the narrator as a little boy.', 'The little voice': 'A mysterious voice that wakes the narrator up in the Sahara desert and asks him to draw a sheep. He is revealed to be a little prince, who is kind, gentle, and determined, but also mysterious and otherworldly.', 'The little prince': 'A young boy who is the source of the little voice, and is kind, gentle, and determined. He is full of wonder and curiosity, and is not afraid to ask for what he wants.'}\n",
      "    places:{'France': 'The country where the narrator lives, and where he feels hungry and cold.', 'The virgin forest': 'A jungle where boa constrictors live, which the narrator read about in a book called Stories of Life when he was six years old.', 'The Sahara desert': 'A desert where the narrator had a breakdown six years ago, and where he was stranded with no one to talk to. The desert is vast, hot, and isolating, with nothing but sand and rock as far as the eye can see.'}\n",
      "C1S5 saved. tag :  \n",
      "    prompt:Colored pencil drawing of the little prince holding the sheep, surrounded by a halo of soft light. The narrator looks on, intrigued by the prince's stories of other planets. A subtle, gradient sky transitions from blue to purple. Mood: Enchanted and inquisitive. Style: Delicate, with intricate details and a touch of magic realism. \n",
      "    characters:{'Narrator': 'The narrator is a grown-up who lives in France, feels hungry and cold, and is reminiscing about his childhood. He is a pilot who has traveled the world and has had many interactions with grown-ups. He can be somewhat sarcastic and humorous, but also determined and resourceful.', 'Leon Werth': 'Leon Werth is the friend to whom the narrator dedicates his book, and is remembered by the narrator as a little boy.', 'The little voice': 'A mysterious voice that wakes the narrator up in the Sahara desert and asks him to draw a sheep. He is revealed to be a little prince, who is kind, gentle, and determined, but also mysterious and otherworldly.', 'The little prince': 'A young boy who is the source of the little voice, and is kind, gentle, and determined. He is full of wonder and curiosity, and is not afraid to ask for what he wants.'}\n",
      "    places:{'France': 'The country where the narrator lives, and where he feels hungry and cold.', 'The virgin forest': 'A jungle where boa constrictors live, which the narrator read about in a book called Stories of Life when he was six years old.', 'The Sahara desert': 'A desert where the narrator had a breakdown six years ago, and where he was stranded with no one to talk to. The desert is vast, hot, and isolating, with nothing but sand and rock as far as the eye can see.'}\n",
      "C1S6 saved. tag :  \n",
      "    prompt:Pencil sketch of the little prince and the narrator discussing the sheep's 'house' and the idea of tying it up. The prince's laughter and the narrator's confusion are palpable. A few, scattered stars shine in the night sky. Mood: Playful and slightly absurd. Style: Simple, with bold lines and a focus on the characters' emotions, inspired by the works of Quentin Blake. \n",
      "    characters:{'Narrator': 'The narrator is a grown-up who lives in France, feels hungry and cold, and is reminiscing about his childhood. He is a pilot who has traveled the world and has had many interactions with grown-ups. He can be somewhat sarcastic and humorous, but also determined and resourceful.', 'Leon Werth': 'Leon Werth is the friend to whom the narrator dedicates his book, and is remembered by the narrator as a little boy.', 'The little voice': 'A mysterious voice that wakes the narrator up in the Sahara desert and asks him to draw a sheep. He is revealed to be a little prince, who is kind, gentle, and determined, but also mysterious and otherworldly.', 'The little prince': 'A young boy who is the source of the little voice, and is kind, gentle, and determined. He is full of wonder and curiosity, and is not afraid to ask for what he wants.'}\n",
      "    places:{'France': 'The country where the narrator lives, and where he feels hungry and cold.', 'The virgin forest': 'A jungle where boa constrictors live, which the narrator read about in a book called Stories of Life when he was six years old.', 'The Sahara desert': 'A desert where the narrator had a breakdown six years ago, and where he was stranded with no one to talk to. The desert is vast, hot, and isolating, with nothing but sand and rock as far as the eye can see.'}\n",
      "C1S7 saved. tag :  \n",
      "    prompt:Cosmic, digital artwork representing the little prince's home planet, small and fragile in the vastness of space. A few, distant stars serve as a reminder of the planet's isolation. Mood: Melancholic and contemplative. Style: Dark, with deep blues and purples, and a sense of scale that emphasizes the planet's tiny size, inspired by the works of Simon Stalenhag. \n",
      "    characters:{'Narrator': 'The narrator is a grown-up who lives in France, feels hungry and cold, and is reminiscing about his childhood. He is a pilot who has traveled the world and has had many interactions with grown-ups. He can be somewhat sarcastic and humorous, but also determined and resourceful.', 'Leon Werth': 'Leon Werth is the friend to whom the narrator dedicates his book, and is remembered by the narrator as a little boy.', 'The little voice': 'A mysterious voice that wakes the narrator up in the Sahara desert and asks him to draw a sheep. He is revealed to be a little prince, who is kind, gentle, and determined, but also mysterious and otherworldly.', 'The little prince': 'A young boy who is the source of the little voice, and is kind, gentle, and determined. He is full of wonder and curiosity, and is not afraid to ask for what he wants.'}\n",
      "    places:{'France': 'The country where the narrator lives, and where he feels hungry and cold.', 'The virgin forest': 'A jungle where boa constrictors live, which the narrator read about in a book called Stories of Life when he was six years old.', 'The Sahara desert': 'A desert where the narrator had a breakdown six years ago, and where he was stranded with no one to talk to. The desert is vast, hot, and isolating, with nothing but sand and rock as far as the eye can see.'}\n",
      "C2S1 saved. tag :  \n",
      "    prompt:Watercolor illustration of a little prince and the narrator standing in a vast, empty landscape, with the little prince holding a rope and a picket. The little prince has a surprised and amused expression, while the narrator looks on with a mixture of confusion and curiosity. Mood: Whimsical and inquisitive. Style: childlike, with muted earth tones and loose brushstrokes, inspired by Antoine de Saint-Exupéry. \n",
      "    characters:{'Narrator': 'The narrator is a grown-up who lives in France, feels hungry and cold, and is reminiscing about his childhood. He is a pilot who has traveled the world and has had many interactions with grown-ups. He can be somewhat sarcastic and humorous, but also determined and resourceful. He is intrigued by the little prince and is trying to learn more about him.', 'Leon Werth': 'Leon Werth is the friend to whom the narrator dedicates his book, and is remembered by the narrator as a little boy. No new information is available about him in this chapter.', 'The little voice': \"The little voice is revealed to be the little prince, who is kind, gentle, and determined, but also mysterious and otherworldly. He is full of wonder and curiosity, and is not afraid to ask for what he wants. He is amused by the narrator's statement that he came from heaven and is fascinated by the narrator's plane.\", 'The little prince': 'The little prince is a young boy who is the source of the little voice. He is kind, gentle, and determined, but also mysterious and otherworldly. He is full of wonder and curiosity, and is not afraid to ask for what he wants. He is from another planet, which is very small, and he wants to take the sheep the narrator drew for him back to his planet.'}\n",
      "    places:{'France': 'The country where the narrator lives, and where he feels hungry and cold. No new information is available about France in this chapter.', 'The virgin forest': 'A jungle where boa constrictors live, which the narrator read about in a book called Stories of Life when he was six years old. No new information is available about the virgin forest in this chapter.', 'The Sahara desert': \"A desert where the narrator had a breakdown six years ago, and where he was stranded with no one to talk to. The desert is vast, hot, and isolating, with nothing but sand and rock as far as the eye can see. The little prince and the narrator are currently in the Sahara desert, and the narrator is trying to learn more about the little prince's story.\", \"The little prince's home planet\": 'A small planet, scarcely larger than a house, where the little prince is from. The planet is so small that one cannot go far on it, and the little prince wants to take the sheep the narrator drew for him back to his planet.'}\n",
      "C2S2 saved. tag :  \n",
      "    prompt:Detailed digital painting of the asteroid B 612, a small, rocky planet with a few volcanoes and a vast, empty landscape. The sky is a deep shade of blue, with a few stars twinkling in the distance. Mood: Desolate and melancholic. Style: Realistic, with a focus on textures and atmospheric perspective, inspired by space exploration photography. \n",
      "    characters:{'Narrator': 'The narrator is a grown-up who lives in France, feels hungry and cold, and is reminiscing about his childhood. He is a pilot who has traveled the world and has had many interactions with grown-ups. He can be somewhat sarcastic and humorous, but also determined and resourceful. He is intrigued by the little prince and is trying to learn more about him.', 'Leon Werth': 'Leon Werth is the friend to whom the narrator dedicates his book, and is remembered by the narrator as a little boy. No new information is available about him in this chapter.', 'The little voice': \"The little voice is revealed to be the little prince, who is kind, gentle, and determined, but also mysterious and otherworldly. He is full of wonder and curiosity, and is not afraid to ask for what he wants. He is amused by the narrator's statement that he came from heaven and is fascinated by the narrator's plane.\", 'The little prince': 'The little prince is a young boy who is the source of the little voice. He is kind, gentle, and determined, but also mysterious and otherworldly. He is full of wonder and curiosity, and is not afraid to ask for what he wants. He is from another planet, which is very small, and he wants to take the sheep the narrator drew for him back to his planet.'}\n",
      "    places:{'France': 'The country where the narrator lives, and where he feels hungry and cold. No new information is available about France in this chapter.', 'The virgin forest': 'A jungle where boa constrictors live, which the narrator read about in a book called Stories of Life when he was six years old. No new information is available about the virgin forest in this chapter.', 'The Sahara desert': \"A desert where the narrator had a breakdown six years ago, and where he was stranded with no one to talk to. The desert is vast, hot, and isolating, with nothing but sand and rock as far as the eye can see. The little prince and the narrator are currently in the Sahara desert, and the narrator is trying to learn more about the little prince's story.\", \"The little prince's home planet\": 'A small planet, scarcely larger than a house, where the little prince is from. The planet is so small that one cannot go far on it, and the little prince wants to take the sheep the narrator drew for him back to his planet.'}\n",
      "C2S3 saved. tag :  \n",
      "    prompt:Mixed media illustration of the little prince's planet, with a small house, a few trees, and a vast, empty landscape. The little prince is shown standing in the distance, looking out at the viewer with a sense of longing. Mood: Nostalgic and wistful. Style: A combination of traditional and digital media, with a focus on expressive brushstrokes and muted colors, inspired by the works of Shaun Tan. \n",
      "    characters:{'Narrator': 'The narrator is a grown-up who lives in France, feels hungry and cold, and is reminiscing about his childhood. He is a pilot who has traveled the world and has had many interactions with grown-ups. He can be somewhat sarcastic and humorous, but also determined and resourceful. He is intrigued by the little prince and is trying to learn more about him.', 'Leon Werth': 'Leon Werth is the friend to whom the narrator dedicates his book, and is remembered by the narrator as a little boy. No new information is available about him in this chapter.', 'The little voice': \"The little voice is revealed to be the little prince, who is kind, gentle, and determined, but also mysterious and otherworldly. He is full of wonder and curiosity, and is not afraid to ask for what he wants. He is amused by the narrator's statement that he came from heaven and is fascinated by the narrator's plane.\", 'The little prince': 'The little prince is a young boy who is the source of the little voice. He is kind, gentle, and determined, but also mysterious and otherworldly. He is full of wonder and curiosity, and is not afraid to ask for what he wants. He is from another planet, which is very small, and he wants to take the sheep the narrator drew for him back to his planet.'}\n",
      "    places:{'France': 'The country where the narrator lives, and where he feels hungry and cold. No new information is available about France in this chapter.', 'The virgin forest': 'A jungle where boa constrictors live, which the narrator read about in a book called Stories of Life when he was six years old. No new information is available about the virgin forest in this chapter.', 'The Sahara desert': \"A desert where the narrator had a breakdown six years ago, and where he was stranded with no one to talk to. The desert is vast, hot, and isolating, with nothing but sand and rock as far as the eye can see. The little prince and the narrator are currently in the Sahara desert, and the narrator is trying to learn more about the little prince's story.\", \"The little prince's home planet\": 'A small planet, scarcely larger than a house, where the little prince is from. The planet is so small that one cannot go far on it, and the little prince wants to take the sheep the narrator drew for him back to his planet.'}\n",
      "C2S4 saved. tag :  \n",
      "    prompt:Simple, yet evocative line drawing of the little prince and the narrator sitting together, looking up at the stars. The little prince is shown holding a small, delicate sheep, while the narrator looks on with a sense of wonder. Mood: Contemplative and peaceful. Style: Minimalist, with a focus on simple lines and gentle textures, inspired by the works of Quentin Blake. \n",
      "    characters:{'Narrator': 'The narrator is a grown-up who lives in France, feels hungry and cold, and is reminiscing about his childhood. He is a pilot who has traveled the world and has had many interactions with grown-ups. He can be somewhat sarcastic and humorous, but also determined and resourceful. He is intrigued by the little prince and is trying to learn more about him.', 'Leon Werth': 'Leon Werth is the friend to whom the narrator dedicates his book, and is remembered by the narrator as a little boy. No new information is available about him in this chapter.', 'The little voice': \"The little voice is revealed to be the little prince, who is kind, gentle, and determined, but also mysterious and otherworldly. He is full of wonder and curiosity, and is not afraid to ask for what he wants. He is amused by the narrator's statement that he came from heaven and is fascinated by the narrator's plane.\", 'The little prince': 'The little prince is a young boy who is the source of the little voice. He is kind, gentle, and determined, but also mysterious and otherworldly. He is full of wonder and curiosity, and is not afraid to ask for what he wants. He is from another planet, which is very small, and he wants to take the sheep the narrator drew for him back to his planet.'}\n",
      "    places:{'France': 'The country where the narrator lives, and where he feels hungry and cold. No new information is available about France in this chapter.', 'The virgin forest': 'A jungle where boa constrictors live, which the narrator read about in a book called Stories of Life when he was six years old. No new information is available about the virgin forest in this chapter.', 'The Sahara desert': \"A desert where the narrator had a breakdown six years ago, and where he was stranded with no one to talk to. The desert is vast, hot, and isolating, with nothing but sand and rock as far as the eye can see. The little prince and the narrator are currently in the Sahara desert, and the narrator is trying to learn more about the little prince's story.\", \"The little prince's home planet\": 'A small planet, scarcely larger than a house, where the little prince is from. The planet is so small that one cannot go far on it, and the little prince wants to take the sheep the narrator drew for him back to his planet.'}\n",
      "C2S5 saved. tag :  \n",
      "    prompt:Vibrant, expressive painting of the little prince's journey, with the little prince shown standing on a small, rocky outcropping, looking out at a vast, starry expanse. The sky is a deep shade of blue, with a few stars twinkling in the distance. Mood: Exhilarating and expansive. Style: Expressionist, with a focus on bold colors and energetic brushstrokes, inspired by the works of Marc Chagall. \n",
      "    characters:{'Narrator': 'The narrator is a grown-up who lives in France, feels hungry and cold, and is reminiscing about his childhood. He is a pilot who has traveled the world and has had many interactions with grown-ups. He can be somewhat sarcastic and humorous, but also determined and resourceful. He is intrigued by the little prince and is trying to learn more about him.', 'Leon Werth': 'Leon Werth is the friend to whom the narrator dedicates his book, and is remembered by the narrator as a little boy. No new information is available about him in this chapter.', 'The little voice': \"The little voice is revealed to be the little prince, who is kind, gentle, and determined, but also mysterious and otherworldly. He is full of wonder and curiosity, and is not afraid to ask for what he wants. He is amused by the narrator's statement that he came from heaven and is fascinated by the narrator's plane.\", 'The little prince': 'The little prince is a young boy who is the source of the little voice. He is kind, gentle, and determined, but also mysterious and otherworldly. He is full of wonder and curiosity, and is not afraid to ask for what he wants. He is from another planet, which is very small, and he wants to take the sheep the narrator drew for him back to his planet.'}\n",
      "    places:{'France': 'The country where the narrator lives, and where he feels hungry and cold. No new information is available about France in this chapter.', 'The virgin forest': 'A jungle where boa constrictors live, which the narrator read about in a book called Stories of Life when he was six years old. No new information is available about the virgin forest in this chapter.', 'The Sahara desert': \"A desert where the narrator had a breakdown six years ago, and where he was stranded with no one to talk to. The desert is vast, hot, and isolating, with nothing but sand and rock as far as the eye can see. The little prince and the narrator are currently in the Sahara desert, and the narrator is trying to learn more about the little prince's story.\", \"The little prince's home planet\": 'A small planet, scarcely larger than a house, where the little prince is from. The planet is so small that one cannot go far on it, and the little prince wants to take the sheep the narrator drew for him back to his planet.'}\n"
     ]
    }
   ],
   "source": [
    "for idx,i in enumerate(outputs):\n",
    "    chars=output_dict[idx+1][\"characters\"]\n",
    "    places=output_dict[idx+1][\"places\"]\n",
    "    for jdx,j in enumerate(i):\n",
    "        ##try except for internal server error\n",
    "        try:\n",
    "            key=f\"C{idx}S{jdx+1}\"\n",
    "            text=j\n",
    "            tag=\"\"\n",
    "            get_images(key=key,text=text,tag=tag,characters=chars,places=places)\n",
    "            print(f\"{key} saved. tag : {tag} \")\n",
    "            print(f\"    prompt:{text} \\n    characters:{chars}\\n    places:{places}\")\n",
    "        except Exception as e:\n",
    "            print(f\"Error while calling the API :{e} \\n waiting for 10 seconds.. \")\n",
    "            time.sleep(10)\n",
    "            get_images(key=key,text=text,tag=tag,characters=chars,places=places)\n",
    "            print(f\"{key} saved. tag : {tag} \")\n",
    "            print(f\"    prompt:{text}\")"
   ]
  }
 ],
 "metadata": {
  "kernelspec": {
   "display_name": "book",
   "language": "python",
   "name": "python3"
  },
  "language_info": {
   "codemirror_mode": {
    "name": "ipython",
    "version": 3
   },
   "file_extension": ".py",
   "mimetype": "text/x-python",
   "name": "python",
   "nbconvert_exporter": "python",
   "pygments_lexer": "ipython3",
   "version": "3.11.11"
  }
 },
 "nbformat": 4,
 "nbformat_minor": 2
}
