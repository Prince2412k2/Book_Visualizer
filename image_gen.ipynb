{
 "cells": [
  {
   "cell_type": "markdown",
   "metadata": {},
   "source": [
    "# DOCUMENTATION\n",
    "___\n",
    "## **LLM**\n",
    "\n",
    "| **Model**                    | **Context Window** |**Limits**           |\n",
    "|------------------------------|--------------------|---------------------|\n",
    "| **Qwen 2.5 35B Code**        | Up to 128K tokens  |Fine Tuned for coding|\n",
    "| **Cohere Command R+**        | Up to 128K tokens  | 1000 calls per month|\n",
    "| **Mistral-7B-Instruct-v0.3** | 32,768 tokens      | Hallucinations      |\n",
    "\n",
    "#### Using `Mistral-7B-Instruct-v0.3` because \n",
    "- reliable outputs\n",
    "- 1000 calls per day\n",
    "- works in huggingface(same as text-to-image)\n",
    "\n",
    "\n",
    "## **Text-to-Image**\n",
    "\n",
    "\n",
    "| **Category**               | **Stable Diffusion 3.5 Large Turbo**                                                                 | **FLUX.1-Dev FP16**                                                                       |\n",
    "|----------------------------|-----------------------------------------------------------------------------------------------------|-------------------------------------------------------------------------------------------|\n",
    "| **API Endpoint**           | `stabilityai/stable-diffusion-3-5-large-turbo`                                                     | `black-forest-labs/FLUX.1-Dev-FP16`                                                     |\n",
    "| **Key API Parameters**     | `guidance_scale=3`, `num_inference_steps=4`, `negative_prompt`                                     | `num_inference_steps=8`, `control_image` (Canny/Depth), `true_cfg=4.0`                  |\n",
    "| **API Latency**            | 3.8–5.2 sec/image (cold start: 12–18 sec)                                                          | 6.1–8.9 sec/image (cold start: 15–22 sec)                                                |\n",
    "| **Cost Efficiency**        | $0.0021/image (PRO tier)                                                                           | $0.0033/image (PRO tier)                                                                 |\n",
    "| **Free Tier Limits**       | 500 requests/hour                                                                                  | 300 requests/hour                                                                        |\n",
    "| **Max Resolution**         | 1024x1024 via single API call                                                                      | 2048x2048 (requires `high_res_fix=true` parameter)                                       |\n",
    "| **Advanced Features**      | - 4-step inference <br> - Text-to-image only                                                       | - Unified ControlNet (Canny/Depth) <br> - Image-to-image <br> - Inpainting/Outpainting   |\n",
    "| **NSFW Filtering**         | Enabled by default (`safety_checker=strict`)                                                       | Optional (`safety_checker=relaxed`)                                                      |\n",
    "| **Rate Limits (PRO)**      | 5K requests/hour                                                                                   | 3K requests/hour                                                                         |\n",
    "| **Use Case Focus**         | Rapid batch generation (social media, prototyping)                                                 | High-detail workflows (product design, architectural viz)                                |\n",
    "\n",
    "#### using `SD-3.5-LT` because \n",
    "- latency is low\n",
    "- More requests\n",
    "- we want stialized images which is better on SD \n",
    "\n"
   ]
  },
  {
   "cell_type": "markdown",
   "metadata": {},
   "source": [
    "___\n",
    "___\n",
    "___"
   ]
  },
  {
   "cell_type": "markdown",
   "metadata": {},
   "source": [
    "# Get **Summary**, **Characters** AND **Places** "
   ]
  },
  {
   "cell_type": "markdown",
   "metadata": {},
   "source": [
    "![Local Image](/home/prince/Documents/Project/BOOK/media/Sudo_summary.png \"Smmary, characters and Places\")"
   ]
  },
  {
   "cell_type": "code",
   "execution_count": 3,
   "metadata": {},
   "outputs": [],
   "source": [
    "from reader import ebook,read_list,read_json\n",
    "from typing import Optional,Dict,List\n",
    "import requests\n",
    "from dotenv import load_dotenv\n",
    "import json\n",
    "import os\n",
    "from pydantic import BaseModel, conint\n",
    "from dataclasses import dataclass"
   ]
  },
  {
   "cell_type": "code",
   "execution_count": 2,
   "metadata": {},
   "outputs": [],
   "source": [
    "load_dotenv()\n",
    "API = os.getenv(\"HF_API\")\n",
    "\n",
    "headers = {\n",
    "    \"Authorization\": f\"Bearer {API}\",\n",
    "    \"Content-Type\": \"application/json\",\n",
    "}\n",
    "url = \"https://api-inference.huggingface.co/models/mistralai/Mistral-7B-Instruct-v0.3/v1/chat/completions\"\n",
    "\n"
   ]
  },
  {
   "cell_type": "code",
   "execution_count": 3,
   "metadata": {},
   "outputs": [],
   "source": [
    "sum_role='''(NOTE: Only output in JSON. Ensure the JSON format is valid, well-formed, and Ready to parse. nothing before or after the json file)\n",
    "Input:  \n",
    "1.Current Chapter Text: The current chapter to be analyzed.\n",
    "2.Character List: A list of characters with their physical/visual descriptions till now (This chapter).\n",
    "3.Places list: list of places and their visual description till now (This chapter).\n",
    "4.Previous Chapters' Summary: Context from earlier chapters.\n",
    "\n",
    "Rules:  \n",
    "1.Narrative Summary: Summarize and explain the chapter in detail, integrating context and key developments from previous chapters and create a self containing summary and explaination. end with to be continued.\n",
    "2.Character List: add new characters to the list based on this chapter and Update existing character's physical/visual descriptions. If no characters are mentioned, return the same list as given.\n",
    "3.Places: Include an updated description of any significant locations mentioned in this chapter, focusing on environment, weather, vibe, and structure.\n",
    "4.Output Format: Ensure the output is valid and well-structured JSON.\n",
    "\n",
    "Output:  \n",
    "Generate a JSON object in this format:\n",
    "{\n",
    "  \"summary\": \"Detailed Summary and explination of the current chapter in context of previous chapters. Use previus chapter summary as context\",\n",
    "  \"characters\": {\n",
    "      \"Character Name\": \"Updated or new physical/visual description (age, looks, clothes, hair, body language) based on this chapter.\"\n",
    "    },\n",
    "  \"places\": {\n",
    "      \"Place Name\": \"Updated or new visual description (environment, weather, vibe, structure, etc.) based on this chapter.\"\n",
    "  }\n",
    "}\n",
    "'''"
   ]
  },
  {
   "cell_type": "markdown",
   "metadata": {},
   "source": [
    "#### **get_sum()** Function\n",
    "![Local Image](/home/prince/Documents/Project/BOOK/media/Get_sum_logic.png \"Smmary, characters and Places\")\n",
    "\n",
    "\n",
    "outputdir=\n",
    "```{\n",
    "    0:\n",
    "        {\n",
    "            \"summary\":\"No previous Context Yet\",\n",
    "            \"characters\":{},\n",
    "            \"places\": {}\n",
    "        }\n",
    "            }```\n"
   ]
  },
  {
   "cell_type": "code",
   "execution_count": 79,
   "metadata": {},
   "outputs": [],
   "source": [
    "\n",
    "\n",
    "class SummarySchema(BaseModel):\n",
    "    summary: str\n",
    "    characters: Dict[str,str]\n",
    "    places: Dict[str,str]\n",
    "\n",
    "def sum_msg(text: str, context: str, characters: dict = {}, places: dict = {}) -> list:\n",
    "    message = [\n",
    "        {\n",
    "            \"role\": \"system\",\n",
    "            \"content\": sum_role\n",
    "        },\n",
    "        {\n",
    "            \"role\": \"user\",\n",
    "            \"content\": json.dumps({\n",
    "                \"past_context\": context,\n",
    "                \"Current_Chapter\": text,\n",
    "                \"character_list\": characters,\n",
    "                \"places_list\": places\n",
    "            }),\n",
    "        },\n",
    "    ]\n",
    "    return message\n",
    "\n",
    "def get_summ(messages:Dict[str,str]) -> Optional[str]:\n",
    "    data = {\n",
    "        \"messages\": messages,\n",
    "        \"temperature\": 0.7,\n",
    "        \"stream\": False,\n",
    "        \"max_tokens\":10000,\n",
    "        \"parameters\": {\n",
    "        \"repetition_penalty\": 1.3,\n",
    "        \"grammar\": {\n",
    "            \"type\": \"json\",\n",
    "            \"value\": SummarySchema.model_json_schema()\n",
    "                }\n",
    "                    }\n",
    "    }\n",
    "    response = requests.post(url, headers=headers, json=data)\n",
    "\n",
    "    if response.status_code == 200:\n",
    "        response_data = response.json()\n",
    "        assistant_message = response_data[\"choices\"][0][\"message\"][\"content\"]\n",
    "        return assistant_message\n",
    "    else:\n",
    "        print(f\"Error: {response.status_code}, {response.text}\")\n",
    "        return None\n",
    "\n"
   ]
  },
  {
   "cell_type": "code",
   "execution_count": 6,
   "metadata": {},
   "outputs": [
    {
     "data": {
      "text/plain": [
       "'Then she had forced her cough to inflict remorse.\\nThus the little prince, notwithstanding the goodwill of his love,\\nsoon doubted her. He had taken unimportant words seriously, and\\nhad become very unhappy.\\n\"I should not have listened to him,\" he confided to me one day, \"you\\nmust never listen to flowers. You have to look at them and breathe\\nthem. Mine embalmed my planet, but I could not rejoice. This story\\nof claws, which had so annoyed me, should have tempted me ... \"\\nHe again confided to me:\\n\"I did not understand anything! I should have judged her on the acts\\nand not the words. She embarrassed me and enlightened me. I\\nshould never have fled! I should have guessed his tenderness behind\\nhis poor tricks. The flowers are so contradictory! But I was too\\nyoung to know how to love him. \"\\nIX\\nJe crois qu’il profita, pour son évasion, d’une migration d’oiseaux\\nsauvages.\\nI believe that he took advantage of a migration of wild birds for his\\nescape. On the morning of the departure he put his planet in order.\\nHe carefully roamed his active volcanoes. He had two active\\nvolcanoes. And it was very convenient to warm up the morning\\nbreakfast. He also possessed an extinct volcano. But, as he said,\\n\"You never know!\" He therefore also roamed the extinct volcano. If\\nthey are well swept, volcanoes burn gently and regularly, without\\neruptions. Volcanic eruptions are like chimney fires. Obviously on\\nour land we are much too small to swallow our volcanoes. That\\'s\\nwhy they\\'re causing us a lot of trouble.\\nThe little prince also snatched, with a little melancholy, the last\\nshoots of baobabs. He thought he would never have to come back.\\nBut all these familiar labors appeared to him, that morning,\\nextremely sweet. And when he watered the flower for the last time,\\nand prepared to shelter it under his globe, he discovered the desire\\nto weep.\\n\"Farewell,\" he said to the flower.\\nBut she did not answer.\\n\"Farewell,\" he repeated.\\nThe flower coughed. But it was not because of his cold.\\n\"I was a fool,\" she said at last. I beg your pardon. Strive to be happy.\\n\"\\nHe was surprised by the absence of reproaches. He remained there,\\ndisconcerted, the globe in the air. He did not understand this quiet\\nsweetness.\\n\"Yes, I love you,\" said the flower. You did not know, by my fault. It\\nhas no importance. But you were as stupid as I was. Task to be\\nhappy ... Leave this globe quiet. I do not want it anymore.\\n- But the wind ...\\n- I\\'m not so cold as that ... The cool air of the night will do me good.\\nI\\'m a flower.\\n- But the beasts ...\\n\"I must bear two or three caterpillars if I want to know the\\nbutterflies.\" It seems that it is so beautiful. Otherwise who will visit\\nme? You will be far away. As for the big beasts, I fear nothing. I\\nhave my claws. \"\\nAnd she naively showed her four thorns. Then she added:\\n\"Do not drag like that, it\\'s annoying. You decided to leave. Go away.\\n\"\\nFor she did not want him to see her crying. It was such a proud\\nflower ...\\nX\\nHe was in the region of the asteroids 325, 326, 327, 328, 329 and\\n330. He therefore began by visiting them to search for an\\noccupation and to learn.\\nThe first was inhabited by a king. The king sat, dressed in purple\\nand ermine, on a very simple and yet majestic throne.\\n'"
      ]
     },
     "execution_count": 6,
     "metadata": {},
     "output_type": "execute_result"
    }
   ],
   "source": [
    "# book=ebook(\"./books/Alchemist/Alchemist.epub\")\n",
    "book=ebook(\"./books/LP.epub\")\n",
    "title=book.get_metadata()['title']\n",
    "_,text=zip(*book.get_chapters())\n",
    "text=text[:10]\n",
    "text[8]\n"
   ]
  },
  {
   "cell_type": "code",
   "execution_count": 81,
   "metadata": {},
   "outputs": [],
   "source": [
    "output_dict={\n",
    "    0:\n",
    "        {\n",
    "            \"summary\":\"There is no previous context\",\n",
    "            \"characters\":{},\n",
    "            \"places\": {}\n",
    "        }\n",
    "            }\n"
   ]
  },
  {
   "cell_type": "code",
   "execution_count": 82,
   "metadata": {},
   "outputs": [
    {
     "data": {
      "text/plain": [
       "{0: {'summary': 'There is no previous context',\n",
       "  'characters': {},\n",
       "  'places': {}}}"
      ]
     },
     "execution_count": 82,
     "metadata": {},
     "output_type": "execute_result"
    }
   ],
   "source": [
    "output_dict"
   ]
  },
  {
   "cell_type": "code",
   "execution_count": 83,
   "metadata": {},
   "outputs": [
    {
     "name": "stdout",
     "output_type": "stream",
     "text": [
      "chapter: 0 done\n",
      "chapter: 1 done\n",
      "chapter: 2 done\n",
      "{0: {'summary': 'There is no previous context', 'characters': {}, 'places': {}}, 1: {'summary': \"The chapter delves into the author's childhood memories, specifically focusing on an incident where he drew a boa constrictor digesting an elephant. This drawing was met with confusion by grown-ups, leading him to abandon his dreams of becoming a painter. The chapter also touches upon his later life, including his career as a plane pilot and his encounters with adults. The story ends with a mysterious encounter in the Sahara desert, where a small voice asks him to draw a sheep.\", 'characters': {'Author': 'A grown-up author who used to draw and dream of becoming a painter, but was discouraged by adults. Later, he became a plane pilot.'}, 'places': {'Sahara Desert': 'A vast, isolated desert where the author had a breakdown in his plane. The environment is harsh and unforgiving.'}}, 2: {'summary': 'In this chapter, the author recounts his life experiences, starting from his childhood where he was discouraged from pursuing his dream of becoming a painter. He later became a plane pilot and had numerous encounters with adults. The chapter ends with a mysterious encounter in the Sahara Desert, where a small voice asked him to draw a sheep. This encounter was significant as it led to his meeting with the Little Prince.', 'characters': {'Author': 'A grown-up author who used to draw and dream of becoming a painter, but was discouraged by adults. Later, he became a plane pilot. He is also the narrator of the story and encounters the Little Prince in the Sahara Desert.'}, 'places': {'Sahara Desert': 'A vast, isolated desert where the author had a breakdown in his plane. The environment is harsh and unforgiving, with temperatures reaching extreme highs. The vibe is desolate and the structure is barren sand dunes.'}}, 3: {'summary': \"In this chapter, the author recounts his encounter with the Little Prince in the Sahara Desert. The author, a grown-up who was once a dreamer and artist, but was discouraged from pursuing his passion, encounters the Little Prince, a mysterious figure from another planet. The Little Prince asks questions and exhibits a half-confidence about 'the other planets', which intrigues the author. The author learns that the Little Prince's home planet is small, barely larger than a house. This encounter marks a significant turning point in the author's life, leading him to question and learn more about the Little Prince and his origins.\", 'characters': {'Author': 'A grown-up author who used to draw and dream of becoming a painter, but was discouraged by adults. Later, he became a plane pilot. He is also the narrator of the story and encounters the Little Prince in the Sahara Desert.'}, 'places': {'Sahara Desert': 'A vast, isolated desert where the author had a breakdown in his plane. The environment is harsh and unforgiving, with temperatures reaching extreme highs. The vibe is desolate and the structure is barren sand dunes.'}}}\n"
     ]
    }
   ],
   "source": [
    "for idx,i in enumerate(text):\n",
    " \n",
    "    if len(i)<1200:\n",
    "        output_dict[idx+1]=output_dict[idx]\n",
    "    else:\n",
    "        context=output_dict[idx][\"summary\"]\n",
    "        characters=output_dict[idx][\"characters\"]\n",
    "        places=output_dict[idx][\"places\"]\n",
    "        \n",
    "        mes=sum_msg(i,context,characters,places)\n",
    "        \n",
    "        summary_characters=get_summ(mes)\n",
    "        output_json=read_json(summary_characters)\n",
    "        output_dict[idx+1]=output_json\n",
    "    print(f\"chapter: {idx} done\")\n",
    "print(output_dict)"
   ]
  },
  {
   "cell_type": "code",
   "execution_count": 84,
   "metadata": {},
   "outputs": [
    {
     "name": "stdout",
     "output_type": "stream",
     "text": [
      "CHAPTER 1 :\n",
      "\n",
      "Characters:\n",
      "Author: A grown-up author who used to draw and dream of becoming a painter, but was discouraged by adults. Later, he became a plane pilot.\n",
      "\n",
      "Places:\n",
      "Sahara Desert: A vast, isolated desert where the author had a breakdown in his plane. The environment is harsh and unforgiving.\n",
      "\n",
      "Summary:\n",
      "The chapter delves into the author's childhood memories, specifically focusing on an incident where he drew a boa constrictor digesting an elephant. This drawing was met with confusion by grown-ups, leading him to abandon his dreams of becoming a painter. The chapter also touches upon his later life, including his career as a plane pilot and his encounters with adults. The story ends with a mysterious encounter in the Sahara desert, where a small voice asks him to draw a sheep.\n",
      "\n",
      "-------------------------------------------------------------------------------------------------------------------\n",
      "CHAPTER 2 :\n",
      "\n",
      "Characters:\n",
      "Author: A grown-up author who used to draw and dream of becoming a painter, but was discouraged by adults. Later, he became a plane pilot. He is also the narrator of the story and encounters the Little Prince in the Sahara Desert.\n",
      "\n",
      "Places:\n",
      "Sahara Desert: A vast, isolated desert where the author had a breakdown in his plane. The environment is harsh and unforgiving, with temperatures reaching extreme highs. The vibe is desolate and the structure is barren sand dunes.\n",
      "\n",
      "Summary:\n",
      "In this chapter, the author recounts his life experiences, starting from his childhood where he was discouraged from pursuing his dream of becoming a painter. He later became a plane pilot and had numerous encounters with adults. The chapter ends with a mysterious encounter in the Sahara Desert, where a small voice asked him to draw a sheep. This encounter was significant as it led to his meeting with the Little Prince.\n",
      "\n",
      "-------------------------------------------------------------------------------------------------------------------\n",
      "CHAPTER 3 :\n",
      "\n",
      "Characters:\n",
      "Author: A grown-up author who used to draw and dream of becoming a painter, but was discouraged by adults. Later, he became a plane pilot. He is also the narrator of the story and encounters the Little Prince in the Sahara Desert.\n",
      "\n",
      "Places:\n",
      "Sahara Desert: A vast, isolated desert where the author had a breakdown in his plane. The environment is harsh and unforgiving, with temperatures reaching extreme highs. The vibe is desolate and the structure is barren sand dunes.\n",
      "\n",
      "Summary:\n",
      "In this chapter, the author recounts his encounter with the Little Prince in the Sahara Desert. The author, a grown-up who was once a dreamer and artist, but was discouraged from pursuing his passion, encounters the Little Prince, a mysterious figure from another planet. The Little Prince asks questions and exhibits a half-confidence about 'the other planets', which intrigues the author. The author learns that the Little Prince's home planet is small, barely larger than a house. This encounter marks a significant turning point in the author's life, leading him to question and learn more about the Little Prince and his origins.\n",
      "\n",
      "-------------------------------------------------------------------------------------------------------------------\n"
     ]
    }
   ],
   "source": [
    "for num, dic in output_dict.items():\n",
    "    if num==0:\n",
    "        continue\n",
    "    print(f\"CHAPTER {num} :\\n\")\n",
    "    \n",
    "    sum,char,places=dic.items()\n",
    "    print(\"Characters:\")\n",
    "    if len(char)>0 :\n",
    "        for name,i in char[1].items():\n",
    "            print(f\"{name}: {i}\")\n",
    "    \n",
    "    print(\"\\nPlaces:\")\n",
    "    if len(places)>0:\n",
    "        for name,i in places[1].items():\n",
    "            print(f\"{name}: {i}\")\n",
    "    print(f\"\\nSummary:\\n{sum[1]}\")\n",
    "    print(\"\\n-------------------------------------------------------------------------------------------------------------------\")"
   ]
  },
  {
   "cell_type": "markdown",
   "metadata": {},
   "source": [
    "___\n",
    "___\n",
    "___\n"
   ]
  },
  {
   "cell_type": "markdown",
   "metadata": {},
   "source": [
    "# Get **Scenes**\n",
    "![Local Image](/home/prince/Documents/Project/BOOK/media/Sudo_summary.png )"
   ]
  },
  {
   "cell_type": "code",
   "execution_count": 85,
   "metadata": {},
   "outputs": [
    {
     "name": "stdout",
     "output_type": "stream",
     "text": [
      "{'properties': {'scenes': {'additionalProperties': {'type': 'string'}, 'title': 'Scenes', 'type': 'object'}}, 'required': ['scenes'], 'title': 'SceneSchema', 'type': 'object'}\n"
     ]
    }
   ],
   "source": [
    "class SceneSchema(BaseModel):\n",
    "    scenes: Dict[str,str]\n",
    "print(SceneSchema.model_json_schema())"
   ]
  },
  {
   "cell_type": "code",
   "execution_count": 86,
   "metadata": {},
   "outputs": [],
   "source": [
    "def scene_msg(text: str) -> list:\n",
    "    message = [\n",
    "        {\n",
    "            \"role\": \"system\",\n",
    "            \"content\": ''' IMPORTANT-> ONLY OUTPUT IN JSON.\n",
    "                You are a text-to-image prompt generator for for book visulizer.\n",
    "                Your task is to analyze the provided input text and identify distinct scenes where there are changes in place or time. \n",
    "                For each identified scene, create a detailed and descriptive prompt suitable for generating an image.\n",
    "                Only Consider a Scene change if there is a change in time place or characters.\n",
    "                only include visual info. dont go into details.\n",
    "                \n",
    "                Characters: Refer to characters by their respective names as mentioned in the text.\n",
    "                Places: Refer to places by their proper names as mentioned in the text.\n",
    "                Ensure each prompt captures the scene's mood, setting, and key visual elements.\n",
    "                \n",
    "                1. **Input:**\n",
    "                    - `text`: A block of narrative text.```\n",
    "                2. **Output:**\n",
    "                    - {\n",
    "                        \"scene1\":\"prompt1\",\n",
    "                        \"scene2\":\"prompt2\",\n",
    "                        ...\n",
    "                    }\n",
    "\n",
    "                ### Instructions:\n",
    "                - Identify key changes in location, characters, or significant actions to define separate scenes.\n",
    "                - Use descriptive language to paint a vivid picture of each scene in the prompt.\n",
    "                \n",
    "                   ''',\n",
    "        },\n",
    "        \n",
    "        {\n",
    "            \"role\": \"user\",\n",
    "            \"content\": f\"\"\"TEXT: {text}\"\"\",  # This should be your input text that describes the scenes\n",
    "        },]\n",
    "        \n",
    "    return message\n",
    "\n",
    "def get_scene(scene_msg: list) -> Optional[str]:\n",
    "    data = {\n",
    "        \"messages\": scene_msg,\n",
    "        \"max_tokens\": 10000,  # Specify the maximum length of the response\n",
    "        \"temperature\": 0,  # Control the randomness of the response\n",
    "        \"stream\": False,\n",
    "        \"repetition_penalty\": 1.3,\n",
    "        \"grammar\": {\n",
    "            \"type\": \"json\",\n",
    "            \"value\": SceneSchema.model_json_schema()\n",
    "                }\n",
    "        }\n",
    "    \n",
    "    response = requests.post(url, headers=headers, json=data)\n",
    "\n",
    "    # Check the response status code and process the output\n",
    "    if response.status_code == 200:\n",
    "        response_data = response.json()\n",
    "        # Extract the assistant's message content\n",
    "        assistant_message = response_data[\"choices\"][0][\"message\"][\"content\"]\n",
    "        return assistant_message\n",
    "    else:\n",
    "        print(f\"Error: {response.status_code}, {response.text}\")  # Print error details\n",
    "        return None"
   ]
  },
  {
   "cell_type": "code",
   "execution_count": 87,
   "metadata": {},
   "outputs": [
    {
     "name": "stdout",
     "output_type": "stream",
     "text": [
      "--Genrating Scenes per chapter--\n",
      "chapter: 1 Done\n",
      "chapter: 2 Done\n",
      "chapter: 3 Done\n"
     ]
    }
   ],
   "source": [
    "scene_output_list=[]\n",
    "print(\"--Genrating Scenes per chapter--\")\n",
    "for idx,i in enumerate(text):\n",
    "    inputs=i.replace(\"\\n\",\" \")\n",
    "    scene_message = scene_msg(text)\n",
    "    scene_output=get_scene(scene_message)\n",
    "    scene_json_output=read_json(scene_output)\n",
    "    scene_output_list.append(scene_json_output)\n",
    "    print(f\"chapter: {idx+1} Done\")"
   ]
  },
  {
   "cell_type": "code",
   "execution_count": 88,
   "metadata": {},
   "outputs": [
    {
     "data": {
      "text/plain": [
       "[{'scene1': 'A young boy, around 6 years old, is drawing a boa constrictor digesting an elephant. The scene is set in his home, with a sense of isolation and confusion as the grown-ups do not understand his drawing. The mood is playful yet frustrated.',\n",
       "  'scene2': 'The same boy, now a grown-up and a pilot, is stranded in the Sahara desert with a broken engine. He encounters a mysterious little man who requests a drawing of a sheep. The scene is set in the desert, with a sense of danger and loneliness.',\n",
       "  'scene3': 'The little man, now referred to as the little prince, continues to ask questions and reveal his origins to the pilot. The scene is set in the desert, with a sense of mystery and intrigue.'},\n",
       " {'scene1': 'A young boy, around 6 years old, is drawing a boa constrictor digesting an elephant. The scene is set in his home, with a sense of isolation and confusion as the grown-ups do not understand his drawing. The mood is playful yet frustrated.',\n",
       "  'scene2': 'The same boy, now a grown-up and a pilot, is stranded in the Sahara desert with a broken engine. He encounters a mysterious little man who requests a drawing of a sheep. The scene is set in the desert, with a sense of danger and loneliness.',\n",
       "  'scene3': 'The little man, now referred to as the little prince, continues to ask questions and reveal his origins to the pilot. The scene is set in the desert, with a sense of mystery and intrigue.'},\n",
       " {'scene1': 'A young boy, around 6 years old, is drawing a boa constrictor digesting an elephant. The scene is set in his home, with a sense of isolation and confusion as the grown-ups do not understand his drawing. The mood is playful yet frustrated.',\n",
       "  'scene2': 'The same boy, now a grown-up and a pilot, is stranded in the Sahara desert with a broken engine. He encounters a mysterious little man who requests a drawing of a sheep. The scene is set in the desert, with a sense of danger and loneliness.',\n",
       "  'scene3': 'The little man, now referred to as the little prince, continues to ask questions and reveal his origins to the pilot. The scene is set in the desert, with a sense of mystery and intrigue.'}]"
      ]
     },
     "execution_count": 88,
     "metadata": {},
     "output_type": "execute_result"
    }
   ],
   "source": [
    "scene_output_list"
   ]
  },
  {
   "cell_type": "markdown",
   "metadata": {},
   "source": [
    "___\n",
    "___\n",
    "___\n"
   ]
  },
  {
   "cell_type": "markdown",
   "metadata": {},
   "source": [
    "# Get **Style**\n",
    "![Local Image](/home/prince/Documents/Project/BOOK/media/Get_Style_logic.png )"
   ]
  },
  {
   "cell_type": "code",
   "execution_count": 4,
   "metadata": {},
   "outputs": [],
   "source": [
    "def basic_llm_req(text: str) -> Optional[str]:\n",
    "    messages = [\n",
    "        {\n",
    "            \"role\":\"system\",\n",
    "            \"content\":\"DO As Asked in The Input\"\n",
    "        },\n",
    "        {\n",
    "            \"role\":\"user\",\n",
    "            \"content\":text\n",
    "        }\n",
    "    ]\n",
    "    \n",
    "    data = {\n",
    "        \"messages\": messages,\n",
    "        \"max_tokens\": 10000,  # Specify the maximum length of the response\n",
    "        \"temperature\": 0,  # Control the randomness of the response\n",
    "        \"stream\": False,\n",
    "    }\n",
    "    response = requests.post(url, headers=headers, json=data)\n",
    "\n",
    "    # Check the response status code and process the output\n",
    "    if response.status_code == 200:\n",
    "        response_data = response.json()\n",
    "        # Extract the assistant's message content\n",
    "        assistant_message = response_data[\"choices\"][0][\"message\"][\"content\"]\n",
    "        return assistant_message\n",
    "    else:\n",
    "        print(f\"Error: {response.status_code}, {response.text}\")  # Print error details\n",
    "        return None\n",
    " "
   ]
  },
  {
   "cell_type": "code",
   "execution_count": 90,
   "metadata": {},
   "outputs": [],
   "source": [
    "combined_summary=\"\"\n",
    "for key,val in output_dict.items():\n",
    "    val_content=val[\"summary\"].replace(\"\\n\",\" \")\n",
    "    if key==0:\n",
    "        continue\n",
    "    output_string= f'''{combined_summary}... Chapter{key}: {val_content}'''"
   ]
  },
  {
   "cell_type": "code",
   "execution_count": 91,
   "metadata": {},
   "outputs": [],
   "source": [
    "style_prompt='''Prompt:\n",
    "Note - dont give more than asked for. \n",
    "\"Analyze the following story and provide a list of image style tags that would best suit its themes, settings, and overall mood. \n",
    "The response should include the style, period, type of art, color palette etc. 1 tags per entry.\n",
    "dont explain it just give tags.\n",
    "\n",
    "**ONLY TAGS**\n",
    "\n",
    "Response Format:\n",
    "\n",
    "Style: Realism or Impressionism or Surrealism oretc\n",
    "Type:Landscape, Portrait or Abstract or etc.\n",
    "Color Palette:Warm tones or Cool colors or Monochromatic or black and white or etc\n",
    "Mood:Serene or Dramatic or Melancholic or etc.\n",
    "\n",
    "reuired:(Style,Type,Color_palette,Mood)\n",
    "Story\n",
    "'''\n",
    "\n",
    "style=basic_llm_req(f'''{style_prompt}:{combined_summary} ''')"
   ]
  },
  {
   "cell_type": "code",
   "execution_count": 96,
   "metadata": {},
   "outputs": [
    {
     "data": {
      "text/plain": [
       "'Style: Realism\\nType: Landscape\\nColor Palette: Warm Tones\\nMood: Melancholic'"
      ]
     },
     "execution_count": 96,
     "metadata": {},
     "output_type": "execute_result"
    }
   ],
   "source": [
    "style"
   ]
  },
  {
   "cell_type": "markdown",
   "metadata": {},
   "source": [
    "___"
   ]
  },
  {
   "cell_type": "markdown",
   "metadata": {},
   "source": [
    "# Get **Image**\n",
    "![Local Image](/home/prince/Documents/Project/BOOK/media/Get_img_logic.png )"
   ]
  },
  {
   "cell_type": "code",
   "execution_count": 38,
   "metadata": {},
   "outputs": [],
   "source": [
    "from huggingface_hub import InferenceClient\n",
    "import time\n",
    "\n",
    "client = InferenceClient(\n",
    "    # model=\"strangerzonehf/Qs-Sketch\",\n",
    "    model=\"cagliostrolab/animagine-xl-3.1\",\n",
    "    token=API,\n",
    ")"
   ]
  },
  {
   "cell_type": "code",
   "execution_count": 50,
   "metadata": {},
   "outputs": [],
   "source": [
    "from PIL import Image\n",
    "\n",
    "# def sd_get_images(text:str):\n",
    "#     image = client.text_to_image(\n",
    "#         f\"Text: {text}\",\n",
    "#         model=\"stabilityai/stable-diffusion-3.5-large-turbo\",\n",
    "#         # negative_prompt=\"hand,feet,text,written,shinny,artificial,unnatural,plastic,words,letters\",\n",
    "#         guidance_scale=2,\n",
    "#         num_inference_steps=10\n",
    "        \n",
    "#     )\n",
    "#     image.show()\n",
    "\n",
    "# def mj_get_images(text:str):\n",
    "#     # output is a PIL.Image object\n",
    "#     image = client.text_to_image(\n",
    "# \t    f\"Text: {text}\",\n",
    "# \t    model=\"strangerzonehf/Flux-Midjourney-Mix2-LoRA\",\n",
    "#         # negative_prompt=\"hand,feet,text,written,shinny,artificial,unnatural,plastic,words,letters\",\n",
    "#         guidance_scale=2,\n",
    "#         num_inference_steps=10\n",
    "#     )\n",
    "#     image.show()\n",
    "    \n",
    "def img_gen(text: str,model:str):\n",
    "    client = InferenceClient(\n",
    "    model=model,\n",
    "    token=API,\n",
    "    )\n",
    "    image = client.text_to_image(\n",
    "    \tf\"Text:{text}\",\n",
    "\n",
    "        # guidance_scale=12,\n",
    "        # num_inference_steps=30,\n",
    "    )\n",
    "    name=model.replace(\"/\",\"_\")\n",
    "    image.save(f'''./model-test/{name}.png''')\n",
    "\n",
    "model=\"digiplay/aurorafantasy_v1\"\n",
    "text=\"a middle aged man near a crashed plane. he talking to a little boy with yellow hair in a dessert. //Style - landscape \"\n",
    "img_gen(text,model)\n"
   ]
  },
  {
   "cell_type": "code",
   "execution_count": 54,
   "metadata": {},
   "outputs": [
    {
     "ename": "KeyboardInterrupt",
     "evalue": "",
     "output_type": "error",
     "traceback": [
      "\u001b[0;31m---------------------------------------------------------------------------\u001b[0m",
      "\u001b[0;31mKeyboardInterrupt\u001b[0m                         Traceback (most recent call last)",
      "Cell \u001b[0;32mIn[54], line 3\u001b[0m\n\u001b[1;32m      1\u001b[0m model\u001b[38;5;241m=\u001b[39m\u001b[38;5;124m\"\u001b[39m\u001b[38;5;124mdigiplay/aurorafantasy_v1\u001b[39m\u001b[38;5;124m\"\u001b[39m\n\u001b[1;32m      2\u001b[0m text\u001b[38;5;241m=\u001b[39m\u001b[38;5;124m\"\u001b[39m\u001b[38;5;124ma middle aged man near a crashed plane. he talking to a little boy with yellow hair in a dessert. //Style - landscape \u001b[39m\u001b[38;5;124m\"\u001b[39m\n\u001b[0;32m----> 3\u001b[0m img_gen(text,model)\n",
      "Cell \u001b[0;32mIn[50], line 30\u001b[0m, in \u001b[0;36mimg_gen\u001b[0;34m(text, model)\u001b[0m\n\u001b[1;32m     25\u001b[0m \u001b[38;5;28;01mdef\u001b[39;00m \u001b[38;5;21mimg_gen\u001b[39m(text: \u001b[38;5;28mstr\u001b[39m,model:\u001b[38;5;28mstr\u001b[39m):\n\u001b[1;32m     26\u001b[0m     client \u001b[38;5;241m=\u001b[39m InferenceClient(\n\u001b[1;32m     27\u001b[0m     model\u001b[38;5;241m=\u001b[39mmodel,\n\u001b[1;32m     28\u001b[0m     token\u001b[38;5;241m=\u001b[39mAPI,\n\u001b[1;32m     29\u001b[0m     )\n\u001b[0;32m---> 30\u001b[0m     image \u001b[38;5;241m=\u001b[39m client\u001b[38;5;241m.\u001b[39mtext_to_image(\n\u001b[1;32m     31\u001b[0m     \t\u001b[38;5;124mf\u001b[39m\u001b[38;5;124m\"\u001b[39m\u001b[38;5;124mText:\u001b[39m\u001b[38;5;132;01m{\u001b[39;00mtext\u001b[38;5;132;01m}\u001b[39;00m\u001b[38;5;124m\"\u001b[39m,\n\u001b[1;32m     32\u001b[0m \n\u001b[1;32m     33\u001b[0m         \u001b[38;5;66;03m# guidance_scale=12,\u001b[39;00m\n\u001b[1;32m     34\u001b[0m         \u001b[38;5;66;03m# num_inference_steps=30,\u001b[39;00m\n\u001b[1;32m     35\u001b[0m     )\n\u001b[1;32m     36\u001b[0m     name\u001b[38;5;241m=\u001b[39mmodel\u001b[38;5;241m.\u001b[39mreplace(\u001b[38;5;124m\"\u001b[39m\u001b[38;5;124m/\u001b[39m\u001b[38;5;124m\"\u001b[39m,\u001b[38;5;124m\"\u001b[39m\u001b[38;5;124m_\u001b[39m\u001b[38;5;124m\"\u001b[39m)\n\u001b[1;32m     37\u001b[0m     image\u001b[38;5;241m.\u001b[39msave(\u001b[38;5;124mf\u001b[39m\u001b[38;5;124m'''\u001b[39m\u001b[38;5;124m./model-test/\u001b[39m\u001b[38;5;132;01m{\u001b[39;00mname\u001b[38;5;132;01m}\u001b[39;00m\u001b[38;5;124m.png\u001b[39m\u001b[38;5;124m'''\u001b[39m)\n",
      "File \u001b[0;32m~/anaconda3/envs/book/lib/python3.11/site-packages/huggingface_hub/inference/_client.py:2447\u001b[0m, in \u001b[0;36mInferenceClient.text_to_image\u001b[0;34m(self, prompt, negative_prompt, height, width, num_inference_steps, guidance_scale, model, scheduler, target_size, seed, **kwargs)\u001b[0m\n\u001b[1;32m   2435\u001b[0m parameters \u001b[38;5;241m=\u001b[39m {\n\u001b[1;32m   2436\u001b[0m     \u001b[38;5;124m\"\u001b[39m\u001b[38;5;124mnegative_prompt\u001b[39m\u001b[38;5;124m\"\u001b[39m: negative_prompt,\n\u001b[1;32m   2437\u001b[0m     \u001b[38;5;124m\"\u001b[39m\u001b[38;5;124mheight\u001b[39m\u001b[38;5;124m\"\u001b[39m: height,\n\u001b[0;32m   (...)\u001b[0m\n\u001b[1;32m   2444\u001b[0m     \u001b[38;5;241m*\u001b[39m\u001b[38;5;241m*\u001b[39mkwargs,\n\u001b[1;32m   2445\u001b[0m }\n\u001b[1;32m   2446\u001b[0m payload \u001b[38;5;241m=\u001b[39m _prepare_payload(prompt, parameters\u001b[38;5;241m=\u001b[39mparameters)\n\u001b[0;32m-> 2447\u001b[0m response \u001b[38;5;241m=\u001b[39m \u001b[38;5;28mself\u001b[39m\u001b[38;5;241m.\u001b[39mpost(\u001b[38;5;241m*\u001b[39m\u001b[38;5;241m*\u001b[39mpayload, model\u001b[38;5;241m=\u001b[39mmodel, task\u001b[38;5;241m=\u001b[39m\u001b[38;5;124m\"\u001b[39m\u001b[38;5;124mtext-to-image\u001b[39m\u001b[38;5;124m\"\u001b[39m)\n\u001b[1;32m   2448\u001b[0m \u001b[38;5;28;01mreturn\u001b[39;00m _bytes_to_image(response)\n",
      "File \u001b[0;32m~/anaconda3/envs/book/lib/python3.11/site-packages/huggingface_hub/inference/_client.py:291\u001b[0m, in \u001b[0;36mInferenceClient.post\u001b[0;34m(self, json, data, model, task, stream)\u001b[0m\n\u001b[1;32m    289\u001b[0m \u001b[38;5;28;01mwith\u001b[39;00m _open_as_binary(data) \u001b[38;5;28;01mas\u001b[39;00m data_as_binary:\n\u001b[1;32m    290\u001b[0m     \u001b[38;5;28;01mtry\u001b[39;00m:\n\u001b[0;32m--> 291\u001b[0m         response \u001b[38;5;241m=\u001b[39m get_session()\u001b[38;5;241m.\u001b[39mpost(\n\u001b[1;32m    292\u001b[0m             url,\n\u001b[1;32m    293\u001b[0m             json\u001b[38;5;241m=\u001b[39mjson,\n\u001b[1;32m    294\u001b[0m             data\u001b[38;5;241m=\u001b[39mdata_as_binary,\n\u001b[1;32m    295\u001b[0m             headers\u001b[38;5;241m=\u001b[39mheaders,\n\u001b[1;32m    296\u001b[0m             cookies\u001b[38;5;241m=\u001b[39m\u001b[38;5;28mself\u001b[39m\u001b[38;5;241m.\u001b[39mcookies,\n\u001b[1;32m    297\u001b[0m             timeout\u001b[38;5;241m=\u001b[39m\u001b[38;5;28mself\u001b[39m\u001b[38;5;241m.\u001b[39mtimeout,\n\u001b[1;32m    298\u001b[0m             stream\u001b[38;5;241m=\u001b[39mstream,\n\u001b[1;32m    299\u001b[0m             proxies\u001b[38;5;241m=\u001b[39m\u001b[38;5;28mself\u001b[39m\u001b[38;5;241m.\u001b[39mproxies,\n\u001b[1;32m    300\u001b[0m         )\n\u001b[1;32m    301\u001b[0m     \u001b[38;5;28;01mexcept\u001b[39;00m \u001b[38;5;167;01mTimeoutError\u001b[39;00m \u001b[38;5;28;01mas\u001b[39;00m error:\n\u001b[1;32m    302\u001b[0m         \u001b[38;5;66;03m# Convert any `TimeoutError` to a `InferenceTimeoutError`\u001b[39;00m\n\u001b[1;32m    303\u001b[0m         \u001b[38;5;28;01mraise\u001b[39;00m InferenceTimeoutError(\u001b[38;5;124mf\u001b[39m\u001b[38;5;124m\"\u001b[39m\u001b[38;5;124mInference call timed out: \u001b[39m\u001b[38;5;132;01m{\u001b[39;00murl\u001b[38;5;132;01m}\u001b[39;00m\u001b[38;5;124m\"\u001b[39m) \u001b[38;5;28;01mfrom\u001b[39;00m \u001b[38;5;21;01merror\u001b[39;00m  \u001b[38;5;66;03m# type: ignore\u001b[39;00m\n",
      "File \u001b[0;32m~/anaconda3/envs/book/lib/python3.11/site-packages/requests/sessions.py:577\u001b[0m, in \u001b[0;36mSession.post\u001b[0;34m(self, url, data, json, **kwargs)\u001b[0m\n\u001b[1;32m    566\u001b[0m \u001b[38;5;28;01mdef\u001b[39;00m \u001b[38;5;21mpost\u001b[39m(\u001b[38;5;28mself\u001b[39m, url, data\u001b[38;5;241m=\u001b[39m\u001b[38;5;28;01mNone\u001b[39;00m, json\u001b[38;5;241m=\u001b[39m\u001b[38;5;28;01mNone\u001b[39;00m, \u001b[38;5;241m*\u001b[39m\u001b[38;5;241m*\u001b[39mkwargs):\n\u001b[1;32m    567\u001b[0m \u001b[38;5;250m    \u001b[39m\u001b[38;5;124mr\u001b[39m\u001b[38;5;124;03m\"\"\"Sends a POST request. Returns :class:`Response` object.\u001b[39;00m\n\u001b[1;32m    568\u001b[0m \n\u001b[1;32m    569\u001b[0m \u001b[38;5;124;03m    :param url: URL for the new :class:`Request` object.\u001b[39;00m\n\u001b[0;32m   (...)\u001b[0m\n\u001b[1;32m    574\u001b[0m \u001b[38;5;124;03m    :rtype: requests.Response\u001b[39;00m\n\u001b[1;32m    575\u001b[0m \u001b[38;5;124;03m    \"\"\"\u001b[39;00m\n\u001b[0;32m--> 577\u001b[0m     \u001b[38;5;28;01mreturn\u001b[39;00m \u001b[38;5;28mself\u001b[39m\u001b[38;5;241m.\u001b[39mrequest(\u001b[38;5;124m'\u001b[39m\u001b[38;5;124mPOST\u001b[39m\u001b[38;5;124m'\u001b[39m, url, data\u001b[38;5;241m=\u001b[39mdata, json\u001b[38;5;241m=\u001b[39mjson, \u001b[38;5;241m*\u001b[39m\u001b[38;5;241m*\u001b[39mkwargs)\n",
      "File \u001b[0;32m~/anaconda3/envs/book/lib/python3.11/site-packages/requests/sessions.py:529\u001b[0m, in \u001b[0;36mSession.request\u001b[0;34m(self, method, url, params, data, headers, cookies, files, auth, timeout, allow_redirects, proxies, hooks, stream, verify, cert, json)\u001b[0m\n\u001b[1;32m    524\u001b[0m send_kwargs \u001b[38;5;241m=\u001b[39m {\n\u001b[1;32m    525\u001b[0m     \u001b[38;5;124m'\u001b[39m\u001b[38;5;124mtimeout\u001b[39m\u001b[38;5;124m'\u001b[39m: timeout,\n\u001b[1;32m    526\u001b[0m     \u001b[38;5;124m'\u001b[39m\u001b[38;5;124mallow_redirects\u001b[39m\u001b[38;5;124m'\u001b[39m: allow_redirects,\n\u001b[1;32m    527\u001b[0m }\n\u001b[1;32m    528\u001b[0m send_kwargs\u001b[38;5;241m.\u001b[39mupdate(settings)\n\u001b[0;32m--> 529\u001b[0m resp \u001b[38;5;241m=\u001b[39m \u001b[38;5;28mself\u001b[39m\u001b[38;5;241m.\u001b[39msend(prep, \u001b[38;5;241m*\u001b[39m\u001b[38;5;241m*\u001b[39msend_kwargs)\n\u001b[1;32m    531\u001b[0m \u001b[38;5;28;01mreturn\u001b[39;00m resp\n",
      "File \u001b[0;32m~/anaconda3/envs/book/lib/python3.11/site-packages/requests/sessions.py:645\u001b[0m, in \u001b[0;36mSession.send\u001b[0;34m(self, request, **kwargs)\u001b[0m\n\u001b[1;32m    642\u001b[0m start \u001b[38;5;241m=\u001b[39m preferred_clock()\n\u001b[1;32m    644\u001b[0m \u001b[38;5;66;03m# Send the request\u001b[39;00m\n\u001b[0;32m--> 645\u001b[0m r \u001b[38;5;241m=\u001b[39m adapter\u001b[38;5;241m.\u001b[39msend(request, \u001b[38;5;241m*\u001b[39m\u001b[38;5;241m*\u001b[39mkwargs)\n\u001b[1;32m    647\u001b[0m \u001b[38;5;66;03m# Total elapsed time of the request (approximately)\u001b[39;00m\n\u001b[1;32m    648\u001b[0m elapsed \u001b[38;5;241m=\u001b[39m preferred_clock() \u001b[38;5;241m-\u001b[39m start\n",
      "File \u001b[0;32m~/anaconda3/envs/book/lib/python3.11/site-packages/huggingface_hub/utils/_http.py:93\u001b[0m, in \u001b[0;36mUniqueRequestIdAdapter.send\u001b[0;34m(self, request, *args, **kwargs)\u001b[0m\n\u001b[1;32m     91\u001b[0m \u001b[38;5;250m\u001b[39m\u001b[38;5;124;03m\"\"\"Catch any RequestException to append request id to the error message for debugging.\"\"\"\u001b[39;00m\n\u001b[1;32m     92\u001b[0m \u001b[38;5;28;01mtry\u001b[39;00m:\n\u001b[0;32m---> 93\u001b[0m     \u001b[38;5;28;01mreturn\u001b[39;00m \u001b[38;5;28msuper\u001b[39m()\u001b[38;5;241m.\u001b[39msend(request, \u001b[38;5;241m*\u001b[39margs, \u001b[38;5;241m*\u001b[39m\u001b[38;5;241m*\u001b[39mkwargs)\n\u001b[1;32m     94\u001b[0m \u001b[38;5;28;01mexcept\u001b[39;00m requests\u001b[38;5;241m.\u001b[39mRequestException \u001b[38;5;28;01mas\u001b[39;00m e:\n\u001b[1;32m     95\u001b[0m     request_id \u001b[38;5;241m=\u001b[39m request\u001b[38;5;241m.\u001b[39mheaders\u001b[38;5;241m.\u001b[39mget(X_AMZN_TRACE_ID)\n",
      "File \u001b[0;32m~/anaconda3/envs/book/lib/python3.11/site-packages/requests/adapters.py:440\u001b[0m, in \u001b[0;36mHTTPAdapter.send\u001b[0;34m(self, request, stream, timeout, verify, cert, proxies)\u001b[0m\n\u001b[1;32m    438\u001b[0m \u001b[38;5;28;01mtry\u001b[39;00m:\n\u001b[1;32m    439\u001b[0m     \u001b[38;5;28;01mif\u001b[39;00m \u001b[38;5;129;01mnot\u001b[39;00m chunked:\n\u001b[0;32m--> 440\u001b[0m         resp \u001b[38;5;241m=\u001b[39m conn\u001b[38;5;241m.\u001b[39murlopen(\n\u001b[1;32m    441\u001b[0m             method\u001b[38;5;241m=\u001b[39mrequest\u001b[38;5;241m.\u001b[39mmethod,\n\u001b[1;32m    442\u001b[0m             url\u001b[38;5;241m=\u001b[39murl,\n\u001b[1;32m    443\u001b[0m             body\u001b[38;5;241m=\u001b[39mrequest\u001b[38;5;241m.\u001b[39mbody,\n\u001b[1;32m    444\u001b[0m             headers\u001b[38;5;241m=\u001b[39mrequest\u001b[38;5;241m.\u001b[39mheaders,\n\u001b[1;32m    445\u001b[0m             redirect\u001b[38;5;241m=\u001b[39m\u001b[38;5;28;01mFalse\u001b[39;00m,\n\u001b[1;32m    446\u001b[0m             assert_same_host\u001b[38;5;241m=\u001b[39m\u001b[38;5;28;01mFalse\u001b[39;00m,\n\u001b[1;32m    447\u001b[0m             preload_content\u001b[38;5;241m=\u001b[39m\u001b[38;5;28;01mFalse\u001b[39;00m,\n\u001b[1;32m    448\u001b[0m             decode_content\u001b[38;5;241m=\u001b[39m\u001b[38;5;28;01mFalse\u001b[39;00m,\n\u001b[1;32m    449\u001b[0m             retries\u001b[38;5;241m=\u001b[39m\u001b[38;5;28mself\u001b[39m\u001b[38;5;241m.\u001b[39mmax_retries,\n\u001b[1;32m    450\u001b[0m             timeout\u001b[38;5;241m=\u001b[39mtimeout\n\u001b[1;32m    451\u001b[0m         )\n\u001b[1;32m    453\u001b[0m     \u001b[38;5;66;03m# Send the request.\u001b[39;00m\n\u001b[1;32m    454\u001b[0m     \u001b[38;5;28;01melse\u001b[39;00m:\n\u001b[1;32m    455\u001b[0m         \u001b[38;5;28;01mif\u001b[39;00m \u001b[38;5;28mhasattr\u001b[39m(conn, \u001b[38;5;124m'\u001b[39m\u001b[38;5;124mproxy_pool\u001b[39m\u001b[38;5;124m'\u001b[39m):\n",
      "File \u001b[0;32m~/anaconda3/envs/book/lib/python3.11/site-packages/urllib3/connectionpool.py:703\u001b[0m, in \u001b[0;36mHTTPConnectionPool.urlopen\u001b[0;34m(self, method, url, body, headers, retries, redirect, assert_same_host, timeout, pool_timeout, release_conn, chunked, body_pos, **response_kw)\u001b[0m\n\u001b[1;32m    700\u001b[0m     \u001b[38;5;28mself\u001b[39m\u001b[38;5;241m.\u001b[39m_prepare_proxy(conn)\n\u001b[1;32m    702\u001b[0m \u001b[38;5;66;03m# Make the request on the httplib connection object.\u001b[39;00m\n\u001b[0;32m--> 703\u001b[0m httplib_response \u001b[38;5;241m=\u001b[39m \u001b[38;5;28mself\u001b[39m\u001b[38;5;241m.\u001b[39m_make_request(\n\u001b[1;32m    704\u001b[0m     conn,\n\u001b[1;32m    705\u001b[0m     method,\n\u001b[1;32m    706\u001b[0m     url,\n\u001b[1;32m    707\u001b[0m     timeout\u001b[38;5;241m=\u001b[39mtimeout_obj,\n\u001b[1;32m    708\u001b[0m     body\u001b[38;5;241m=\u001b[39mbody,\n\u001b[1;32m    709\u001b[0m     headers\u001b[38;5;241m=\u001b[39mheaders,\n\u001b[1;32m    710\u001b[0m     chunked\u001b[38;5;241m=\u001b[39mchunked,\n\u001b[1;32m    711\u001b[0m )\n\u001b[1;32m    713\u001b[0m \u001b[38;5;66;03m# If we're going to release the connection in ``finally:``, then\u001b[39;00m\n\u001b[1;32m    714\u001b[0m \u001b[38;5;66;03m# the response doesn't need to know about the connection. Otherwise\u001b[39;00m\n\u001b[1;32m    715\u001b[0m \u001b[38;5;66;03m# it will also try to release it and we'll have a double-release\u001b[39;00m\n\u001b[1;32m    716\u001b[0m \u001b[38;5;66;03m# mess.\u001b[39;00m\n\u001b[1;32m    717\u001b[0m response_conn \u001b[38;5;241m=\u001b[39m conn \u001b[38;5;28;01mif\u001b[39;00m \u001b[38;5;129;01mnot\u001b[39;00m release_conn \u001b[38;5;28;01melse\u001b[39;00m \u001b[38;5;28;01mNone\u001b[39;00m\n",
      "File \u001b[0;32m~/anaconda3/envs/book/lib/python3.11/site-packages/urllib3/connectionpool.py:449\u001b[0m, in \u001b[0;36mHTTPConnectionPool._make_request\u001b[0;34m(self, conn, method, url, timeout, chunked, **httplib_request_kw)\u001b[0m\n\u001b[1;32m    444\u001b[0m             httplib_response \u001b[38;5;241m=\u001b[39m conn\u001b[38;5;241m.\u001b[39mgetresponse()\n\u001b[1;32m    445\u001b[0m         \u001b[38;5;28;01mexcept\u001b[39;00m \u001b[38;5;167;01mBaseException\u001b[39;00m \u001b[38;5;28;01mas\u001b[39;00m e:\n\u001b[1;32m    446\u001b[0m             \u001b[38;5;66;03m# Remove the TypeError from the exception chain in\u001b[39;00m\n\u001b[1;32m    447\u001b[0m             \u001b[38;5;66;03m# Python 3 (including for exceptions like SystemExit).\u001b[39;00m\n\u001b[1;32m    448\u001b[0m             \u001b[38;5;66;03m# Otherwise it looks like a bug in the code.\u001b[39;00m\n\u001b[0;32m--> 449\u001b[0m             six\u001b[38;5;241m.\u001b[39mraise_from(e, \u001b[38;5;28;01mNone\u001b[39;00m)\n\u001b[1;32m    450\u001b[0m \u001b[38;5;28;01mexcept\u001b[39;00m (SocketTimeout, BaseSSLError, SocketError) \u001b[38;5;28;01mas\u001b[39;00m e:\n\u001b[1;32m    451\u001b[0m     \u001b[38;5;28mself\u001b[39m\u001b[38;5;241m.\u001b[39m_raise_timeout(err\u001b[38;5;241m=\u001b[39me, url\u001b[38;5;241m=\u001b[39murl, timeout_value\u001b[38;5;241m=\u001b[39mread_timeout)\n",
      "File \u001b[0;32m<string>:3\u001b[0m, in \u001b[0;36mraise_from\u001b[0;34m(value, from_value)\u001b[0m\n",
      "File \u001b[0;32m~/anaconda3/envs/book/lib/python3.11/site-packages/urllib3/connectionpool.py:444\u001b[0m, in \u001b[0;36mHTTPConnectionPool._make_request\u001b[0;34m(self, conn, method, url, timeout, chunked, **httplib_request_kw)\u001b[0m\n\u001b[1;32m    441\u001b[0m \u001b[38;5;28;01mexcept\u001b[39;00m \u001b[38;5;167;01mTypeError\u001b[39;00m:\n\u001b[1;32m    442\u001b[0m     \u001b[38;5;66;03m# Python 3\u001b[39;00m\n\u001b[1;32m    443\u001b[0m     \u001b[38;5;28;01mtry\u001b[39;00m:\n\u001b[0;32m--> 444\u001b[0m         httplib_response \u001b[38;5;241m=\u001b[39m conn\u001b[38;5;241m.\u001b[39mgetresponse()\n\u001b[1;32m    445\u001b[0m     \u001b[38;5;28;01mexcept\u001b[39;00m \u001b[38;5;167;01mBaseException\u001b[39;00m \u001b[38;5;28;01mas\u001b[39;00m e:\n\u001b[1;32m    446\u001b[0m         \u001b[38;5;66;03m# Remove the TypeError from the exception chain in\u001b[39;00m\n\u001b[1;32m    447\u001b[0m         \u001b[38;5;66;03m# Python 3 (including for exceptions like SystemExit).\u001b[39;00m\n\u001b[1;32m    448\u001b[0m         \u001b[38;5;66;03m# Otherwise it looks like a bug in the code.\u001b[39;00m\n\u001b[1;32m    449\u001b[0m         six\u001b[38;5;241m.\u001b[39mraise_from(e, \u001b[38;5;28;01mNone\u001b[39;00m)\n",
      "File \u001b[0;32m~/anaconda3/envs/book/lib/python3.11/http/client.py:1395\u001b[0m, in \u001b[0;36mHTTPConnection.getresponse\u001b[0;34m(self)\u001b[0m\n\u001b[1;32m   1393\u001b[0m \u001b[38;5;28;01mtry\u001b[39;00m:\n\u001b[1;32m   1394\u001b[0m     \u001b[38;5;28;01mtry\u001b[39;00m:\n\u001b[0;32m-> 1395\u001b[0m         response\u001b[38;5;241m.\u001b[39mbegin()\n\u001b[1;32m   1396\u001b[0m     \u001b[38;5;28;01mexcept\u001b[39;00m \u001b[38;5;167;01mConnectionError\u001b[39;00m:\n\u001b[1;32m   1397\u001b[0m         \u001b[38;5;28mself\u001b[39m\u001b[38;5;241m.\u001b[39mclose()\n",
      "File \u001b[0;32m~/anaconda3/envs/book/lib/python3.11/http/client.py:325\u001b[0m, in \u001b[0;36mHTTPResponse.begin\u001b[0;34m(self)\u001b[0m\n\u001b[1;32m    323\u001b[0m \u001b[38;5;66;03m# read until we get a non-100 response\u001b[39;00m\n\u001b[1;32m    324\u001b[0m \u001b[38;5;28;01mwhile\u001b[39;00m \u001b[38;5;28;01mTrue\u001b[39;00m:\n\u001b[0;32m--> 325\u001b[0m     version, status, reason \u001b[38;5;241m=\u001b[39m \u001b[38;5;28mself\u001b[39m\u001b[38;5;241m.\u001b[39m_read_status()\n\u001b[1;32m    326\u001b[0m     \u001b[38;5;28;01mif\u001b[39;00m status \u001b[38;5;241m!=\u001b[39m CONTINUE:\n\u001b[1;32m    327\u001b[0m         \u001b[38;5;28;01mbreak\u001b[39;00m\n",
      "File \u001b[0;32m~/anaconda3/envs/book/lib/python3.11/http/client.py:286\u001b[0m, in \u001b[0;36mHTTPResponse._read_status\u001b[0;34m(self)\u001b[0m\n\u001b[1;32m    285\u001b[0m \u001b[38;5;28;01mdef\u001b[39;00m \u001b[38;5;21m_read_status\u001b[39m(\u001b[38;5;28mself\u001b[39m):\n\u001b[0;32m--> 286\u001b[0m     line \u001b[38;5;241m=\u001b[39m \u001b[38;5;28mstr\u001b[39m(\u001b[38;5;28mself\u001b[39m\u001b[38;5;241m.\u001b[39mfp\u001b[38;5;241m.\u001b[39mreadline(_MAXLINE \u001b[38;5;241m+\u001b[39m \u001b[38;5;241m1\u001b[39m), \u001b[38;5;124m\"\u001b[39m\u001b[38;5;124miso-8859-1\u001b[39m\u001b[38;5;124m\"\u001b[39m)\n\u001b[1;32m    287\u001b[0m     \u001b[38;5;28;01mif\u001b[39;00m \u001b[38;5;28mlen\u001b[39m(line) \u001b[38;5;241m>\u001b[39m _MAXLINE:\n\u001b[1;32m    288\u001b[0m         \u001b[38;5;28;01mraise\u001b[39;00m LineTooLong(\u001b[38;5;124m\"\u001b[39m\u001b[38;5;124mstatus line\u001b[39m\u001b[38;5;124m\"\u001b[39m)\n",
      "File \u001b[0;32m~/anaconda3/envs/book/lib/python3.11/socket.py:718\u001b[0m, in \u001b[0;36mSocketIO.readinto\u001b[0;34m(self, b)\u001b[0m\n\u001b[1;32m    716\u001b[0m \u001b[38;5;28;01mwhile\u001b[39;00m \u001b[38;5;28;01mTrue\u001b[39;00m:\n\u001b[1;32m    717\u001b[0m     \u001b[38;5;28;01mtry\u001b[39;00m:\n\u001b[0;32m--> 718\u001b[0m         \u001b[38;5;28;01mreturn\u001b[39;00m \u001b[38;5;28mself\u001b[39m\u001b[38;5;241m.\u001b[39m_sock\u001b[38;5;241m.\u001b[39mrecv_into(b)\n\u001b[1;32m    719\u001b[0m     \u001b[38;5;28;01mexcept\u001b[39;00m timeout:\n\u001b[1;32m    720\u001b[0m         \u001b[38;5;28mself\u001b[39m\u001b[38;5;241m.\u001b[39m_timeout_occurred \u001b[38;5;241m=\u001b[39m \u001b[38;5;28;01mTrue\u001b[39;00m\n",
      "File \u001b[0;32m~/anaconda3/envs/book/lib/python3.11/ssl.py:1314\u001b[0m, in \u001b[0;36mSSLSocket.recv_into\u001b[0;34m(self, buffer, nbytes, flags)\u001b[0m\n\u001b[1;32m   1310\u001b[0m     \u001b[38;5;28;01mif\u001b[39;00m flags \u001b[38;5;241m!=\u001b[39m \u001b[38;5;241m0\u001b[39m:\n\u001b[1;32m   1311\u001b[0m         \u001b[38;5;28;01mraise\u001b[39;00m \u001b[38;5;167;01mValueError\u001b[39;00m(\n\u001b[1;32m   1312\u001b[0m           \u001b[38;5;124m\"\u001b[39m\u001b[38;5;124mnon-zero flags not allowed in calls to recv_into() on \u001b[39m\u001b[38;5;132;01m%s\u001b[39;00m\u001b[38;5;124m\"\u001b[39m \u001b[38;5;241m%\u001b[39m\n\u001b[1;32m   1313\u001b[0m           \u001b[38;5;28mself\u001b[39m\u001b[38;5;241m.\u001b[39m\u001b[38;5;18m__class__\u001b[39m)\n\u001b[0;32m-> 1314\u001b[0m     \u001b[38;5;28;01mreturn\u001b[39;00m \u001b[38;5;28mself\u001b[39m\u001b[38;5;241m.\u001b[39mread(nbytes, buffer)\n\u001b[1;32m   1315\u001b[0m \u001b[38;5;28;01melse\u001b[39;00m:\n\u001b[1;32m   1316\u001b[0m     \u001b[38;5;28;01mreturn\u001b[39;00m \u001b[38;5;28msuper\u001b[39m()\u001b[38;5;241m.\u001b[39mrecv_into(buffer, nbytes, flags)\n",
      "File \u001b[0;32m~/anaconda3/envs/book/lib/python3.11/ssl.py:1166\u001b[0m, in \u001b[0;36mSSLSocket.read\u001b[0;34m(self, len, buffer)\u001b[0m\n\u001b[1;32m   1164\u001b[0m \u001b[38;5;28;01mtry\u001b[39;00m:\n\u001b[1;32m   1165\u001b[0m     \u001b[38;5;28;01mif\u001b[39;00m buffer \u001b[38;5;129;01mis\u001b[39;00m \u001b[38;5;129;01mnot\u001b[39;00m \u001b[38;5;28;01mNone\u001b[39;00m:\n\u001b[0;32m-> 1166\u001b[0m         \u001b[38;5;28;01mreturn\u001b[39;00m \u001b[38;5;28mself\u001b[39m\u001b[38;5;241m.\u001b[39m_sslobj\u001b[38;5;241m.\u001b[39mread(\u001b[38;5;28mlen\u001b[39m, buffer)\n\u001b[1;32m   1167\u001b[0m     \u001b[38;5;28;01melse\u001b[39;00m:\n\u001b[1;32m   1168\u001b[0m         \u001b[38;5;28;01mreturn\u001b[39;00m \u001b[38;5;28mself\u001b[39m\u001b[38;5;241m.\u001b[39m_sslobj\u001b[38;5;241m.\u001b[39mread(\u001b[38;5;28mlen\u001b[39m)\n",
      "\u001b[0;31mKeyboardInterrupt\u001b[0m: "
     ]
    }
   ],
   "source": [
    "model=\"digiplay/aurorafantasy_v1\"\n",
    "text=\"a middle aged man near a crashed plane. he talking to a little boy with yellow hair in a dessert. //Style - landscape \"\n",
    "img_gen(text,model)\n",
    "\n"
   ]
  },
  {
   "cell_type": "code",
   "execution_count": 98,
   "metadata": {},
   "outputs": [],
   "source": [
    "def get_images(key, text,tag,characters,places,style):\n",
    "    image = client.text_to_image(\n",
    "        f\"Text: {text}// context-> characters: {characters}, places:{places} // style:{style} \",\n",
    "        negative_prompt=\"hand,feet,text,written,shinny,artificial,unnatural,plastic,words,letters\",\n",
    "        height=1024,\n",
    "        width= 1024,\n",
    "        guidance_scale=2,\n",
    "        num_inference_steps=10\n",
    "        \n",
    "    )\n",
    "    image.save(f\"./output/{title}_{key}_{tag}.png\")"
   ]
  },
  {
   "cell_type": "code",
   "execution_count": 99,
   "metadata": {},
   "outputs": [
    {
     "data": {
      "text/plain": [
       "[['A young boy, around 6 years old, is drawing a boa constrictor digesting an elephant. The scene is set in his home, with a sense of isolation and confusion as the grown-ups do not understand his drawing. The mood is playful yet frustrated.',\n",
       "  'The same boy, now a grown-up and a pilot, is stranded in the Sahara desert with a broken engine. He encounters a mysterious little man who requests a drawing of a sheep. The scene is set in the desert, with a sense of danger and loneliness.',\n",
       "  'The little man, now referred to as the little prince, continues to ask questions and reveal his origins to the pilot. The scene is set in the desert, with a sense of mystery and intrigue.'],\n",
       " ['A young boy, around 6 years old, is drawing a boa constrictor digesting an elephant. The scene is set in his home, with a sense of isolation and confusion as the grown-ups do not understand his drawing. The mood is playful yet frustrated.',\n",
       "  'The same boy, now a grown-up and a pilot, is stranded in the Sahara desert with a broken engine. He encounters a mysterious little man who requests a drawing of a sheep. The scene is set in the desert, with a sense of danger and loneliness.',\n",
       "  'The little man, now referred to as the little prince, continues to ask questions and reveal his origins to the pilot. The scene is set in the desert, with a sense of mystery and intrigue.'],\n",
       " ['A young boy, around 6 years old, is drawing a boa constrictor digesting an elephant. The scene is set in his home, with a sense of isolation and confusion as the grown-ups do not understand his drawing. The mood is playful yet frustrated.',\n",
       "  'The same boy, now a grown-up and a pilot, is stranded in the Sahara desert with a broken engine. He encounters a mysterious little man who requests a drawing of a sheep. The scene is set in the desert, with a sense of danger and loneliness.',\n",
       "  'The little man, now referred to as the little prince, continues to ask questions and reveal his origins to the pilot. The scene is set in the desert, with a sense of mystery and intrigue.']]"
      ]
     },
     "execution_count": 99,
     "metadata": {},
     "output_type": "execute_result"
    }
   ],
   "source": [
    "# outputs=[]\n",
    "outputs=[[val for key,val in chapter_prompt.items()] for chapter_prompt in scene_output_list]\n",
    "outputs"
   ]
  },
  {
   "cell_type": "markdown",
   "metadata": {},
   "source": [
    "### Loop Logic\n",
    "![Local Image](/home/prince/Documents/Project/BOOK/media/Image_Loop.png )"
   ]
  },
  {
   "cell_type": "code",
   "execution_count": 100,
   "metadata": {},
   "outputs": [
    {
     "name": "stdout",
     "output_type": "stream",
     "text": [
      "C0S1 saved. tag :  \n",
      "    prompt:A young boy, around 6 years old, is drawing a boa constrictor digesting an elephant. The scene is set in his home, with a sense of isolation and confusion as the grown-ups do not understand his drawing. The mood is playful yet frustrated. \n",
      "    characters:{'Author': 'A grown-up author who used to draw and dream of becoming a painter, but was discouraged by adults. Later, he became a plane pilot.'}\n",
      "    places:{'Sahara Desert': 'A vast, isolated desert where the author had a breakdown in his plane. The environment is harsh and unforgiving.'}\n",
      "C0S2 saved. tag :  \n",
      "    prompt:The same boy, now a grown-up and a pilot, is stranded in the Sahara desert with a broken engine. He encounters a mysterious little man who requests a drawing of a sheep. The scene is set in the desert, with a sense of danger and loneliness. \n",
      "    characters:{'Author': 'A grown-up author who used to draw and dream of becoming a painter, but was discouraged by adults. Later, he became a plane pilot.'}\n",
      "    places:{'Sahara Desert': 'A vast, isolated desert where the author had a breakdown in his plane. The environment is harsh and unforgiving.'}\n",
      "C0S3 saved. tag :  \n",
      "    prompt:The little man, now referred to as the little prince, continues to ask questions and reveal his origins to the pilot. The scene is set in the desert, with a sense of mystery and intrigue. \n",
      "    characters:{'Author': 'A grown-up author who used to draw and dream of becoming a painter, but was discouraged by adults. Later, he became a plane pilot.'}\n",
      "    places:{'Sahara Desert': 'A vast, isolated desert where the author had a breakdown in his plane. The environment is harsh and unforgiving.'}\n",
      "C1S1 saved. tag :  \n",
      "    prompt:A young boy, around 6 years old, is drawing a boa constrictor digesting an elephant. The scene is set in his home, with a sense of isolation and confusion as the grown-ups do not understand his drawing. The mood is playful yet frustrated. \n",
      "    characters:{'Author': 'A grown-up author who used to draw and dream of becoming a painter, but was discouraged by adults. Later, he became a plane pilot. He is also the narrator of the story and encounters the Little Prince in the Sahara Desert.'}\n",
      "    places:{'Sahara Desert': 'A vast, isolated desert where the author had a breakdown in his plane. The environment is harsh and unforgiving, with temperatures reaching extreme highs. The vibe is desolate and the structure is barren sand dunes.'}\n",
      "C1S2 saved. tag :  \n",
      "    prompt:The same boy, now a grown-up and a pilot, is stranded in the Sahara desert with a broken engine. He encounters a mysterious little man who requests a drawing of a sheep. The scene is set in the desert, with a sense of danger and loneliness. \n",
      "    characters:{'Author': 'A grown-up author who used to draw and dream of becoming a painter, but was discouraged by adults. Later, he became a plane pilot. He is also the narrator of the story and encounters the Little Prince in the Sahara Desert.'}\n",
      "    places:{'Sahara Desert': 'A vast, isolated desert where the author had a breakdown in his plane. The environment is harsh and unforgiving, with temperatures reaching extreme highs. The vibe is desolate and the structure is barren sand dunes.'}\n",
      "C1S3 saved. tag :  \n",
      "    prompt:The little man, now referred to as the little prince, continues to ask questions and reveal his origins to the pilot. The scene is set in the desert, with a sense of mystery and intrigue. \n",
      "    characters:{'Author': 'A grown-up author who used to draw and dream of becoming a painter, but was discouraged by adults. Later, he became a plane pilot. He is also the narrator of the story and encounters the Little Prince in the Sahara Desert.'}\n",
      "    places:{'Sahara Desert': 'A vast, isolated desert where the author had a breakdown in his plane. The environment is harsh and unforgiving, with temperatures reaching extreme highs. The vibe is desolate and the structure is barren sand dunes.'}\n",
      "C2S1 saved. tag :  \n",
      "    prompt:A young boy, around 6 years old, is drawing a boa constrictor digesting an elephant. The scene is set in his home, with a sense of isolation and confusion as the grown-ups do not understand his drawing. The mood is playful yet frustrated. \n",
      "    characters:{'Author': 'A grown-up author who used to draw and dream of becoming a painter, but was discouraged by adults. Later, he became a plane pilot. He is also the narrator of the story and encounters the Little Prince in the Sahara Desert.'}\n",
      "    places:{'Sahara Desert': 'A vast, isolated desert where the author had a breakdown in his plane. The environment is harsh and unforgiving, with temperatures reaching extreme highs. The vibe is desolate and the structure is barren sand dunes.'}\n",
      "C2S2 saved. tag :  \n",
      "    prompt:The same boy, now a grown-up and a pilot, is stranded in the Sahara desert with a broken engine. He encounters a mysterious little man who requests a drawing of a sheep. The scene is set in the desert, with a sense of danger and loneliness. \n",
      "    characters:{'Author': 'A grown-up author who used to draw and dream of becoming a painter, but was discouraged by adults. Later, he became a plane pilot. He is also the narrator of the story and encounters the Little Prince in the Sahara Desert.'}\n",
      "    places:{'Sahara Desert': 'A vast, isolated desert where the author had a breakdown in his plane. The environment is harsh and unforgiving, with temperatures reaching extreme highs. The vibe is desolate and the structure is barren sand dunes.'}\n",
      "C2S3 saved. tag :  \n",
      "    prompt:The little man, now referred to as the little prince, continues to ask questions and reveal his origins to the pilot. The scene is set in the desert, with a sense of mystery and intrigue. \n",
      "    characters:{'Author': 'A grown-up author who used to draw and dream of becoming a painter, but was discouraged by adults. Later, he became a plane pilot. He is also the narrator of the story and encounters the Little Prince in the Sahara Desert.'}\n",
      "    places:{'Sahara Desert': 'A vast, isolated desert where the author had a breakdown in his plane. The environment is harsh and unforgiving, with temperatures reaching extreme highs. The vibe is desolate and the structure is barren sand dunes.'}\n"
     ]
    }
   ],
   "source": [
    "\n",
    "for idx,i in enumerate(outputs):\n",
    "    chars=output_dict[idx+1][\"characters\"]\n",
    "    places=output_dict[idx+1][\"places\"]\n",
    "    for jdx,j in enumerate(i):\n",
    "        ##try except for internal server error\n",
    "        try:\n",
    "            key=f\"C{idx}S{jdx+1}\"\n",
    "            text=j\n",
    "            tag=\"\"\n",
    "            get_images(key=key,text=text,tag=tag,characters=chars,places=places,style=style)\n",
    "            print(f\"{key} saved. tag : {tag} \")\n",
    "            print(f\"    prompt:{text} \\n    characters:{chars}\\n    places:{places}\")\n",
    "        except Exception as e:\n",
    "            print(f\"Error while calling the API :{e} \\n waiting for 10 seconds.. \")\n",
    "            time.sleep(10)\n",
    "            get_images(key=key,text=text,tag=tag,characters=chars,places=places,style=style)\n",
    "            print(f\"{key} saved. tag : {tag} \")\n",
    "            print(f\"    prompt:{text}\")\n",
    "\n",
    "        time.sleep(18)"
   ]
  }
 ],
 "metadata": {
  "kernelspec": {
   "display_name": "book",
   "language": "python",
   "name": "python3"
  },
  "language_info": {
   "codemirror_mode": {
    "name": "ipython",
    "version": 3
   },
   "file_extension": ".py",
   "mimetype": "text/x-python",
   "name": "python",
   "nbconvert_exporter": "python",
   "pygments_lexer": "ipython3",
   "version": "3.11.11"
  }
 },
 "nbformat": 4,
 "nbformat_minor": 2
}
