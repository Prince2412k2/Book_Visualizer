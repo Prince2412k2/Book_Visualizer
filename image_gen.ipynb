{
 "cells": [
  {
   "cell_type": "markdown",
   "metadata": {},
   "source": [
    "## DOCUMENTATION\n",
    "___\n",
    "### **LLM**\n",
    "\n",
    "| **Model**                    | **Context Window** |**Limits**           |\n",
    "|------------------------------|--------------------|---------------------|\n",
    "| **Qwen 2.5 35B Code**        | Up to 128K tokens  |Fine Tuned for coding|\n",
    "| **Cohere Command R+**        | Up to 128K tokens  | 1000 calls per month|\n",
    "| **Mistral-7B-Instruct-v0.3** | 32,768 tokens      | Hallucinations      |\n",
    "\n",
    "Using `Mistral-7B-Instruct-v0.3` because reliable outputs and 1000 calls per day\n",
    "\n",
    "\n",
    "\n",
    "### **Text-to-Image**\n",
    "\n",
    "\n",
    "| **Category**               | **Stable Diffusion 3.5 Large Turbo**                                                                 | **FLUX.1-Dev FP16**                                                                       |\n",
    "|----------------------------|-----------------------------------------------------------------------------------------------------|-------------------------------------------------------------------------------------------|\n",
    "| **API Endpoint**           | `stabilityai/stable-diffusion-3-5-large-turbo`                                                     | `black-forest-labs/FLUX.1-Dev-FP16`                                                     |\n",
    "| **Key API Parameters**     | `guidance_scale=3`, `num_inference_steps=4`, `negative_prompt`                                     | `num_inference_steps=8`, `control_image` (Canny/Depth), `true_cfg=4.0`                  |\n",
    "| **API Latency**            | 3.8–5.2 sec/image (cold start: 12–18 sec)                                                          | 6.1–8.9 sec/image (cold start: 15–22 sec)                                                |\n",
    "| **Cost Efficiency**        | $0.0021/image (PRO tier)                                                                           | $0.0033/image (PRO tier)                                                                 |\n",
    "| **Free Tier Limits**       | 500 requests/hour                                                                                  | 300 requests/hour                                                                        |\n",
    "| **Max Resolution**         | 1024x1024 via single API call                                                                      | 2048x2048 (requires `high_res_fix=true` parameter)                                       |\n",
    "| **Advanced Features**      | - 4-step inference <br> - Text-to-image only                                                       | - Unified ControlNet (Canny/Depth) <br> - Image-to-image <br> - Inpainting/Outpainting   |\n",
    "| **NSFW Filtering**         | Enabled by default (`safety_checker=strict`)                                                       | Optional (`safety_checker=relaxed`)                                                      |\n",
    "| **Rate Limits (PRO)**      | 5K requests/hour                                                                                   | 3K requests/hour                                                                         |\n",
    "| **Use Case Focus**         | Rapid batch generation (social media, prototyping)                                                 | High-detail workflows (product design, architectural viz)                                |\n",
    "\n",
    "using `SD-3.5-LT` because latency is low, More requests and we want stialized images which is better on SD \n",
    "\n"
   ]
  },
  {
   "cell_type": "code",
   "execution_count": 2,
   "metadata": {},
   "outputs": [],
   "source": [
    "from reader import ebook\n",
    "from main import read_list,read_json\n",
    "from typing import Optional,Dict,List\n",
    "import requests\n",
    "from dotenv import load_dotenv\n",
    "import json\n",
    "import os\n",
    "from pydantic import BaseModel, conint\n",
    "from dataclasses import dataclass"
   ]
  },
  {
   "cell_type": "code",
   "execution_count": 3,
   "metadata": {},
   "outputs": [],
   "source": [
    "load_dotenv()\n",
    "API = os.getenv(\"HF_API\")\n",
    "\n",
    "headers = {\n",
    "    \"Authorization\": f\"Bearer {API}\",\n",
    "    \"Content-Type\": \"application/json\",\n",
    "}\n",
    "url = \"https://api-inference.huggingface.co/models/mistralai/Mistral-7B-Instruct-v0.3/v1/chat/completions\"\n",
    "\n"
   ]
  },
  {
   "cell_type": "markdown",
   "metadata": {},
   "source": [
    "___\n",
    "___"
   ]
  },
  {
   "cell_type": "markdown",
   "metadata": {},
   "source": [
    "# Get **Summary**, **Characters** AND **Places** "
   ]
  },
  {
   "cell_type": "markdown",
   "metadata": {},
   "source": [
    "![Local Image](/home/prince/Documents/Project/BOOK/media/Sudo_summary.png \"Smmary, characters and Places\")"
   ]
  },
  {
   "cell_type": "code",
   "execution_count": 4,
   "metadata": {},
   "outputs": [],
   "source": [
    "sum_role='''(NOTE: Only output in JSON. Ensure the JSON format is valid, well-formed, and Ready to parse. nothing before or after the json file)\n",
    "Input:  \n",
    "1.Current Chapter Text: The current chapter to be analyzed.\n",
    "2.Character List: A list of characters with their descriptions till now (This chapter).\n",
    "3.Places list: list of places and their description till now (This chapter).\n",
    "4.Previous Chapters' Summary: Context from earlier chapters.\n",
    "\n",
    "Rules:  \n",
    "1.Narrative Summary: Summarize and explain the chapter in detail, integrating context and key developments from previous chapters and create a self containing summary and explaination. end with to be continued.\n",
    "2.Character List: add new characters to the list based on this chapter and Update existing character descriptions. If no characters are mentioned, return the same list as given.\n",
    "3.Places: Include an updated description of any significant locations mentioned in this chapter, focusing on environment, weather, vibe, and structure.\n",
    "4.Output Format: Ensure the output is valid and well-structured JSON.\n",
    "\n",
    "Output:  \n",
    "Generate a JSON object in this format:\n",
    "{\n",
    "  \"summary\": \"Detailed Summary and explination of the current chapter in context of previous chapters. Use previus chapter summary as context\",\n",
    "  \"characters\": {\n",
    "      \"Character Name\": \"Updated or new description (age, looks, clothes, hair, body language) based on this chapter.\"\n",
    "    },\n",
    "  \"places\": {\n",
    "      \"Place Name\": \"Updated or new description (environment, weather, vibe, structure, etc.) based on this chapter.\"\n",
    "  }\n",
    "}\n",
    "'''"
   ]
  },
  {
   "cell_type": "markdown",
   "metadata": {},
   "source": [
    "#### **get_sum()** Function\n",
    "![Local Image](/home/prince/Documents/Project/BOOK/media/Get_sum_logic.png \"Smmary, characters and Places\")\n",
    "\n",
    "\n",
    "outputdir=\n",
    "```{\n",
    "    0:\n",
    "        {\n",
    "            \"summary\":\"No previous Context Yet\",\n",
    "            \"characters\":{},\n",
    "            \"places\": {}\n",
    "        }\n",
    "            }```\n"
   ]
  },
  {
   "cell_type": "code",
   "execution_count": 5,
   "metadata": {},
   "outputs": [],
   "source": [
    "\n",
    "\n",
    "class SummarySchema(BaseModel):\n",
    "    summary: str\n",
    "    characters: Dict[str,str]\n",
    "    places: Dict[str,str]\n",
    "\n",
    "def sum_msg(text: str, context: str, characters: dict = {}, places: dict = {}) -> list:\n",
    "    message = [\n",
    "        {\n",
    "            \"role\": \"system\",\n",
    "            \"content\": sum_role\n",
    "        },\n",
    "        {\n",
    "            \"role\": \"user\",\n",
    "            \"content\": json.dumps({\n",
    "                \"past_context\": context,\n",
    "                \"Current_Chapter\": text,\n",
    "                \"character_list\": characters,\n",
    "                \"places_list\": places\n",
    "            }),\n",
    "        },\n",
    "    ]\n",
    "    return message\n",
    "\n",
    "def get_summ(messages:Dict[str,str]) -> Optional[str]:\n",
    "    data = {\n",
    "        \"messages\": messages,\n",
    "        \"temperature\": 0.7,\n",
    "        \"stream\": False,\n",
    "        \"max_tokens\":10000,\n",
    "        \"parameters\": {\n",
    "        \"repetition_penalty\": 1.3,\n",
    "        \"grammar\": {\n",
    "            \"type\": \"json\",\n",
    "            \"value\": SummarySchema.model_json_schema()\n",
    "                }\n",
    "                    }\n",
    "    }\n",
    "    response = requests.post(url, headers=headers, json=data)\n",
    "\n",
    "    if response.status_code == 200:\n",
    "        response_data = response.json()\n",
    "        assistant_message = response_data[\"choices\"][0][\"message\"][\"content\"]\n",
    "        return assistant_message\n",
    "    else:\n",
    "        print(f\"Error: {response.status_code}, {response.text}\")\n",
    "        return None\n",
    "\n"
   ]
  },
  {
   "cell_type": "code",
   "execution_count": 6,
   "metadata": {},
   "outputs": [],
   "source": [
    "# book=ebook(\"./books/Alchemist/Alchemist.epub\")\n",
    "book=ebook(\"./books/LP.epub\")\n",
    "title=book.get_metadata()['title']\n",
    "_,text=zip(*book.get_chapters())\n",
    "text=text[:3]\n",
    "\n"
   ]
  },
  {
   "cell_type": "code",
   "execution_count": 7,
   "metadata": {},
   "outputs": [],
   "source": [
    "output_dict={\n",
    "    0:\n",
    "        {\n",
    "            \"summary\":\"No previous Context Yet\",\n",
    "            \"characters\":{},\n",
    "            \"places\": {}\n",
    "        }\n",
    "            }\n"
   ]
  },
  {
   "cell_type": "code",
   "execution_count": 8,
   "metadata": {},
   "outputs": [
    {
     "name": "stdout",
     "output_type": "stream",
     "text": [
      "chapter: 0 done\n",
      "{0: {'summary': 'No previous Context Yet', 'characters': {}, 'places': {}}, 1: {'summary': \"This chapter, the narrator reflects on his childhood and a particular drawing of a boa constrictor digesting an elephant, which he showed to adults who misunderstood it as a drawing of a hat. Despite their lack of understanding, the narrator continues to draw and later becomes a pilot. In the Sahara desert six years ago, he experiences a breakdown and is saved by a mysterious voice that asks him to draw a sheep. The chapter explores the narrator's frustration with adults who fail to comprehend his art and his isolation, which is later alleviated by the voice in the desert.\", 'characters': {'Narrator': 'A pilot who, as a child, struggled to communicate his art to adults due to their inability to understand. Shown to be isolated and frustrated, but later finds solace in the mysterious voice in the desert.'}, 'places': {'Sahara Desert': 'A vast, isolated desert where the narrator experiences a breakdown. The harsh environment and isolation are contrasted with the friendly voice that later emerges.'}}}\n",
      "chapter: 1 done\n",
      "{0: {'summary': 'No previous Context Yet', 'characters': {}, 'places': {}}, 1: {'summary': \"This chapter, the narrator reflects on his childhood and a particular drawing of a boa constrictor digesting an elephant, which he showed to adults who misunderstood it as a drawing of a hat. Despite their lack of understanding, the narrator continues to draw and later becomes a pilot. In the Sahara desert six years ago, he experiences a breakdown and is saved by a mysterious voice that asks him to draw a sheep. The chapter explores the narrator's frustration with adults who fail to comprehend his art and his isolation, which is later alleviated by the voice in the desert.\", 'characters': {'Narrator': 'A pilot who, as a child, struggled to communicate his art to adults due to their inability to understand. Shown to be isolated and frustrated, but later finds solace in the mysterious voice in the desert.'}, 'places': {'Sahara Desert': 'A vast, isolated desert where the narrator experiences a breakdown. The harsh environment and isolation are contrasted with the friendly voice that later emerges.'}}, 2: {'summary': \"In this chapter, the narrator reflects on his past experiences, particularly his struggles with adults who failed to understand his art. He recounts an encounter in the Sahara Desert six years ago, where a mysterious voice asked him to draw a sheep. Despite his initial skepticism, he eventually complied, leading to a conversation with the voice which he later came to know as the Little Prince. The chapter explores the narrator's feelings of isolation and frustration with adults, and the unexpected encounter that alleviated his loneliness.\", 'characters': {'Narrator': 'A pilot who, as a child, struggled to communicate his art to adults due to their inability to understand. Shown to be isolated and frustrated, but later finds solace in the mysterious voice in the desert. He is now an older man, still grappling with the misunderstandings of his past.'}, 'places': {'Sahara Desert': 'A vast, isolated desert where the narrator experiences a breakdown. The harsh environment and isolation are contrasted with the friendly voice that later emerges, creating a stark contrast between the desolation of the desert and the warmth of human connection.'}}}\n",
      "chapter: 2 done\n",
      "{0: {'summary': 'No previous Context Yet', 'characters': {}, 'places': {}}, 1: {'summary': \"This chapter, the narrator reflects on his childhood and a particular drawing of a boa constrictor digesting an elephant, which he showed to adults who misunderstood it as a drawing of a hat. Despite their lack of understanding, the narrator continues to draw and later becomes a pilot. In the Sahara desert six years ago, he experiences a breakdown and is saved by a mysterious voice that asks him to draw a sheep. The chapter explores the narrator's frustration with adults who fail to comprehend his art and his isolation, which is later alleviated by the voice in the desert.\", 'characters': {'Narrator': 'A pilot who, as a child, struggled to communicate his art to adults due to their inability to understand. Shown to be isolated and frustrated, but later finds solace in the mysterious voice in the desert.'}, 'places': {'Sahara Desert': 'A vast, isolated desert where the narrator experiences a breakdown. The harsh environment and isolation are contrasted with the friendly voice that later emerges.'}}, 2: {'summary': \"In this chapter, the narrator reflects on his past experiences, particularly his struggles with adults who failed to understand his art. He recounts an encounter in the Sahara Desert six years ago, where a mysterious voice asked him to draw a sheep. Despite his initial skepticism, he eventually complied, leading to a conversation with the voice which he later came to know as the Little Prince. The chapter explores the narrator's feelings of isolation and frustration with adults, and the unexpected encounter that alleviated his loneliness.\", 'characters': {'Narrator': 'A pilot who, as a child, struggled to communicate his art to adults due to their inability to understand. Shown to be isolated and frustrated, but later finds solace in the mysterious voice in the desert. He is now an older man, still grappling with the misunderstandings of his past.'}, 'places': {'Sahara Desert': 'A vast, isolated desert where the narrator experiences a breakdown. The harsh environment and isolation are contrasted with the friendly voice that later emerges, creating a stark contrast between the desolation of the desert and the warmth of human connection.'}}, 3: {'summary': \"In this chapter, the narrator recounts his encounter with the Little Prince in the Sahara Desert six years ago, where he was initially skeptical but subsequently drew a sheep upon the voice's request. The conversation that ensued explored the narrator's feelings of isolation and frustration with adults, and the unexpected encounter that alleviated his loneliness. The chapter reveals the mysterious nature of the Little Prince, who hints at being from another planet.\", 'characters': {'Narrator': 'A pilot who, as a child, struggled to communicate his art to adults due to their inability to understand. Shown to be isolated and frustrated, but later finds solace in the mysterious voice in the desert. He is now an older man, still grappling with the misunderstandings of his past.', 'The Little Prince': 'A mysterious figure who communicates with the narrator in the desert. He is from another planet, which is scarcely larger than a house, and seems to be wise beyond his years.'}, 'places': {'Sahara Desert': 'A vast, isolated desert where the narrator experiences a breakdown. The harsh environment and isolation are contrasted with the friendly voice that later emerges, creating a stark contrast between the desolation of the desert and the warmth of human connection.'}}}\n"
     ]
    }
   ],
   "source": [
    "for idx,i in enumerate(text):\n",
    " \n",
    "    if len(i)<1200:\n",
    "        output_dict[idx+1]=output_dict[idx]\n",
    "    else:\n",
    "        context=output_dict[idx][\"summary\"]\n",
    "        characters=output_dict[idx][\"characters\"]\n",
    "        places=output_dict[idx][\"places\"]\n",
    "        \n",
    "        mes=sum_msg(i,context,characters,places)\n",
    "        \n",
    "        summary_output=get_summ(mes)\n",
    "        summary_output_json=read_json(summary_output)\n",
    "        output_dict[idx+1]=summary_output_json\n",
    "    print(f\"chapter: {idx} done\")\n",
    "    print(output_dict)"
   ]
  },
  {
   "cell_type": "code",
   "execution_count": 9,
   "metadata": {},
   "outputs": [
    {
     "name": "stdout",
     "output_type": "stream",
     "text": [
      "CHAPTER 1 :\n",
      "\n",
      "Characters:\n",
      "Narrator: A pilot who, as a child, struggled to communicate his art to adults due to their inability to understand. Shown to be isolated and frustrated, but later finds solace in the mysterious voice in the desert.\n",
      "\n",
      "Places:\n",
      "Sahara Desert: A vast, isolated desert where the narrator experiences a breakdown. The harsh environment and isolation are contrasted with the friendly voice that later emerges.\n",
      "\n",
      "Summary:\n",
      "This chapter, the narrator reflects on his childhood and a particular drawing of a boa constrictor digesting an elephant, which he showed to adults who misunderstood it as a drawing of a hat. Despite their lack of understanding, the narrator continues to draw and later becomes a pilot. In the Sahara desert six years ago, he experiences a breakdown and is saved by a mysterious voice that asks him to draw a sheep. The chapter explores the narrator's frustration with adults who fail to comprehend his art and his isolation, which is later alleviated by the voice in the desert.\n",
      "\n",
      "-------------------------------------------------------------------------------------------------------------------\n",
      "CHAPTER 2 :\n",
      "\n",
      "Characters:\n",
      "Narrator: A pilot who, as a child, struggled to communicate his art to adults due to their inability to understand. Shown to be isolated and frustrated, but later finds solace in the mysterious voice in the desert. He is now an older man, still grappling with the misunderstandings of his past.\n",
      "\n",
      "Places:\n",
      "Sahara Desert: A vast, isolated desert where the narrator experiences a breakdown. The harsh environment and isolation are contrasted with the friendly voice that later emerges, creating a stark contrast between the desolation of the desert and the warmth of human connection.\n",
      "\n",
      "Summary:\n",
      "In this chapter, the narrator reflects on his past experiences, particularly his struggles with adults who failed to understand his art. He recounts an encounter in the Sahara Desert six years ago, where a mysterious voice asked him to draw a sheep. Despite his initial skepticism, he eventually complied, leading to a conversation with the voice which he later came to know as the Little Prince. The chapter explores the narrator's feelings of isolation and frustration with adults, and the unexpected encounter that alleviated his loneliness.\n",
      "\n",
      "-------------------------------------------------------------------------------------------------------------------\n",
      "CHAPTER 3 :\n",
      "\n",
      "Characters:\n",
      "Narrator: A pilot who, as a child, struggled to communicate his art to adults due to their inability to understand. Shown to be isolated and frustrated, but later finds solace in the mysterious voice in the desert. He is now an older man, still grappling with the misunderstandings of his past.\n",
      "The Little Prince: A mysterious figure who communicates with the narrator in the desert. He is from another planet, which is scarcely larger than a house, and seems to be wise beyond his years.\n",
      "\n",
      "Places:\n",
      "Sahara Desert: A vast, isolated desert where the narrator experiences a breakdown. The harsh environment and isolation are contrasted with the friendly voice that later emerges, creating a stark contrast between the desolation of the desert and the warmth of human connection.\n",
      "\n",
      "Summary:\n",
      "In this chapter, the narrator recounts his encounter with the Little Prince in the Sahara Desert six years ago, where he was initially skeptical but subsequently drew a sheep upon the voice's request. The conversation that ensued explored the narrator's feelings of isolation and frustration with adults, and the unexpected encounter that alleviated his loneliness. The chapter reveals the mysterious nature of the Little Prince, who hints at being from another planet.\n",
      "\n",
      "-------------------------------------------------------------------------------------------------------------------\n"
     ]
    }
   ],
   "source": [
    "for num, dic in output_dict.items():\n",
    "    if num==0:\n",
    "        continue\n",
    "    print(f\"CHAPTER {num} :\\n\")\n",
    "    \n",
    "    sum,char,places=dic.items()\n",
    "    print(\"Characters:\")\n",
    "    if len(char)>0 :\n",
    "        for name,i in char[1].items():\n",
    "            print(f\"{name}: {i}\")\n",
    "    \n",
    "    print(\"\\nPlaces:\")\n",
    "    if len(places)>0:\n",
    "        for name,i in places[1].items():\n",
    "            print(f\"{name}: {i}\")\n",
    "    print(f\"\\nSummary:\\n{sum[1]}\")\n",
    "    print(\"\\n-------------------------------------------------------------------------------------------------------------------\")"
   ]
  },
  {
   "cell_type": "markdown",
   "metadata": {},
   "source": [
    "___\n",
    "___\n",
    "___"
   ]
  },
  {
   "cell_type": "markdown",
   "metadata": {},
   "source": [
    "# Get **Scenes**\n",
    "![Local Image](/home/prince/Documents/Project/BOOK/media/Sudo_summary.png )"
   ]
  },
  {
   "cell_type": "code",
   "execution_count": 10,
   "metadata": {},
   "outputs": [
    {
     "name": "stdout",
     "output_type": "stream",
     "text": [
      "{'properties': {'scenes': {'additionalProperties': {'type': 'string'}, 'title': 'Scenes', 'type': 'object'}}, 'required': ['scenes'], 'title': 'SceneSchema', 'type': 'object'}\n"
     ]
    }
   ],
   "source": [
    "class SceneSchema(BaseModel):\n",
    "    scenes: Dict[str,str]\n",
    "print(SceneSchema.model_json_schema())"
   ]
  },
  {
   "cell_type": "code",
   "execution_count": 11,
   "metadata": {},
   "outputs": [],
   "source": [
    "def scene_msg(text: str) -> list:\n",
    "    message = [\n",
    "        {\n",
    "            \"role\": \"system\",\n",
    "            \"content\": ''' IMPORTANT-> ONLY OUTPUT IN JSON.\n",
    "                You are a text-to-image prompt generator.\n",
    "                Your task is to analyze the provided input text and identify distinct scenes where there are changes in place or time. For each identified scene, create a detailed and descriptive prompt suitable for generating an image.\n",
    "                Characters: Refer to characters by their respective names as mentioned in the text.\n",
    "                Places: Refer to places by their proper names as mentioned in the text.\n",
    "                Ensure each prompt captures the scene's mood, setting, and key visual elements in detail.\n",
    "                images are for book\n",
    "                \n",
    "                1. **Input:**\n",
    "                    - `text`: A block of narrative text.```\n",
    "                2. **Output:**\n",
    "                    - [prompt,prompt,prompt.....]\n",
    "\n",
    "                ### Instructions:\n",
    "                - Identify key changes in location, characters, or significant actions to define separate scenes.\n",
    "                - Use descriptive language to paint a vivid picture of each scene in the prompt.\n",
    "                \n",
    "                   ''',\n",
    "        },\n",
    "        \n",
    "        {\n",
    "            \"role\": \"user\",\n",
    "            \"content\": f\"\"\"TEXT: {text}\"\"\",  # This should be your input text that describes the scenes\n",
    "        },]\n",
    "        \n",
    "    return message\n",
    "\n",
    "def get_scene(scene_message: list) -> Optional[str]:\n",
    "    data = {\n",
    "        \"messages\": scene_message,\n",
    "        \"max_tokens\": 10000,  # Specify the maximum length of the response\n",
    "        \"temperature\": 0,  # Control the randomness of the response\n",
    "        \"stream\": False,\n",
    "        \"repetition_penalty\": 1.3,\n",
    "        \"grammar\": {\n",
    "            \"type\": \"json\",\n",
    "            \"value\": SceneSchema.model_json_schema()\n",
    "                }\n",
    "        }\n",
    "    \n",
    "    response = requests.post(url, headers=headers, json=data)\n",
    "\n",
    "    # Check the response status code and process the output\n",
    "    if response.status_code == 200:\n",
    "        response_data = response.json()\n",
    "        # Extract the assistant's message content\n",
    "        assistant_message = response_data[\"choices\"][0][\"message\"][\"content\"]\n",
    "        return assistant_message\n",
    "    else:\n",
    "        print(f\"Error: {response.status_code}, {response.text}\")  # Print error details\n",
    "        return None"
   ]
  },
  {
   "cell_type": "code",
   "execution_count": 12,
   "metadata": {},
   "outputs": [],
   "source": [
    "scene_output_list=[]\n",
    "for i in text:\n",
    "    inputs=i.replace(\"\\n\",\" \")\n",
    "    scene_message = scene_msg(text)\n",
    "    scene_output=get_scene(scene_message)\n",
    "    scene_json_output=read_json(scene_output)\n",
    "    scene_output_list.append(scene_json_output)"
   ]
  },
  {
   "cell_type": "code",
   "execution_count": 13,
   "metadata": {},
   "outputs": [
    {
     "data": {
      "text/plain": [
       "[[{'scene': \"A young boy's bedroom in France\",\n",
       "   'description': \"A cozy, dimly lit room filled with children's books and toys. The boy, bundled up against the cold, is huddled under a blanket, looking sad and lonely. The room is quiet, save for the occasional sound of a page turning.\"},\n",
       "  {'scene': 'A jungle scene',\n",
       "   'description': \"A dense, lush jungle teeming with wildlife. A boa constrictor is shown digesting an elephant, with the inside of the snake's body visible. The scene is dark and foreboding, with the sun barely filtering through the dense foliage.\"},\n",
       "  {'scene': 'A desert landscape',\n",
       "   'description': 'A vast, barren desert stretching out as far as the eye can see. The sun is setting, casting long shadows across the sand. A man is shown standing alone, surrounded by nothing but sand and silence. He looks lost and isolated, with a determined expression on his face.'},\n",
       "  {'scene': 'A meeting between the man and the Little Prince',\n",
       "   'description': 'A surreal desert landscape, with the man and the Little Prince standing face to face. The Little Prince is a small, strange-looking creature with a serious expression. The man looks surprised and intrigued, with a look of disbelief on his face.'},\n",
       "  {'scene': \"The Little Prince's home planet\",\n",
       "   'description': 'A tiny, planet-like object, barely larger than a house. The Little Prince is shown standing on it, looking out at the vast expanse of space. The planet is surrounded by stars and other celestial bodies.'}],\n",
       " [{'scene': \"A young boy's bedroom in France\",\n",
       "   'description': \"A cozy, dimly lit room filled with children's books and toys. The boy, bundled up against the cold, is huddled under a blanket, looking sad and lonely. The room is quiet, save for the occasional sound of a page turning.\"},\n",
       "  {'scene': 'A jungle scene',\n",
       "   'description': \"A dense, lush jungle teeming with wildlife. A boa constrictor is shown digesting an elephant, with the inside of the snake's body visible. The scene is dark and foreboding, with the sun barely filtering through the dense foliage.\"},\n",
       "  {'scene': 'A desert landscape',\n",
       "   'description': 'A vast, barren desert stretching out as far as the eye can see. The sun is setting, casting long shadows across the sand. A man is shown standing alone, surrounded by nothing but sand and silence. He looks lost and isolated, with a determined expression on his face.'},\n",
       "  {'scene': 'A meeting between the man and the Little Prince',\n",
       "   'description': 'A surreal desert landscape, with the man and the Little Prince standing face to face. The Little Prince is a small, strange-looking creature with a serious expression. The man looks surprised and intrigued, with a look of disbelief on his face.'},\n",
       "  {'scene': \"The Little Prince's home planet\",\n",
       "   'description': 'A tiny, planet-like object, barely larger than a house. The Little Prince is shown standing on it, looking out at the vast expanse of space. The planet is surrounded by stars and other celestial bodies.'}],\n",
       " [{'scene': \"A young boy's bedroom in France\",\n",
       "   'description': \"A cozy, dimly lit room filled with children's books and toys. The boy, bundled up against the cold, is huddled under a blanket, looking sad and lonely. The room is quiet, save for the occasional sound of a page turning.\"},\n",
       "  {'scene': 'A jungle scene',\n",
       "   'description': \"A dense, lush jungle teeming with wildlife. A boa constrictor is shown digesting an elephant, with the inside of the snake's body visible. The scene is dark and foreboding, with the sun barely filtering through the dense foliage.\"},\n",
       "  {'scene': 'A desert landscape',\n",
       "   'description': 'A vast, barren desert stretching out as far as the eye can see. The sun is setting, casting long shadows across the sand. A man is shown standing alone, surrounded by nothing but sand and silence. He looks lost and isolated, with a determined expression on his face.'},\n",
       "  {'scene': 'A meeting between the man and the Little Prince',\n",
       "   'description': 'A surreal desert landscape, with the man and the Little Prince standing face to face. The Little Prince is a small, strange-looking creature with a serious expression. The man looks surprised and intrigued, with a look of disbelief on his face.'},\n",
       "  {'scene': \"The Little Prince's home planet\",\n",
       "   'description': 'A tiny, planet-like object, barely larger than a house. The Little Prince is shown standing on it, looking out at the vast expanse of space. The planet is surrounded by stars and other celestial bodies.'}]]"
      ]
     },
     "execution_count": 13,
     "metadata": {},
     "output_type": "execute_result"
    }
   ],
   "source": [
    "scene_output_list"
   ]
  },
  {
   "cell_type": "markdown",
   "metadata": {},
   "source": [
    "___\n",
    "___\n",
    "___\n"
   ]
  },
  {
   "cell_type": "markdown",
   "metadata": {},
   "source": [
    "# Get **Style**\n",
    "![Local Image](/home/prince/Documents/Project/BOOK/media/Get_Style_logic.png )"
   ]
  },
  {
   "cell_type": "code",
   "execution_count": 14,
   "metadata": {},
   "outputs": [],
   "source": [
    "def basic_llm_req(text: str) -> Optional[str]:\n",
    "    messages = [\n",
    "        {\n",
    "            \"role\":\"system\",\n",
    "            \"content\":\"DO As Asked in The Input\"\n",
    "        },\n",
    "        {\n",
    "            \"role\":\"user\",\n",
    "            \"content\":text\n",
    "        }\n",
    "    ]\n",
    "    \n",
    "    data = {\n",
    "        \"messages\": messages,\n",
    "        \"max_tokens\": 10000,  # Specify the maximum length of the response\n",
    "        \"temperature\": 0,  # Control the randomness of the response\n",
    "        \"stream\": False,\n",
    "    }\n",
    "    response = requests.post(url, headers=headers, json=data)\n",
    "\n",
    "    # Check the response status code and process the output\n",
    "    if response.status_code == 200:\n",
    "        response_data = response.json()\n",
    "        # Extract the assistant's message content\n",
    "        assistant_message = response_data[\"choices\"][0][\"message\"][\"content\"]\n",
    "        return assistant_message\n",
    "    else:\n",
    "        print(f\"Error: {response.status_code}, {response.text}\")  # Print error details\n",
    "        return None\n",
    " "
   ]
  },
  {
   "cell_type": "code",
   "execution_count": 15,
   "metadata": {},
   "outputs": [],
   "source": [
    "combined_summary=\"\"\n",
    "for key,val in output_dict.items():\n",
    "    val_content=val[\"summary\"].replace(\"\\n\",\" \")\n",
    "    if key==0:\n",
    "        continue\n",
    "    output_string= f'''{combined_summary}... Chapter{key}: {val_content}'''"
   ]
  },
  {
   "cell_type": "code",
   "execution_count": 16,
   "metadata": {},
   "outputs": [],
   "source": [
    "style_prompt='''Prompt:\n",
    "\n",
    "\"Analyze the following story and provide a list of image style tags that would best suit its themes, settings, and overall mood. \n",
    "The response should include the style, period, type of art, color palette etc. 1 tags per entry.dont explain it just give tags.\n",
    "\n",
    "Response Format:\n",
    "\n",
    "Style: Realism, Impressionism, Surrealism,etc\n",
    "Type:Landscape, Portrait, Abstract,etc.\n",
    "Color Palette:Warm tones, Cool colors, Monochromatic,etc\n",
    "Mood:Serene, Dramatic, Melancholic,etc.\n",
    "\n",
    "Story\n",
    "'''\n",
    "\n",
    "style=basic_llm_req(f'''{style_prompt}:{combined_summary} ''')"
   ]
  },
  {
   "cell_type": "code",
   "execution_count": 17,
   "metadata": {},
   "outputs": [
    {
     "data": {
      "text/plain": [
       "'Title: \"The Forgotten Whispers of the Willow\"\\n\\n1. Style: Impressionism\\n2. Type: Landscape\\n3. Color Palette: Cool colors (Blues, Greens, Purples)\\n4. Mood: Melancholic, Nostalgic'"
      ]
     },
     "execution_count": 17,
     "metadata": {},
     "output_type": "execute_result"
    }
   ],
   "source": [
    "style"
   ]
  },
  {
   "cell_type": "markdown",
   "metadata": {},
   "source": [
    "___\n",
    "___\n",
    "___"
   ]
  },
  {
   "cell_type": "markdown",
   "metadata": {},
   "source": [
    "# Get **Image**\n",
    "![Local Image](/home/prince/Documents/Project/BOOK/media/Get_img_logic.png )"
   ]
  },
  {
   "cell_type": "code",
   "execution_count": 18,
   "metadata": {},
   "outputs": [],
   "source": [
    "from huggingface_hub import InferenceClient\n",
    "import time\n",
    "\n",
    "client = InferenceClient(\n",
    "    \"stabilityai/stable-diffusion-3.5-large-turbo\",\n",
    "    token=API,\n",
    ")"
   ]
  },
  {
   "cell_type": "code",
   "execution_count": 19,
   "metadata": {},
   "outputs": [],
   "source": [
    "def get_images(key, text,characters,places,style):\n",
    "    image = client.text_to_image(\n",
    "        f\"Text: {text}// context-> characters: {characters}, places:{places} // style:{style} \",\n",
    "        negative_prompt=\"hand and feet\",\n",
    "        height=1024,\n",
    "        width= 1024,\n",
    "        # guidance_scale=2,\n",
    "        num_inference_steps=10\n",
    "        \n",
    "    )\n",
    "    image.save(f\"./output/{title}_{key}.png\")"
   ]
  },
  {
   "cell_type": "markdown",
   "metadata": {},
   "source": [
    "![Local Image](/home/prince/Documents/Project/BOOK/media/Image_Loop.png )"
   ]
  },
  {
   "cell_type": "code",
   "execution_count": 20,
   "metadata": {},
   "outputs": [
    {
     "name": "stdout",
     "output_type": "stream",
     "text": [
      "chapter0_scene1 saved\n"
     ]
    },
    {
     "ename": "KeyboardInterrupt",
     "evalue": "",
     "output_type": "error",
     "traceback": [
      "\u001b[0;31m---------------------------------------------------------------------------\u001b[0m",
      "\u001b[0;31mKeyboardInterrupt\u001b[0m                         Traceback (most recent call last)",
      "Cell \u001b[0;32mIn[20], line 14\u001b[0m\n\u001b[1;32m     12\u001b[0m     get_images(key\u001b[38;5;241m=\u001b[39m\u001b[38;5;124mf\u001b[39m\u001b[38;5;124m\"\u001b[39m\u001b[38;5;124mchapter\u001b[39m\u001b[38;5;132;01m{\u001b[39;00midx\u001b[38;5;132;01m}\u001b[39;00m\u001b[38;5;124m_scene\u001b[39m\u001b[38;5;132;01m{\u001b[39;00mjdx\u001b[38;5;241m+\u001b[39m\u001b[38;5;241m1\u001b[39m\u001b[38;5;132;01m}\u001b[39;00m\u001b[38;5;124m\"\u001b[39m,text\u001b[38;5;241m=\u001b[39mj,characters\u001b[38;5;241m=\u001b[39mchars,places\u001b[38;5;241m=\u001b[39mplaces,style\u001b[38;5;241m=\u001b[39mstyle)\n\u001b[1;32m     13\u001b[0m     \u001b[38;5;28mprint\u001b[39m(\u001b[38;5;124mf\u001b[39m\u001b[38;5;124m\"\u001b[39m\u001b[38;5;124mchapter\u001b[39m\u001b[38;5;132;01m{\u001b[39;00midx\u001b[38;5;132;01m}\u001b[39;00m\u001b[38;5;124m_scene\u001b[39m\u001b[38;5;132;01m{\u001b[39;00mjdx\u001b[38;5;241m+\u001b[39m\u001b[38;5;241m1\u001b[39m\u001b[38;5;132;01m}\u001b[39;00m\u001b[38;5;124m saved\u001b[39m\u001b[38;5;124m\"\u001b[39m)\n\u001b[0;32m---> 14\u001b[0m time\u001b[38;5;241m.\u001b[39msleep(\u001b[38;5;241m18\u001b[39m)\n",
      "\u001b[0;31mKeyboardInterrupt\u001b[0m: "
     ]
    }
   ],
   "source": [
    "\n",
    "for idx,i in enumerate(scene_output_list):\n",
    "    chars=output_dict[idx+1][\"characters\"]\n",
    "    places=output_dict[idx+1][\"places\"]\n",
    "    for jdx,j in enumerate(i):\n",
    "        ##try except for internal server error\n",
    "        try:\n",
    "            get_images(key=f\"chapter{idx}_scene{jdx+1}\",text=j,characters=chars,places=places,style=style)\n",
    "            print(f\"chapter{idx}_scene{jdx+1} saved\")\n",
    "        except Exception as e:\n",
    "            print(f\"Error while calling the API :{e} \\n waiting for 10 seconds.. \")\n",
    "            time.sleep(10)\n",
    "            get_images(key=f\"chapter{idx}_scene{jdx+1}\",text=j,characters=chars,places=places,style=style)\n",
    "            print(f\"chapter{idx}_scene{jdx+1} saved\")\n",
    "        time.sleep(18)"
   ]
  }
 ],
 "metadata": {
  "kernelspec": {
   "display_name": "book",
   "language": "python",
   "name": "python3"
  },
  "language_info": {
   "codemirror_mode": {
    "name": "ipython",
    "version": 3
   },
   "file_extension": ".py",
   "mimetype": "text/x-python",
   "name": "python",
   "nbconvert_exporter": "python",
   "pygments_lexer": "ipython3",
   "version": "3.11.11"
  }
 },
 "nbformat": 4,
 "nbformat_minor": 2
}
