{
 "cells": [
  {
   "cell_type": "markdown",
   "metadata": {},
   "source": [
    "# [text-to-img](./Model_lists/text-to-image.md)\n",
    "\n",
    "## Prompt- \n",
    "#### A rocky surface under a starry night sky. A small boy with golden hair sits holding a box, gazing at it thoughtfully. A pilot stands nearby, observing the boy. Distant planets glow faintly in the background.//Style - landscape\n",
    "\n",
    "| Model Name                                      | Link                                                                           | Time      | Image                                                              |\n",
    "| ----------------------------------------------- | ------------------------------------------------------------------------------ | --------- | ------------------------------------------------------------------ |\n",
    "| strangerzonehf/Qs-Sketch                        | [Link](https://huggingface.co/strangerzonehf/Qs-Sketch)                        | 2.03 mins | ![img](Images/strangerzonehf_Qs-Sketch.png)                        |\n",
    "| black-forest-labs/flux.1-dev                    | [Link](https://huggingface.co/black-forest-labs/FLUX.1-dev)                    | 36.95 sec | ![img](Images/black-forest-labs_flux.1-dev.png)                    |\n",
    "| black-forest-labs/FLUX.1-schnell                | [Link](https://huggingface.co/black-forest-labs/FLUX.1-schnell)                | 28.94 sec | ![img](Images/black-forest-labs_FLUX.1-schnell.png)                |\n",
    "| CompVis/stable-diffusion-v1-4                   | [Link](https://huggingface.co/CompVis/stable-diffusion-v1-4)                   | 5.86 sec  | ![img](Images/CompVis_stable-diffusion-v1-4.png)                   |\n",
    "| digiplay/aurorafantasy_v1                       | [Link](https://huggingface.co/digiplay/aurorafantasy_v1)                       | 8.53 sec  | ![img](Images/digiplay_aurorafantasy_v1.png)                       |\n",
    "| digiplay/Blazarot_blazaroshi                    | [Link](https://huggingface.co/digiplay/Blazarot_blazaroshi)                    | 41.41 sec | ![img](Images/digiplay_Blazarot_blazaroshi.png)                    |\n",
    "| digiplay/darkphoenix3D_v1.1                     | [Link](https://huggingface.co/digiplay/darkphoenix3D_v1.1)                     | 1.91 mins | ![img](Images/digiplay_darkphoenix3D_v1.1.png)                     |\n",
    "| digiplay/PerfectDeliberate-Anime_v2             | [Link](https://huggingface.co/digiplay/PerfectDeliberate-Anime_v2)             | 1.41 mins | ![img](Images/digiplay_PerfectDeliberate-Anime_v2.png)             |\n",
    "| digiplay/Photon_v1                              | [Link](https://huggingface.co/digiplay/Photon_v1)                              | 11.25 sec | ![img](Images/digiplay_Photon_v1.png)                              |\n",
    "| digiplay/rRealism_v1.0_riiwa                    | [Link](https://huggingface.co/digiplay/rRealism_v1.0_riiwa)                    | 1.28 mins | ![img](Images/digiplay_rRealism_v1.0_riiwa.png)                    |\n",
    "| digiplay/ya3_xt                                 | [Link](https://huggingface.co/digiplay/ya3_xt)                                 | 10.15 sec | ![img](Images/digiplay_ya3_xt.png)                                 |\n",
    "| Niggendar/duchaitenPonyXLNo_v35                 | [Link](https://huggingface.co/Niggendar/duchaitenPonyXLNo_v35)                 | 2.26 mins | ![img](Images/Niggendar_duchaitenPonyXLNo_v35.png)                 |\n",
    "| stabilityai/stable-diffusion-2                  | [Link](https://huggingface.co/stabilityai/stable-diffusion-2)                  | 2.66 mins | ![img](Images/stabilityai_stable-diffusion-2.png)                  |\n",
    "| stabilityai/stable-diffusion-3-medium-diffusers | [Link](https://huggingface.co/stabilityai/stable-diffusion-3-medium-diffusers) | 12.43 sec | ![img](Images/stabilityai_stable-diffusion-3-medium-diffusers.png) |\n",
    "| stabilityai/stable-diffusion-3.5-large          | [Link](https://huggingface.co/stabilityai/stable-diffusion-3.5-large)          | 16.49 sec | ![img](Images/stabilityai_stable-diffusion-3.5-large.png)          |\n",
    "| stabilityai/stable-diffusion-3.5-large-turbo    | [Link](https://huggingface.co/stabilityai/stable-diffusion-3.5-large-turbo)    | 1.85 sec  | ![img](Images/stabilityai_stable-diffusion-3.5-large-turbo.png)    |\n",
    "| stabilityai/stable-diffusion-xl-base-1.0        | [Link](https://huggingface.co/stabilityai/stable-diffusion-xl-base-1.0)        | 8.00 sec  | ![img](Images/stabilityai_stable-diffusion-xl-base-1.0.png)        |\n",
    "| stable-diffusion-v1-5/stable-diffusion-v1-5     | [Link](https://huggingface.co/stable-diffusion-v1-5/stable-diffusion-v1-5)     | 13.28 sec | ![img](Images/stable-diffusion-v1-5_stable-diffusion-v1-5.png)     |\n",
    "| Yntec/epiCPhotoGasm                             | [Link](https://huggingface.co/Yntec/epiCPhotoGasm)                             | 25.40 sec | ![img](Images/Yntec_epiCPhotoGasm.png)                             |\n",
    "| Yntec/ICantBelieveItSNotPhotography             | [Link](https://huggingface.co/Yntec/ICantBelieveItSNotPhotography)             | 1.05 mins | ![img](Images/Yntec_ICantBelieveItSNotPhotography.png)             |\n",
    "| Yntec/IncredibleLife                            | [Link](https://huggingface.co/Yntec/IncredibleLife)                            | 8.84 sec  | ![img](Images/Yntec_IncredibleLife.png)                            |\n",
    "| Yntec/IncredibleWorld                           | [Link](https://huggingface.co/Yntec/IncredibleWorld)                           | 37.60 sec | ![img](Images/Yntec_IncredibleWorld.png)                           |\n",
    "| Yntec/IncredibleWorld2                          | [Link](https://huggingface.co/Yntec/IncredibleWorld2)                          | 8.87 sec  | ![img](Images/Yntec_IncredibleWorld2.png)                          |\n",
    "| Yntec/TrueSight                                 | [Link](https://huggingface.co/Yntec/TrueSight)                                 | 8.44 sec  | ![img](Images/Yntec_TrueSight.png)                                 |\n"
   ]
  },
  {
   "cell_type": "markdown",
   "metadata": {},
   "source": [
    "___\n",
    "___\n",
    "___\n"
   ]
  },
  {
   "cell_type": "markdown",
   "metadata": {},
   "source": [
    "## Time-Wrapper"
   ]
  },
  {
   "cell_type": "code",
   "execution_count": 72,
   "metadata": {},
   "outputs": [],
   "source": [
    "import signal\n",
    "import time\n",
    "from functools import wraps\n",
    "\n",
    "# Define a timeout exception\n",
    "class TimeoutError(Exception):\n",
    "    pass\n",
    "\n",
    "# Signal handler for timeout\n",
    "def timeout_handler(signum, frame):\n",
    "    raise TimeoutError(\"Function execution timed out\")\n",
    "\n",
    "# Decorator to limit function execution time\n",
    "def timeout_decorator(time_limit):\n",
    "    def decorator(func):\n",
    "        @wraps(func)\n",
    "        def wrapper(*args, **kwargs):\n",
    "            # Set the signal handler and alarm\n",
    "            signal.signal(signal.SIGALRM, timeout_handler)\n",
    "            signal.alarm(time_limit)  # Set the alarm for `time_limit` seconds\n",
    "\n",
    "            try:\n",
    "                result = func(*args, **kwargs)  # Execute the function\n",
    "                signal.alarm(0)  # Disable the alarm if the function completes in time\n",
    "                return result  # Return the result of the function\n",
    "            except TimeoutError:\n",
    "                return 180,\">3 mins\"  # Return the string if the function exceeds the time limit\n",
    "            finally:\n",
    "                signal.alarm(0)  # Ensure the alarm is always disabled\n",
    "\n",
    "        return wrapper\n",
    "    return decorator\n",
    "\n"
   ]
  },
  {
   "cell_type": "markdown",
   "metadata": {},
   "source": [
    "## HG-request"
   ]
  },
  {
   "cell_type": "code",
   "execution_count": null,
   "metadata": {},
   "outputs": [],
   "source": [
    "from huggingface_hub import InferenceClient\n",
    "from dotenv import load_dotenv\n",
    "from PIL import Image\n",
    "import os\n",
    "\n",
    "load_dotenv()\n",
    "API = os.getenv(\"HF_API\")\n",
    "\n",
    "client = InferenceClient(\n",
    "    token=API,\n",
    ")"
   ]
  },
  {
   "cell_type": "code",
   "execution_count": 91,
   "metadata": {},
   "outputs": [],
   "source": [
    "@timeout_decorator(time_limit=185) \n",
    "def img_gen(text: str,model:str):\n",
    "    start=time.time()\n",
    "    \n",
    "    client = InferenceClient(model=model,token=API)\n",
    "    \n",
    "    try:\n",
    "        image = client.text_to_image(f\"Text:{text}\")\n",
    "    except Exception as e:\n",
    "        return 18,f\"Error:{e}\"\n",
    "    \n",
    "    end=time.time()\n",
    "    name=model.replace(\"/\",\"_\")\n",
    "    image.save(f'''./Images/{name}.png''')\n",
    "    image.save(f'''/home/prince/Obsidian/BOOK_VIZ/Images/{name}.png''')\n",
    "    \n",
    "    time_taken_img=end-start\n",
    "    if time_taken_img>60:\n",
    "        time_taken_img=time_taken_img/60\n",
    "        return time_taken_img,f\"{time_taken_img} mins\"\n",
    "    else:\n",
    "        return time_taken_img,f\"{end-start} sec\"\n",
    "\n",
    "\n",
    "def get_path(name):\n",
    "    name=name.replace(\"/\",\"_\")\n",
    "    return f'''![img](Images/{name}.png)'''\n"
   ]
  },
  {
   "cell_type": "markdown",
   "metadata": {},
   "source": [
    "## List of Models"
   ]
  },
  {
   "cell_type": "code",
   "execution_count": 74,
   "metadata": {},
   "outputs": [],
   "source": [
    "models=[\n",
    "    \"strangerzonehf/Qs-Sketch\",\n",
    "    \"black-forest-labs/flux.1-dev\",\n",
    "    \"black-forest-labs/FLUX.1-schnell\",\n",
    "    \"CompVis/stable-diffusion-v1-4\",\n",
    "    \"digiplay/aurorafantasy_v1\",\n",
    "    \"digiplay/Blazarot_blazaroshi\",\n",
    "    \"digiplay/darkphoenix3D_v1.1\",\n",
    "    \"digiplay/darkphoenix3D_v1.1\",\n",
    "    \"digiplay/PerfectDeliberate-Anime_v2\",\n",
    "    \"digiplay/Photon_v1\",\n",
    "    \"digiplay/rRealism_v1.0_riiwa\",\n",
    "    \"digiplay/ya3_xt\",\n",
    "    \"enhanceaiteam/FLUX.1-Pro\",\n",
    "    \"fluently/Fluently-XL-v4\",\n",
    "    \"John6666/asyncs-mix-pony-pony-v1-sdxl\",\n",
    "    \"John6666/cyberrealistic-pony-v63-sdxl\",\n",
    "    \"Lykon/AAM_XL_AnimeMix\",\n",
    "    \"Niggendar/duchaitenPonyXLNo_v35\",\n",
    "    \"playgroundai/playground-v2-1024px-aesthetic\",\n",
    "    \"sayakpaul/FLUX.1-dev-edit-v0\",\n",
    "    \"stabilityai/stable-diffusion-2\",\n",
    "    \"stabilityai/stable-diffusion-3-medium-diffusers\",\n",
    "    \"stabilityai/stable-diffusion-3.5-large\",\n",
    "    \"stabilityai/stable-diffusion-3.5-large-turbo\",\n",
    "    \"stabilityai/stable-diffusion-xl-base-1.0\",\n",
    "    \"stable-diffusion-v1-5/stable-diffusion-v1-5\",\n",
    "    \"Yntec/epiCPhotoGasm\",\n",
    "    \"Yntec/ICantBelieveItSNotPhotography\",\n",
    "    \"Yntec/IncredibleLife\",\n",
    "    \"Yntec/IncredibleWorld\",\n",
    "    \"Yntec/IncredibleWorld2\",\n",
    "    \"Yntec/TrueSight\"\n",
    "]\n",
    "\n",
    "model_links=[\n",
    "    \"![Link](https://huggingface.co/strangerzonehf/Qs-Sketch)\",\n",
    "    \"[Link](https://huggingface.co/black-forest-labs/FLUX.1-dev)\",\n",
    "    \"[Link](https://huggingface.co/black-forest-labs/FLUX.1-schnell)\",\n",
    "    \"[Link](https://huggingface.co/CompVis/stable-diffusion-v1-4)\",\n",
    "    \"[Link](https://huggingface.co/digiplay/aurorafantasy_v1)\",\n",
    "    \"[Link](https://huggingface.co/digiplay/Blazarot_blazaroshi)\",\n",
    "    \"[Link](https://huggingface.co/digiplay/darkphoenix3D_v1.1)\",\n",
    "    \"[Link](https://huggingface.co/digiplay/darkphoenix3D_v1.1)\",\n",
    "    \"[Link](https://huggingface.co/digiplay/PerfectDeliberate-Anime_v2)\",\n",
    "    \"[Link](https://huggingface.co/digiplay/Photon_v1)\",\n",
    "    \"[Link](https://huggingface.co/digiplay/rRealism_v1.0_riiwa)\",\n",
    "    \"[Link](https://huggingface.co/digiplay/ya3_xt)\",\n",
    "    \"[Link](https://huggingface.co/enhanceaiteam/FLUX.1-Pro)\",\n",
    "    \"[Link](https://huggingface.co/fluently/Fluently-XL-v4)\",\n",
    "    \"[Link](https://huggingface.co/John6666/asyncs-mix-pony-pony-v1-sdxl)\",\n",
    "    \"[Link](https://huggingface.co/John6666/cyberrealistic-pony-v63-sdxl)\",\n",
    "    \"[Link](https://huggingface.co/Lykon/AAM_XL_AnimeMix)\",\n",
    "    \"[Link](https://huggingface.co/Niggendar/duchaitenPonyXLNo_v35)\",\n",
    "    \"[Link](https://huggingface.co/playgroundai/playground-v2-1024px-aesthetic)\",\n",
    "    \"[Link](https://huggingface.co/sayakpaul/FLUX.1-dev-edit-v0)\",\n",
    "    \"[Link](https://huggingface.co/stabilityai/stable-diffusion-2)\",\n",
    "    \"[Link](https://huggingface.co/stabilityai/stable-diffusion-3-medium-diffusers)\",\n",
    "    \"[Link](https://huggingface.co/stabilityai/stable-diffusion-3.5-large)\",\n",
    "    \"[Link](https://huggingface.co/stabilityai/stable-diffusion-3.5-large-turbo)\",\n",
    "    \"[Link](https://huggingface.co/stabilityai/stable-diffusion-xl-base-1.0)\",\n",
    "    \"[Link](https://huggingface.co/stable-diffusion-v1-5/stable-diffusion-v1-5)\",\n",
    "    \"[Link](https://huggingface.co/Yntec/epiCPhotoGasm)\",\n",
    "    \"[Link](https://huggingface.co/Yntec/ICantBelieveItSNotPhotography)\",\n",
    "    \"[Link](https://huggingface.co/Yntec/IncredibleLife)\",\n",
    "    \"[Link](https://huggingface.co/Yntec/IncredibleWorld)\",\n",
    "    \"[Link](https://huggingface.co/Yntec/IncredibleWorld2)\",\n",
    "    \"[Link](https://huggingface.co/Yntec/TrueSight)\"\n",
    "]\n",
    "\n",
    "img_path=[get_path(i) for i in models]\n",
    "\n",
    "output_dict={\n",
    "    0:{\n",
    "        \"model_name\": \"\",\n",
    "        \"link\": \"\",\n",
    "        \"time\": \"\",\n",
    "        \"img\": \"\"\n",
    "        },\n",
    "             }\n",
    "\n",
    "for i in range(len(models)):\n",
    "    out={\n",
    "        \"model_name\": \"\",\n",
    "        \"link\": \"\",\n",
    "        \"time\": \"\",\n",
    "        \"img\": \"\"\n",
    "    }\n",
    "    \n",
    "    out[\"model_name\"]=models[i]\n",
    "    out[\"link\"]=model_links[i]\n",
    "    out[\"time\"]=\"\"\n",
    "    out[\"img\"]=img_path[i]\n",
    "    output_dict[i]=out\n",
    "output_dict\n"
   ]
  },
  {
   "cell_type": "markdown",
   "metadata": {},
   "source": [
    "## LOOP"
   ]
  },
  {
   "cell_type": "code",
   "execution_count": null,
   "metadata": {},
   "outputs": [
    {
     "name": "stdout",
     "output_type": "stream",
     "text": [
      "strangerzonehf/Qs-Sketch is done\n",
      "black-forest-labs/flux.1-dev is done\n",
      "black-forest-labs/FLUX.1-schnell is done\n",
      "CompVis/stable-diffusion-v1-4 is done\n",
      "digiplay/aurorafantasy_v1 is done\n",
      "digiplay/Blazarot_blazaroshi is done\n",
      "digiplay/darkphoenix3D_v1.1 is done\n",
      "digiplay/darkphoenix3D_v1.1 is done\n",
      "digiplay/PerfectDeliberate-Anime_v2 is done\n",
      "digiplay/Photon_v1 is done\n",
      "digiplay/rRealism_v1.0_riiwa is done\n",
      "digiplay/ya3_xt is done\n",
      "enhanceaiteam/FLUX.1-Pro is done\n",
      "fluently/Fluently-XL-v4 is done\n",
      "John6666/asyncs-mix-pony-pony-v1-sdxl is done\n",
      "John6666/cyberrealistic-pony-v63-sdxl is done\n",
      "Lykon/AAM_XL_AnimeMix is done\n",
      "Niggendar/duchaitenPonyXLNo_v35 is done\n",
      "playgroundai/playground-v2-1024px-aesthetic is done\n",
      "sayakpaul/FLUX.1-dev-edit-v0 is done\n",
      "stabilityai/stable-diffusion-2 is done\n",
      "stabilityai/stable-diffusion-3-medium-diffusers is done\n",
      "stabilityai/stable-diffusion-3.5-large is done\n",
      "stabilityai/stable-diffusion-3.5-large-turbo is done\n",
      "stabilityai/stable-diffusion-xl-base-1.0 is done\n",
      "stable-diffusion-v1-5/stable-diffusion-v1-5 is done\n",
      "Yntec/epiCPhotoGasm is done\n",
      "Yntec/ICantBelieveItSNotPhotography is done\n",
      "Yntec/IncredibleLife is done\n",
      "Yntec/IncredibleWorld is done\n",
      "Yntec/IncredibleWorld2 is done\n",
      "Yntec/TrueSight is done\n"
     ]
    }
   ],
   "source": [
    "times=[]\n",
    "text=\"A rocky surface under a starry night sky. A small boy with golden hair sits holding a box, gazing at it thoughtfully. A pilot stands nearby, observing the boy. Distant planets glow faintly in the background.//Style - landscape \"\n",
    "text1= \"A vast, starry expanse with a tiny planet barely visible in the distance. The planet is small, no larger than a house, with a single glowing light on its surface. The narrator stands in the foreground, looking toward the planet with a mix of awe and curiosity.\"\n",
    "for idx,model in enumerate(models):\n",
    "    \n",
    "    int_time,time_taken=img_gen(text,model)\n",
    "    \n",
    "    times.append((model,time_taken))\n",
    "    \n",
    "    output_dict[idx][\"time\"]=time_taken\n",
    "    \n",
    "    if int_time<18:\n",
    "        time.sleep(18-int_time)\n",
    "    \n",
    "    print(f\"{model} is done\")"
   ]
  },
  {
   "cell_type": "markdown",
   "metadata": {},
   "source": [
    "## Saving to json"
   ]
  },
  {
   "cell_type": "code",
   "execution_count": null,
   "metadata": {},
   "outputs": [],
   "source": [
    "import json\n",
    "\n",
    "\n",
    "# Save the dictionary as a JSON file\n",
    "with open(\"./Model_lists/data.json\", \"w\") as json_file:\n",
    "    json.dump(output_dict, json_file, indent=4)  # `indent=4` makes it pretty-printed\n",
    "\n",
    "print(\"Data has been saved to 'data.json'\")\n"
   ]
  },
  {
   "cell_type": "markdown",
   "metadata": {},
   "source": [
    "## Further Filetering // Error handling"
   ]
  },
  {
   "cell_type": "code",
   "execution_count": 85,
   "metadata": {},
   "outputs": [],
   "source": [
    "empty=[]\n",
    "for i in output_dict.values():\n",
    "    if i[\"time\"] == \"NA\":\n",
    "        empty.append(i[\"model_name\"])"
   ]
  },
  {
   "cell_type": "code",
   "execution_count": 98,
   "metadata": {},
   "outputs": [
    {
     "data": {
      "text/plain": [
       "['black-forest-labs/flux.1-dev', 'digiplay/Photon_v1']"
      ]
     },
     "execution_count": 98,
     "metadata": {},
     "output_type": "execute_result"
    }
   ],
   "source": [
    "empty=[\n",
    "    \"black-forest-labs/flux.1-dev\",\n",
    "    \"digiplay/Photon_v1\"\n",
    "    ]\n",
    "empty"
   ]
  },
  {
   "cell_type": "code",
   "execution_count": 99,
   "metadata": {},
   "outputs": [
    {
     "name": "stdout",
     "output_type": "stream",
     "text": [
      "black-forest-labs/flux.1-dev is done\n",
      "digiplay/Photon_v1 is done\n"
     ]
    }
   ],
   "source": [
    "times=[]\n",
    "text=\"A rocky surface under a starry night sky. A small boy with golden hair sits holding a box, gazing at it thoughtfully. A pilot stands nearby, observing the boy. Distant planets glow faintly in the background.//Style - landscape \"\n",
    "text1= \"A vast, starry expanse with a tiny planet barely visible in the distance. The planet is small, no larger than a house, with a single glowing light on its surface. The narrator stands in the foreground, looking toward the planet with a mix of awe and curiosity.\"\n",
    "\n",
    "for idx,model in enumerate(empty):\n",
    "        \n",
    "    int_time,time_taken=img_gen(text1,model)\n",
    "    \n",
    "    times.append((model,time_taken))\n",
    "    if int_time<18:\n",
    "        time.sleep(18-int_time)\n",
    "    print(f\"{model} is done\")\n"
   ]
  },
  {
   "cell_type": "code",
   "execution_count": 100,
   "metadata": {},
   "outputs": [
    {
     "data": {
      "text/plain": [
       "[('black-forest-labs/flux.1-dev', '36.95421314239502 sec'),\n",
       " ('digiplay/Photon_v1', '11.2544105052948 sec')]"
      ]
     },
     "execution_count": 100,
     "metadata": {},
     "output_type": "execute_result"
    }
   ],
   "source": [
    "times"
   ]
  }
 ],
 "metadata": {
  "kernelspec": {
   "display_name": "book",
   "language": "python",
   "name": "python3"
  },
  "language_info": {
   "codemirror_mode": {
    "name": "ipython",
    "version": 3
   },
   "file_extension": ".py",
   "mimetype": "text/x-python",
   "name": "python",
   "nbconvert_exporter": "python",
   "pygments_lexer": "ipython3",
   "version": "3.11.11"
  }
 },
 "nbformat": 4,
 "nbformat_minor": 2
}
