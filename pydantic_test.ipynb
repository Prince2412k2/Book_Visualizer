{
 "cells": [
  {
   "cell_type": "code",
   "execution_count": 6,
   "metadata": {},
   "outputs": [],
   "source": [
    "from reader import ebook\n",
    "from main import read_list,read_json\n",
    "from typing import Optional,Dict,List\n",
    "import requests\n",
    "from dotenv import load_dotenv\n",
    "import json\n",
    "import os\n",
    "from pydantic import BaseModel, conint\n",
    "from dataclasses import dataclass"
   ]
  },
  {
   "cell_type": "code",
   "execution_count": 7,
   "metadata": {},
   "outputs": [],
   "source": [
    "load_dotenv()\n",
    "API = os.getenv(\"HF_API\")\n",
    "\n",
    "headers = {\n",
    "    \"Authorization\": f\"Bearer {API}\",\n",
    "    \"Content-Type\": \"application/json\",\n",
    "}\n",
    "url = \"https://api-inference.huggingface.co/models/mistralai/Mistral-7B-Instruct-v0.3/v1/chat/completions\"\n",
    "\n"
   ]
  },
  {
   "cell_type": "markdown",
   "metadata": {},
   "source": [
    "___"
   ]
  },
  {
   "cell_type": "markdown",
   "metadata": {},
   "source": [
    "## Get **Summary**, **Characters** AND **Places** "
   ]
  },
  {
   "cell_type": "code",
   "execution_count": 22,
   "metadata": {},
   "outputs": [],
   "source": [
    "sum_role='''(NOTE: Only output in JSON. Ensure the JSON format is valid, well-formed, and Ready to parse. nothing before or after the json file)\n",
    "Input:  \n",
    "1.Current Chapter Text: The current chapter to be analyzed.\n",
    "2.Character List: A list of characters with their descriptions till now (This chapter).\n",
    "3.Places list: list of places and their description till now (This chapter).\n",
    "4.Previous Chapters' Summary: Context from earlier chapters.\n",
    "\n",
    "Rules:  \n",
    "1.Narrative Summary: Summarize and explain the chapter in detail, integrating context and key developments from previous chapters and create a self containing summary and explaination. end with to be continued.\n",
    "2.Character List: add new characters to the list based on this chapter and Update existing character descriptions. If no characters are mentioned, return the same list as given.\n",
    "3.Places: Include an updated description of any significant locations mentioned in this chapter, focusing on environment, weather, vibe, and structure.\n",
    "4.Output Format: Ensure the output is valid and well-structured JSON.\n",
    "\n",
    "Output:  \n",
    "Generate a JSON object in this format:\n",
    "{\n",
    "  \"summary\": \"Detailed Summary and explination of the current chapter in context of previous chapters. Use previus chapter summary as context\",\n",
    "  \"characters\": {\n",
    "      \"Character Name\": \"Updated or new description (age, looks, clothes, hair, body language) based on this chapter.\"\n",
    "    },\n",
    "  \"places\": {\n",
    "      \"Place Name\": \"Updated or new description (environment, weather, vibe, structure, etc.) based on this chapter.\"\n",
    "  }\n",
    "}\n",
    "'''"
   ]
  },
  {
   "cell_type": "code",
   "execution_count": 23,
   "metadata": {},
   "outputs": [],
   "source": [
    "\n",
    "\n",
    "class SummarySchema(BaseModel):\n",
    "    summary: str\n",
    "    characters: Dict[str,str]\n",
    "    places: Dict[str,str]\n",
    "\n",
    "def scene_msg(text: str, context: str, characters: dict = {}, places: dict = {}) -> list:\n",
    "    message = [\n",
    "        {\n",
    "            \"role\": \"system\",\n",
    "            \"content\": sum_role\n",
    "        },\n",
    "        {\n",
    "            \"role\": \"user\",\n",
    "            \"content\": json.dumps({\n",
    "                \"past_context\": context,\n",
    "                \"Current_Chapter\": text,\n",
    "                \"character_list\": characters,\n",
    "                \"places_list\": places\n",
    "            }),\n",
    "        },\n",
    "    ]\n",
    "    return message\n",
    "\n",
    "def get_summ(messages:Dict[str,str]) -> Optional[str]:\n",
    "    data = {\n",
    "        \"messages\": messages,\n",
    "        \"temperature\": 0.7,\n",
    "        \"stream\": False,\n",
    "        \"max_tokens\":10000,\n",
    "        \"parameters\": {\n",
    "        \"repetition_penalty\": 1.3,\n",
    "        \"grammar\": {\n",
    "            \"type\": \"json\",\n",
    "            \"value\": SummarySchema.model_json_schema()\n",
    "                }\n",
    "                    }\n",
    "    }\n",
    "    response = requests.post(url, headers=headers, json=data)\n",
    "\n",
    "    if response.status_code == 200:\n",
    "        response_data = response.json()\n",
    "        assistant_message = response_data[\"choices\"][0][\"message\"][\"content\"]\n",
    "        return assistant_message\n",
    "    else:\n",
    "        print(f\"Error: {response.status_code}, {response.text}\")\n",
    "        return None\n",
    "\n"
   ]
  },
  {
   "cell_type": "code",
   "execution_count": 71,
   "metadata": {},
   "outputs": [],
   "source": [
    "# book=ebook(\"./books/Alchemist/Alchemist.epub\")\n",
    "book=ebook(\"./books/LP.epub\")\n",
    "title=book.get_metadata()['title']\n",
    "_,text=zip(*book.get_chapters())\n",
    "\n",
    "text=text[:3]\n",
    "\n"
   ]
  },
  {
   "cell_type": "code",
   "execution_count": 72,
   "metadata": {},
   "outputs": [],
   "source": [
    "output_dict={\n",
    "    0:\n",
    "        {\n",
    "            \"summary\":\"This is the first chapter\",\n",
    "            \"characters\":{},\n",
    "            \"places\": {}\n",
    "        }\n",
    "            }"
   ]
  },
  {
   "cell_type": "code",
   "execution_count": 73,
   "metadata": {},
   "outputs": [
    {
     "data": {
      "text/plain": [
       "{0: {'summary': 'This is the first chapter', 'characters': {}, 'places': {}}}"
      ]
     },
     "execution_count": 73,
     "metadata": {},
     "output_type": "execute_result"
    }
   ],
   "source": [
    "output_dict"
   ]
  },
  {
   "cell_type": "code",
   "execution_count": 75,
   "metadata": {},
   "outputs": [
    {
     "name": "stdout",
     "output_type": "stream",
     "text": [
      "chapter: 0 done\n",
      "{0: {'summary': 'This is the first chapter', 'characters': {}, 'places': {}}, 1: {'summary': \"In this chapter, the author recounts his childhood experiences, particularly his fascination with a drawing of a boa constrictor swallowing an elephant from a book. He reflects on how grown-ups often fail to understand children's perspectives and how this led him to abandon his passion for drawing. Later, he shares an encounter in the Sahara desert where a mysterious little voice requested him to draw a sheep. The chapter provides insight into the author's formative years and his ongoing struggle to communicate his unique vision to the grown-ups around him.\", 'characters': {'Grown-ups': \"Representative of the adults in the story. They are often portrayed as not understanding children's perspectives and requiring excessive explanations. They discourage the author's passion for drawing.\", 'Author (as a child)': 'A character who is fascinated by a drawing of a boa constrictor swallowing an elephant. He attempts to explain his drawing to the grown-ups but is met with misunderstandings.', 'Mysterious Little Voice': 'A new character that appears in the Sahara desert. She requests the author to draw a sheep.'}, 'places': {\"Child's Room\": \"Setting for the author's initial encounter with the drawing of a boa constrictor swallowing an elephant.\", 'Sahara Desert': 'A significant location where the author encounters the mysterious little voice. It is described as a harsh, isolated environment.'}}}\n",
      "chapter: 1 done\n",
      "{0: {'summary': 'This is the first chapter', 'characters': {}, 'places': {}}, 1: {'summary': \"In this chapter, the author recounts his childhood experiences, particularly his fascination with a drawing of a boa constrictor swallowing an elephant from a book. He reflects on how grown-ups often fail to understand children's perspectives and how this led him to abandon his passion for drawing. Later, he shares an encounter in the Sahara desert where a mysterious little voice requested him to draw a sheep. The chapter provides insight into the author's formative years and his ongoing struggle to communicate his unique vision to the grown-ups around him.\", 'characters': {'Grown-ups': \"Representative of the adults in the story. They are often portrayed as not understanding children's perspectives and requiring excessive explanations. They discourage the author's passion for drawing.\", 'Author (as a child)': 'A character who is fascinated by a drawing of a boa constrictor swallowing an elephant. He attempts to explain his drawing to the grown-ups but is met with misunderstandings.', 'Mysterious Little Voice': 'A new character that appears in the Sahara desert. She requests the author to draw a sheep.'}, 'places': {\"Child's Room\": \"Setting for the author's initial encounter with the drawing of a boa constrictor swallowing an elephant.\", 'Sahara Desert': 'A significant location where the author encounters the mysterious little voice. It is described as a harsh, isolated environment.'}}, 2: {'summary': \"In this chapter, the author recounts his childhood fascination with a drawing and his subsequent abandonment of his passion for drawing due to the grown-ups' inability to understand his perspective. He also shares an encounter in the Sahara desert where a mysterious little voice requests him to draw a sheep. This chapter provides insight into the author's formative years and his ongoing struggle to communicate his unique vision to the grown-ups around him.\", 'characters': {'Grown-ups': \"Representative of the adults in the story. They are often portrayed as not understanding children's perspectives and requiring excessive explanations. They discourage the author's passion for drawing.\", 'Author (as a child)': 'A character who is fascinated by a drawing of a boa constrictor swallowing an elephant. He attempts to explain his drawing to the grown-ups but is met with misunderstandings.', 'Mysterious Little Voice': 'A new character that appears in the Sahara desert. She requests the author to draw a sheep.'}, 'places': {\"Child's Room\": \"Setting for the author's initial encounter with the drawing of a boa constrictor swallowing an elephant.\", 'Sahara Desert': 'A significant location where the author encounters the mysterious little voice. It is described as a harsh, isolated environment with extreme temperatures, vast sand dunes, and a lack of vegetation.'}}}\n",
      "chapter: 2 done\n",
      "{0: {'summary': 'This is the first chapter', 'characters': {}, 'places': {}}, 1: {'summary': \"In this chapter, the author recounts his childhood experiences, particularly his fascination with a drawing of a boa constrictor swallowing an elephant from a book. He reflects on how grown-ups often fail to understand children's perspectives and how this led him to abandon his passion for drawing. Later, he shares an encounter in the Sahara desert where a mysterious little voice requested him to draw a sheep. The chapter provides insight into the author's formative years and his ongoing struggle to communicate his unique vision to the grown-ups around him.\", 'characters': {'Grown-ups': \"Representative of the adults in the story. They are often portrayed as not understanding children's perspectives and requiring excessive explanations. They discourage the author's passion for drawing.\", 'Author (as a child)': 'A character who is fascinated by a drawing of a boa constrictor swallowing an elephant. He attempts to explain his drawing to the grown-ups but is met with misunderstandings.', 'Mysterious Little Voice': 'A new character that appears in the Sahara desert. She requests the author to draw a sheep.'}, 'places': {\"Child's Room\": \"Setting for the author's initial encounter with the drawing of a boa constrictor swallowing an elephant.\", 'Sahara Desert': 'A significant location where the author encounters the mysterious little voice. It is described as a harsh, isolated environment.'}}, 2: {'summary': \"In this chapter, the author recounts his childhood fascination with a drawing and his subsequent abandonment of his passion for drawing due to the grown-ups' inability to understand his perspective. He also shares an encounter in the Sahara desert where a mysterious little voice requests him to draw a sheep. This chapter provides insight into the author's formative years and his ongoing struggle to communicate his unique vision to the grown-ups around him.\", 'characters': {'Grown-ups': \"Representative of the adults in the story. They are often portrayed as not understanding children's perspectives and requiring excessive explanations. They discourage the author's passion for drawing.\", 'Author (as a child)': 'A character who is fascinated by a drawing of a boa constrictor swallowing an elephant. He attempts to explain his drawing to the grown-ups but is met with misunderstandings.', 'Mysterious Little Voice': 'A new character that appears in the Sahara desert. She requests the author to draw a sheep.'}, 'places': {\"Child's Room\": \"Setting for the author's initial encounter with the drawing of a boa constrictor swallowing an elephant.\", 'Sahara Desert': 'A significant location where the author encounters the mysterious little voice. It is described as a harsh, isolated environment with extreme temperatures, vast sand dunes, and a lack of vegetation.'}}, 3: {'summary': \"In this chapter, the author recounts his childhood fascination with a drawing and encounters a mysterious little voice in the Sahara desert who requests him to draw a sheep. This chapter further explores the author's struggle to communicate his unique vision to the grown-ups around him and introduces a new character, the Mysterious Little Voice. The author's inability to understand the little voice's origins and her request to draw a sheep adds to the mystery and intrigue of the story.\", 'characters': {'Grown-ups': \"Representative of the adults in the story. They are often portrayed as not understanding children's perspectives and requiring excessive explanations. They discourage the author's passion for drawing.\", 'Author (as a child)': 'A character who is fascinated by a drawing of a boa constrictor swallowing an elephant. He attempts to explain his drawing to the grown-ups but is met with misunderstandings.', 'Mysterious Little Voice': 'A new character that appears in the Sahara desert. She is a mysterious entity who requests the author to draw a sheep.'}, 'places': {\"Child's Room\": \"Setting for the author's initial encounter with the drawing of a boa constrictor swallowing an elephant. It is described as a space where the author spends his free time, lost in thought and creation.\", 'Sahara Desert': 'A significant location where the author encounters the mysterious little voice. It is described as a harsh, isolated environment with extreme temperatures, vast sand dunes, and a lack of vegetation.'}}}\n"
     ]
    }
   ],
   "source": [
    "for idx,i in enumerate(text):\n",
    " \n",
    "    if len(i)<1200:\n",
    "        output_dict[idx+1]=output_dict[idx]\n",
    "    else:\n",
    "        context=output_dict[idx][\"summary\"]\n",
    "        characters=output_dict[idx][\"characters\"]\n",
    "        places=output_dict[idx][\"places\"]\n",
    "        \n",
    "        mes=scene_msg(i,context,characters,places)\n",
    "        \n",
    "        summary_characters=get_summ(mes)\n",
    "        output_json=read_json(summary_characters)\n",
    "        output_dict[idx+1]=output_json\n",
    "    print(f\"chapter: {idx} done\")\n",
    "    print(output_dict)"
   ]
  },
  {
   "cell_type": "code",
   "execution_count": 77,
   "metadata": {},
   "outputs": [
    {
     "name": "stdout",
     "output_type": "stream",
     "text": [
      "CHAPTER 1 :\n",
      "\n",
      "Characters:\n",
      "Grown-ups: Representative of the adults in the story. They are often portrayed as not understanding children's perspectives and requiring excessive explanations. They discourage the author's passion for drawing.\n",
      "Author (as a child): A character who is fascinated by a drawing of a boa constrictor swallowing an elephant. He attempts to explain his drawing to the grown-ups but is met with misunderstandings.\n",
      "Mysterious Little Voice: A new character that appears in the Sahara desert. She requests the author to draw a sheep.\n",
      "\n",
      "Places:\n",
      "Child's Room: Setting for the author's initial encounter with the drawing of a boa constrictor swallowing an elephant.\n",
      "Sahara Desert: A significant location where the author encounters the mysterious little voice. It is described as a harsh, isolated environment.\n",
      "\n",
      "Summary:\n",
      "In this chapter, the author recounts his childhood experiences, particularly his fascination with a drawing of a boa constrictor swallowing an elephant from a book. He reflects on how grown-ups often fail to understand children's perspectives and how this led him to abandon his passion for drawing. Later, he shares an encounter in the Sahara desert where a mysterious little voice requested him to draw a sheep. The chapter provides insight into the author's formative years and his ongoing struggle to communicate his unique vision to the grown-ups around him.\n",
      "\n",
      "-------------------------------------------------------------------------------------------------------------------\n",
      "CHAPTER 2 :\n",
      "\n",
      "Characters:\n",
      "Grown-ups: Representative of the adults in the story. They are often portrayed as not understanding children's perspectives and requiring excessive explanations. They discourage the author's passion for drawing.\n",
      "Author (as a child): A character who is fascinated by a drawing of a boa constrictor swallowing an elephant. He attempts to explain his drawing to the grown-ups but is met with misunderstandings.\n",
      "Mysterious Little Voice: A new character that appears in the Sahara desert. She requests the author to draw a sheep.\n",
      "\n",
      "Places:\n",
      "Child's Room: Setting for the author's initial encounter with the drawing of a boa constrictor swallowing an elephant.\n",
      "Sahara Desert: A significant location where the author encounters the mysterious little voice. It is described as a harsh, isolated environment with extreme temperatures, vast sand dunes, and a lack of vegetation.\n",
      "\n",
      "Summary:\n",
      "In this chapter, the author recounts his childhood fascination with a drawing and his subsequent abandonment of his passion for drawing due to the grown-ups' inability to understand his perspective. He also shares an encounter in the Sahara desert where a mysterious little voice requests him to draw a sheep. This chapter provides insight into the author's formative years and his ongoing struggle to communicate his unique vision to the grown-ups around him.\n",
      "\n",
      "-------------------------------------------------------------------------------------------------------------------\n",
      "CHAPTER 3 :\n",
      "\n",
      "Characters:\n",
      "Grown-ups: Representative of the adults in the story. They are often portrayed as not understanding children's perspectives and requiring excessive explanations. They discourage the author's passion for drawing.\n",
      "Author (as a child): A character who is fascinated by a drawing of a boa constrictor swallowing an elephant. He attempts to explain his drawing to the grown-ups but is met with misunderstandings.\n",
      "Mysterious Little Voice: A new character that appears in the Sahara desert. She is a mysterious entity who requests the author to draw a sheep.\n",
      "\n",
      "Places:\n",
      "Child's Room: Setting for the author's initial encounter with the drawing of a boa constrictor swallowing an elephant. It is described as a space where the author spends his free time, lost in thought and creation.\n",
      "Sahara Desert: A significant location where the author encounters the mysterious little voice. It is described as a harsh, isolated environment with extreme temperatures, vast sand dunes, and a lack of vegetation.\n",
      "\n",
      "Summary:\n",
      "In this chapter, the author recounts his childhood fascination with a drawing and encounters a mysterious little voice in the Sahara desert who requests him to draw a sheep. This chapter further explores the author's struggle to communicate his unique vision to the grown-ups around him and introduces a new character, the Mysterious Little Voice. The author's inability to understand the little voice's origins and her request to draw a sheep adds to the mystery and intrigue of the story.\n",
      "\n",
      "-------------------------------------------------------------------------------------------------------------------\n"
     ]
    }
   ],
   "source": [
    "for num, dic in output_dict.items():\n",
    "    if num==0:\n",
    "        continue\n",
    "    print(f\"CHAPTER {num} :\\n\")\n",
    "    \n",
    "    sum,char,places=dic.items()\n",
    "    print(\"Characters:\")\n",
    "    if len(char)>0 :\n",
    "        for name,i in char[1].items():\n",
    "            print(f\"{name}: {i}\")\n",
    "    \n",
    "    print(\"\\nPlaces:\")\n",
    "    if len(places)>0:\n",
    "        for name,i in places[1].items():\n",
    "            print(f\"{name}: {i}\")\n",
    "    print(f\"\\nSummary:\\n{sum[1]}\")\n",
    "    print(\"\\n-------------------------------------------------------------------------------------------------------------------\")"
   ]
  },
  {
   "cell_type": "markdown",
   "metadata": {},
   "source": [
    "___"
   ]
  },
  {
   "cell_type": "markdown",
   "metadata": {},
   "source": [
    "## Get **Scenes**"
   ]
  },
  {
   "cell_type": "code",
   "execution_count": 78,
   "metadata": {},
   "outputs": [
    {
     "name": "stdout",
     "output_type": "stream",
     "text": [
      "{'properties': {'scenes': {'additionalProperties': {'type': 'string'}, 'title': 'Scenes', 'type': 'object'}}, 'required': ['scenes'], 'title': 'SceneSchema', 'type': 'object'}\n"
     ]
    }
   ],
   "source": [
    "class SceneSchema(BaseModel):\n",
    "    scenes: Dict[str,str]\n",
    "print(SceneSchema.model_json_schema())"
   ]
  },
  {
   "cell_type": "code",
   "execution_count": 79,
   "metadata": {},
   "outputs": [],
   "source": [
    "def scene_msg(text: str) -> list:\n",
    "    message = [\n",
    "        {\n",
    "            \"role\": \"system\",\n",
    "            \"content\": ''' IMPORTANT-> ONLY OUTPUT IN JSON.\n",
    "                You are a text-to-image prompt generator.\n",
    "                Your task is to analyze the provided input text and identify distinct scenes where there are changes in place or time. For each identified scene, create a detailed and descriptive prompt suitable for generating an image.\n",
    "                Characters: Refer to characters by their respective names as mentioned in the text.\n",
    "                Places: Refer to places by their proper names as mentioned in the text.\n",
    "                Ensure each prompt captures the scene's mood, setting, and key visual elements in detail.\n",
    "                images are for book\n",
    "                \n",
    "                1. **Input:**\n",
    "                    - `text`: A block of narrative text.```\n",
    "                2. **Output:**\n",
    "                    - [prompt,prompt,prompt.....]\n",
    "\n",
    "                ### Instructions:\n",
    "                - Identify key changes in location, characters, or significant actions to define separate scenes.\n",
    "                - Use descriptive language to paint a vivid picture of each scene in the prompt.\n",
    "                \n",
    "                   ''',\n",
    "        },\n",
    "        \n",
    "        {\n",
    "            \"role\": \"user\",\n",
    "            \"content\": f\"\"\"TEXT: {text}\"\"\",  # This should be your input text that describes the scenes\n",
    "        },]\n",
    "        \n",
    "    return message\n",
    "\n",
    "def get_scene(text: str) -> Optional[str]:\n",
    "    messages = scene_msg(text)\n",
    "    data = {\n",
    "        \"messages\": messages,\n",
    "        \"max_tokens\": 10000,  # Specify the maximum length of the response\n",
    "        \"temperature\": 0,  # Control the randomness of the response\n",
    "        \"stream\": False,\n",
    "        \"repetition_penalty\": 1.3,\n",
    "        \"grammar\": {\n",
    "            \"type\": \"json\",\n",
    "            \"value\": SceneSchema.model_json_schema()\n",
    "                }\n",
    "        }\n",
    "    \n",
    "    response = requests.post(url, headers=headers, json=data)\n",
    "\n",
    "    # Check the response status code and process the output\n",
    "    if response.status_code == 200:\n",
    "        response_data = response.json()\n",
    "        # Extract the assistant's message content\n",
    "        assistant_message = response_data[\"choices\"][0][\"message\"][\"content\"]\n",
    "        return assistant_message\n",
    "    else:\n",
    "        print(f\"Error: {response.status_code}, {response.text}\")  # Print error details\n",
    "        return None"
   ]
  },
  {
   "cell_type": "code",
   "execution_count": 80,
   "metadata": {},
   "outputs": [],
   "source": [
    "outputs=[]\n",
    "for i in text:\n",
    "    inputs=i.replace(\"\\n\",\" \")\n",
    "    scenes=get_scene(inputs)\n",
    "    scene_json_output=read_json(scenes)\n",
    "    outputs.append(scene_json_output)"
   ]
  },
  {
   "cell_type": "markdown",
   "metadata": {},
   "source": [
    "___\n"
   ]
  },
  {
   "cell_type": "markdown",
   "metadata": {},
   "source": [
    "## Get **Style**"
   ]
  },
  {
   "cell_type": "code",
   "execution_count": 81,
   "metadata": {},
   "outputs": [],
   "source": [
    "def basic_llm_req(text: str) -> Optional[str]:\n",
    "    messages = [\n",
    "        {\n",
    "            \"role\":\"system\",\n",
    "            \"content\":\"DO As Asked in The Input\"\n",
    "        },\n",
    "        {\n",
    "            \"role\":\"user\",\n",
    "            \"content\":text\n",
    "        }\n",
    "    ]\n",
    "    \n",
    "    data = {\n",
    "        \"messages\": messages,\n",
    "        \"max_tokens\": 10000,  # Specify the maximum length of the response\n",
    "        \"temperature\": 0,  # Control the randomness of the response\n",
    "        \"stream\": False,\n",
    "    }\n",
    "    response = requests.post(url, headers=headers, json=data)\n",
    "\n",
    "    # Check the response status code and process the output\n",
    "    if response.status_code == 200:\n",
    "        response_data = response.json()\n",
    "        # Extract the assistant's message content\n",
    "        assistant_message = response_data[\"choices\"][0][\"message\"][\"content\"]\n",
    "        return assistant_message\n",
    "    else:\n",
    "        print(f\"Error: {response.status_code}, {response.text}\")  # Print error details\n",
    "        return None\n",
    " "
   ]
  },
  {
   "cell_type": "code",
   "execution_count": 82,
   "metadata": {},
   "outputs": [],
   "source": [
    "combined_summary=\"\"\n",
    "for key,val in output_dict.items():\n",
    "    val_content=val[\"summary\"].replace(\"\\n\",\" \")\n",
    "    if key==0:\n",
    "        continue\n",
    "    output_string= f'''{combined_summary}... Chapter{key}: {val_content}'''"
   ]
  },
  {
   "cell_type": "code",
   "execution_count": 83,
   "metadata": {},
   "outputs": [],
   "source": [
    "style_prompt='''Prompt:\n",
    "\n",
    "\"Analyze the following story and provide a list of image style tags that would best suit its themes, settings, and overall mood. \n",
    "The response should include the style, period, type of art, color palette etc. 1 tags per entry.dont explain it just give tags.\n",
    "\n",
    "Response Format:\n",
    "\n",
    "Style: Realism, Impressionism, Surrealism,etc\n",
    "Type:Landscape, Portrait, Abstract,etc.\n",
    "Color Palette:Warm tones, Cool colors, Monochromatic,etc\n",
    "Mood:Serene, Dramatic, Melancholic,etc.\n",
    "\n",
    "Story\n",
    "'''\n",
    "\n",
    "style=basic_llm_req(f'''{style_prompt}:{combined_summary} ''')"
   ]
  },
  {
   "cell_type": "code",
   "execution_count": 85,
   "metadata": {},
   "outputs": [],
   "source": [
    "style=\" Style:Impressionism\\n2. Type: Landscape\\n3. Color Palette: Cool colors (Blues, Greens, Purples)\\n4. Mood: Melancholic, Nostalgic\""
   ]
  },
  {
   "cell_type": "markdown",
   "metadata": {},
   "source": [
    "___"
   ]
  },
  {
   "cell_type": "markdown",
   "metadata": {},
   "source": [
    "## Get **Image**"
   ]
  },
  {
   "cell_type": "code",
   "execution_count": 86,
   "metadata": {},
   "outputs": [],
   "source": [
    "from huggingface_hub import InferenceClient\n",
    "import time\n",
    "\n",
    "client = InferenceClient(\n",
    "    \"stabilityai/stable-diffusion-3.5-large-turbo\",\n",
    "    token=API,\n",
    ")"
   ]
  },
  {
   "cell_type": "code",
   "execution_count": 87,
   "metadata": {},
   "outputs": [],
   "source": [
    "def get_images(key, text,characters,places,style):\n",
    "    image = client.text_to_image(\n",
    "        f\"Generate a illustration for a book given the prompt,use provided character place descriptions if needed. Prompt: {text}, characters: {characters}, places:{places}// style:{style} \",\n",
    "        height=528,\n",
    "        width=720,\n",
    "    )\n",
    "    image.save(f\"./output/{title}_{key}.png\")"
   ]
  },
  {
   "cell_type": "code",
   "execution_count": 89,
   "metadata": {},
   "outputs": [
    {
     "data": {
      "text/plain": [
       "[[{'scene': \"A young boy's bedroom in France, winter\",\n",
       "   'description': \"A cozy, dimly lit room filled with the soft glow of a fireplace. The room is sparsely furnished with a single bed, a small wooden desk, and a few books scattered around. The boy, bundled up in blankets, is huddled under the covers, looking cold and hungry. The mood is somber and melancholic, reflecting the boy's discomfort and longing.\"},\n",
       "  {'scene': 'A library, undisclosed location',\n",
       "   'description': 'A grand, ornate library filled with towering bookshelves, intricate carvings, and a large, open fireplace. A grown-up, possibly the same boy from the previous scene, is engrossed in a book about the virgin forest. The mood is contemplative and curious, as the grown-up is lost in thought, inspired by the illustrations of a boa constrictor swallowing a wild beast. The key visual elements are the detailed book illustrations and the warm, inviting fireplace.'},\n",
       "  {'scene': \"A young boy's bedroom, undisclosed location\",\n",
       "   'description': \"The same boy's bedroom, but this time adorned with drawings of boa constrictors and their digestion process. The boy is showing his drawings to grown-ups, who are confused and unimpressed. The mood is one of frustration and disappointment, as the boy feels misunderstood and unappreciated by the grown-ups. The key visual elements are the boy's drawings and the grown-ups' puzzled expressions.\"},\n",
       "  {'scene': 'A classroom, undisclosed location',\n",
       "   'description': \"A typical classroom setting with desks and chairs arranged in rows. The boy is sitting at his desk, looking bored and disinterested as the teacher lectures about geography, history, calculation, and grammar. The mood is monotonous and uninspiring, reflecting the boy's lack of enthusiasm for the subjects. The key visual elements are the classroom setting and the teacher's chalkboard.\"},\n",
       "  {'scene': 'A cockpit of an airplane, undisclosed location',\n",
       "   'description': \"A sleek, modern cockpit filled with various controls and instruments. The boy, now a grown-up, is at the helm, flying a plane over various landscapes. The mood is exhilarating and empowering, as the grown-up feels a sense of freedom and control. The key visual elements are the plane's controls, the various landscapes outside the cockpit, and the grown-up's focused expression.\"},\n",
       "  {'scene': 'A desert in the Sahara, undisclosed time',\n",
       "   'description': 'A vast, barren desert stretching out as far as the eye can see. The sun is setting, casting long shadows and creating a stark, desolate landscape. The grown-up is stranded in the desert, with his plane broken down and no one around for miles. The mood is desperate and hopeless, as the grown-up faces the harsh realities of the desert. The key visual elements are the broken-down plane, the vast desert, and the setting sun.'},\n",
       "  {'scene': 'A desert in the Sahara, undisclosed time',\n",
       "   'description': 'The same desert, but this time at dawn. The grown-up is awakened by a small, strange voice asking for a drawing of a sheep. The grown-up is startled and confused, but eventually complies, drawing a sheep for the mysterious voice. The mood is surreal and dreamlike, as the grown-up experiences a moment of connection in the midst of his isolation. The key visual elements are the drawn sheep and the mysterious voice.'}],\n",
       " [{'scene': 'The first scene',\n",
       "   'prompt': \"A lone man, sitting in the cockpit of a plane, flying over a vast expanse of the world. The man, with a serious expression, is intently focused on the control panel, his eyes scanning the map spread out before him. The plane is flying over a variety of landscapes - deserts, mountains, forests, and cities, each one a testament to the man's extensive travels. The mood is one of solitude and determination.\"},\n",
       "  {'scene': 'The second scene',\n",
       "   'prompt': 'A man, stranded in the Sahara desert, surrounded by endless sand dunes. He is sitting on the ground, exhausted and dehydrated, with a broken plane nearby. The man is alone, with no sign of civilization in sight. The mood is one of despair and isolation, with a hint of determination as the man prepares to repair his plane. The sky is a deep shade of red, indicating the passage of time and the harshness of the desert.'},\n",
       "  {'scene': 'The third scene',\n",
       "   'prompt': 'A man, startled awake in the middle of the night, sits up in the sand, surrounded by the same endless desert. He is facing a small, extraordinary-looking man, who is looking at him with serious eyes. The little man is requesting the man to draw him a sheep. The man is in a state of shock, rubbing his eyes and watching the little man with astonishment. The mood is one of surprise and confusion, with a hint of curiosity as the man tries to understand the situation.'},\n",
       "  {'scene': 'The fourth scene',\n",
       "   'prompt': \"A man, sitting on the sand, is drawing a sheep on a piece of paper. The little man is watching him, offering suggestions and criticisms. The man is struggling to draw a sheep that meets the little man's standards, as he has never drawn one before. The mood is one of frustration and determination, as the man tries to please the little man and complete the drawing. The sky is beginning to lighten, indicating the approach of dawn.\"},\n",
       "  {'scene': 'The fifth scene',\n",
       "   'prompt': \"A man, holding a drawing of a sheep, is talking to the little man. The little man is smiling and looking at the drawing with approval. The man is still in shock, but is beginning to accept the little man's presence. The mood is one of relief and curiosity, as the man tries to understand who the little man is and where he came from.\"},\n",
       "  {'scene': 'The sixth scene',\n",
       "   'prompt': 'A man and the little man, sitting on the sand, are talking and asking each other questions. The little man is asking the man about his travels and his life, while the man is trying to understand where the little man came from. The mood is one of friendship and curiosity, as the two characters get to know each other. The sun is beginning to rise, casting a warm glow over the desert.'}],\n",
       " [{'scene': 'The first encounter of the narrator and the Little Prince',\n",
       "   'description': \"A barren desert landscape stretches out under a clear, sunny sky. A small, peculiar figure, the Little Prince, stands in the distance, gazing at a mysterious object in the sky - the narrator's plane. The narrator, a weary-looking man, is seated next to his plane, looking at the Little Prince with a mix of curiosity and irritation.\"},\n",
       "  {'scene': \"The Little Prince's initial questions and the narrator's responses\",\n",
       "   'description': \"The Little Prince approaches the narrator, asking about his plane. The narrator explains that it is a plane and that he is flying. The Little Prince finds this amusing and laughs, which irritates the narrator. The Little Prince then tells the narrator that he comes from heaven, sparking the narrator's curiosity.\"},\n",
       "  {'scene': \"The Little Prince's reverie and contemplation of his treasure\",\n",
       "   'description': \"The Little Prince, still gazing at the narrator's plane, sinks into a deep reverie. He takes out a small, delicate object from his pocket - his treasure - and begins to contemplate it. The narrator watches, intrigued by the Little Prince's behavior.\"},\n",
       "  {'scene': 'The Little Prince reveals the purpose of his treasure',\n",
       "   'description': 'The Little Prince explains that the box he carries serves as a house for his sheep at night. The narrator offers to provide a rope and picket to tie the sheep during the day, but the Little Prince finds the idea amusing.'},\n",
       "  {'scene': 'The Little Prince reveals the size of his home planet',\n",
       "   'description': 'The Little Prince tells the narrator that his home planet is small, scarcely larger than a house. The narrator is not surprised, as he knows that there are many small planets that are hard to see with a telescope and are often named as numbers by astronomers.'}]]"
      ]
     },
     "execution_count": 89,
     "metadata": {},
     "output_type": "execute_result"
    }
   ],
   "source": [
    "outputs"
   ]
  },
  {
   "cell_type": "code",
   "execution_count": null,
   "metadata": {},
   "outputs": [
    {
     "name": "stdout",
     "output_type": "stream",
     "text": [
      "chapter0_scene1 saved\n",
      "chapter0_scene2 saved\n",
      "chapter0_scene3 saved\n",
      "chapter0_scene4 saved\n",
      "chapter0_scene5 saved\n"
     ]
    },
    {
     "ename": "HfHubHTTPError",
     "evalue": "500 Server Error: Internal Server Error for url: https://api-inference.huggingface.co/models/stabilityai/stable-diffusion-3.5-large-turbo (Request ID: OWwzYmu7igYIo99xVVboP)",
     "output_type": "error",
     "traceback": [
      "\u001b[0;31m---------------------------------------------------------------------------\u001b[0m",
      "\u001b[0;31mHTTPError\u001b[0m                                 Traceback (most recent call last)",
      "File \u001b[0;32m~/anaconda3/envs/book/lib/python3.11/site-packages/huggingface_hub/utils/_http.py:406\u001b[0m, in \u001b[0;36mhf_raise_for_status\u001b[0;34m(response, endpoint_name)\u001b[0m\n\u001b[1;32m    405\u001b[0m \u001b[38;5;28;01mtry\u001b[39;00m:\n\u001b[0;32m--> 406\u001b[0m     response\u001b[38;5;241m.\u001b[39mraise_for_status()\n\u001b[1;32m    407\u001b[0m \u001b[38;5;28;01mexcept\u001b[39;00m HTTPError \u001b[38;5;28;01mas\u001b[39;00m e:\n",
      "File \u001b[0;32m~/anaconda3/envs/book/lib/python3.11/site-packages/requests/models.py:960\u001b[0m, in \u001b[0;36mResponse.raise_for_status\u001b[0;34m(self)\u001b[0m\n\u001b[1;32m    959\u001b[0m \u001b[38;5;28;01mif\u001b[39;00m http_error_msg:\n\u001b[0;32m--> 960\u001b[0m     \u001b[38;5;28;01mraise\u001b[39;00m HTTPError(http_error_msg, response\u001b[38;5;241m=\u001b[39m\u001b[38;5;28mself\u001b[39m)\n",
      "\u001b[0;31mHTTPError\u001b[0m: 500 Server Error: Internal Server Error for url: https://api-inference.huggingface.co/models/stabilityai/stable-diffusion-3.5-large-turbo",
      "\nThe above exception was the direct cause of the following exception:\n",
      "\u001b[0;31mHfHubHTTPError\u001b[0m                            Traceback (most recent call last)",
      "Cell \u001b[0;32mIn[88], line 5\u001b[0m\n\u001b[1;32m      3\u001b[0m places\u001b[38;5;241m=\u001b[39moutput_dict[idx\u001b[38;5;241m+\u001b[39m\u001b[38;5;241m1\u001b[39m][\u001b[38;5;124m\"\u001b[39m\u001b[38;5;124mplaces\u001b[39m\u001b[38;5;124m\"\u001b[39m]\n\u001b[1;32m      4\u001b[0m \u001b[38;5;28;01mfor\u001b[39;00m jdx,j \u001b[38;5;129;01min\u001b[39;00m \u001b[38;5;28menumerate\u001b[39m(i):\n\u001b[0;32m----> 5\u001b[0m     get_images(key\u001b[38;5;241m=\u001b[39m\u001b[38;5;124mf\u001b[39m\u001b[38;5;124m\"\u001b[39m\u001b[38;5;124mchapter\u001b[39m\u001b[38;5;132;01m{\u001b[39;00midx\u001b[38;5;132;01m}\u001b[39;00m\u001b[38;5;124m_scene\u001b[39m\u001b[38;5;132;01m{\u001b[39;00mjdx\u001b[38;5;241m+\u001b[39m\u001b[38;5;241m1\u001b[39m\u001b[38;5;132;01m}\u001b[39;00m\u001b[38;5;124m\"\u001b[39m,text\u001b[38;5;241m=\u001b[39mj,characters\u001b[38;5;241m=\u001b[39mchars,places\u001b[38;5;241m=\u001b[39mplaces,style\u001b[38;5;241m=\u001b[39mstyle)\n\u001b[1;32m      6\u001b[0m     \u001b[38;5;28mprint\u001b[39m(\u001b[38;5;124mf\u001b[39m\u001b[38;5;124m\"\u001b[39m\u001b[38;5;124mchapter\u001b[39m\u001b[38;5;132;01m{\u001b[39;00midx\u001b[38;5;132;01m}\u001b[39;00m\u001b[38;5;124m_scene\u001b[39m\u001b[38;5;132;01m{\u001b[39;00mjdx\u001b[38;5;241m+\u001b[39m\u001b[38;5;241m1\u001b[39m\u001b[38;5;132;01m}\u001b[39;00m\u001b[38;5;124m saved\u001b[39m\u001b[38;5;124m\"\u001b[39m)\n\u001b[1;32m      7\u001b[0m     time\u001b[38;5;241m.\u001b[39msleep(\u001b[38;5;241m18\u001b[39m)\n",
      "Cell \u001b[0;32mIn[87], line 2\u001b[0m, in \u001b[0;36mget_images\u001b[0;34m(key, text, characters, places, style)\u001b[0m\n\u001b[1;32m      1\u001b[0m \u001b[38;5;28;01mdef\u001b[39;00m \u001b[38;5;21mget_images\u001b[39m(key, text,characters,places,style):\n\u001b[0;32m----> 2\u001b[0m     image \u001b[38;5;241m=\u001b[39m client\u001b[38;5;241m.\u001b[39mtext_to_image(\n\u001b[1;32m      3\u001b[0m         \u001b[38;5;124mf\u001b[39m\u001b[38;5;124m\"\u001b[39m\u001b[38;5;124mGenerate a illustration for a book given the prompt,use provided character place descriptions if needed. Prompt: \u001b[39m\u001b[38;5;132;01m{\u001b[39;00mtext\u001b[38;5;132;01m}\u001b[39;00m\u001b[38;5;124m, characters: \u001b[39m\u001b[38;5;132;01m{\u001b[39;00mcharacters\u001b[38;5;132;01m}\u001b[39;00m\u001b[38;5;124m, places:\u001b[39m\u001b[38;5;132;01m{\u001b[39;00mplaces\u001b[38;5;132;01m}\u001b[39;00m\u001b[38;5;124m// style:\u001b[39m\u001b[38;5;132;01m{\u001b[39;00mstyle\u001b[38;5;132;01m}\u001b[39;00m\u001b[38;5;124m \u001b[39m\u001b[38;5;124m\"\u001b[39m,\n\u001b[1;32m      4\u001b[0m         height\u001b[38;5;241m=\u001b[39m\u001b[38;5;241m528\u001b[39m,\n\u001b[1;32m      5\u001b[0m         width\u001b[38;5;241m=\u001b[39m\u001b[38;5;241m720\u001b[39m,\n\u001b[1;32m      6\u001b[0m     )\n\u001b[1;32m      7\u001b[0m     image\u001b[38;5;241m.\u001b[39msave(\u001b[38;5;124mf\u001b[39m\u001b[38;5;124m\"\u001b[39m\u001b[38;5;124m./output/\u001b[39m\u001b[38;5;132;01m{\u001b[39;00mtitle\u001b[38;5;132;01m}\u001b[39;00m\u001b[38;5;124m_\u001b[39m\u001b[38;5;132;01m{\u001b[39;00mkey\u001b[38;5;132;01m}\u001b[39;00m\u001b[38;5;124m.png\u001b[39m\u001b[38;5;124m\"\u001b[39m)\n",
      "File \u001b[0;32m~/anaconda3/envs/book/lib/python3.11/site-packages/huggingface_hub/inference/_client.py:2447\u001b[0m, in \u001b[0;36mInferenceClient.text_to_image\u001b[0;34m(self, prompt, negative_prompt, height, width, num_inference_steps, guidance_scale, model, scheduler, target_size, seed, **kwargs)\u001b[0m\n\u001b[1;32m   2435\u001b[0m parameters \u001b[38;5;241m=\u001b[39m {\n\u001b[1;32m   2436\u001b[0m     \u001b[38;5;124m\"\u001b[39m\u001b[38;5;124mnegative_prompt\u001b[39m\u001b[38;5;124m\"\u001b[39m: negative_prompt,\n\u001b[1;32m   2437\u001b[0m     \u001b[38;5;124m\"\u001b[39m\u001b[38;5;124mheight\u001b[39m\u001b[38;5;124m\"\u001b[39m: height,\n\u001b[0;32m   (...)\u001b[0m\n\u001b[1;32m   2444\u001b[0m     \u001b[38;5;241m*\u001b[39m\u001b[38;5;241m*\u001b[39mkwargs,\n\u001b[1;32m   2445\u001b[0m }\n\u001b[1;32m   2446\u001b[0m payload \u001b[38;5;241m=\u001b[39m _prepare_payload(prompt, parameters\u001b[38;5;241m=\u001b[39mparameters)\n\u001b[0;32m-> 2447\u001b[0m response \u001b[38;5;241m=\u001b[39m \u001b[38;5;28mself\u001b[39m\u001b[38;5;241m.\u001b[39mpost(\u001b[38;5;241m*\u001b[39m\u001b[38;5;241m*\u001b[39mpayload, model\u001b[38;5;241m=\u001b[39mmodel, task\u001b[38;5;241m=\u001b[39m\u001b[38;5;124m\"\u001b[39m\u001b[38;5;124mtext-to-image\u001b[39m\u001b[38;5;124m\"\u001b[39m)\n\u001b[1;32m   2448\u001b[0m \u001b[38;5;28;01mreturn\u001b[39;00m _bytes_to_image(response)\n",
      "File \u001b[0;32m~/anaconda3/envs/book/lib/python3.11/site-packages/huggingface_hub/inference/_client.py:306\u001b[0m, in \u001b[0;36mInferenceClient.post\u001b[0;34m(self, json, data, model, task, stream)\u001b[0m\n\u001b[1;32m    303\u001b[0m         \u001b[38;5;28;01mraise\u001b[39;00m InferenceTimeoutError(\u001b[38;5;124mf\u001b[39m\u001b[38;5;124m\"\u001b[39m\u001b[38;5;124mInference call timed out: \u001b[39m\u001b[38;5;132;01m{\u001b[39;00murl\u001b[38;5;132;01m}\u001b[39;00m\u001b[38;5;124m\"\u001b[39m) \u001b[38;5;28;01mfrom\u001b[39;00m \u001b[38;5;21;01merror\u001b[39;00m  \u001b[38;5;66;03m# type: ignore\u001b[39;00m\n\u001b[1;32m    305\u001b[0m \u001b[38;5;28;01mtry\u001b[39;00m:\n\u001b[0;32m--> 306\u001b[0m     hf_raise_for_status(response)\n\u001b[1;32m    307\u001b[0m     \u001b[38;5;28;01mreturn\u001b[39;00m response\u001b[38;5;241m.\u001b[39miter_lines() \u001b[38;5;28;01mif\u001b[39;00m stream \u001b[38;5;28;01melse\u001b[39;00m response\u001b[38;5;241m.\u001b[39mcontent\n\u001b[1;32m    308\u001b[0m \u001b[38;5;28;01mexcept\u001b[39;00m HTTPError \u001b[38;5;28;01mas\u001b[39;00m error:\n",
      "File \u001b[0;32m~/anaconda3/envs/book/lib/python3.11/site-packages/huggingface_hub/utils/_http.py:477\u001b[0m, in \u001b[0;36mhf_raise_for_status\u001b[0;34m(response, endpoint_name)\u001b[0m\n\u001b[1;32m    473\u001b[0m     \u001b[38;5;28;01mraise\u001b[39;00m _format(HfHubHTTPError, message, response) \u001b[38;5;28;01mfrom\u001b[39;00m \u001b[38;5;21;01me\u001b[39;00m\n\u001b[1;32m    475\u001b[0m \u001b[38;5;66;03m# Convert `HTTPError` into a `HfHubHTTPError` to display request information\u001b[39;00m\n\u001b[1;32m    476\u001b[0m \u001b[38;5;66;03m# as well (request id and/or server error message)\u001b[39;00m\n\u001b[0;32m--> 477\u001b[0m \u001b[38;5;28;01mraise\u001b[39;00m _format(HfHubHTTPError, \u001b[38;5;28mstr\u001b[39m(e), response) \u001b[38;5;28;01mfrom\u001b[39;00m \u001b[38;5;21;01me\u001b[39;00m\n",
      "\u001b[0;31mHfHubHTTPError\u001b[0m: 500 Server Error: Internal Server Error for url: https://api-inference.huggingface.co/models/stabilityai/stable-diffusion-3.5-large-turbo (Request ID: OWwzYmu7igYIo99xVVboP)"
     ]
    }
   ],
   "source": [
    "\n",
    "for idx,i in enumerate(outputs):\n",
    "    chars=output_dict[idx+1][\"characters\"]\n",
    "    places=output_dict[idx+1][\"places\"]\n",
    "    for jdx,j in enumerate(i):\n",
    "        ##try except for internal server error\n",
    "        try:\n",
    "            get_images(key=f\"chapter{idx}_scene{jdx+1}\",text=j,characters=chars,places=places,style=style)\n",
    "            print(f\"chapter{idx}_scene{jdx+1} saved\")\n",
    "        except Exception as e:\n",
    "            print(f\"Error while calling the API :{e} \\n waiting for 10 seconds.. \")\n",
    "            time.sleep(10)\n",
    "            get_images(key=f\"chapter{idx}_scene{jdx+1}\",text=j,characters=chars,places=places,style=style)\n",
    "            print(f\"chapter{idx}_scene{jdx+1} saved\")\n",
    "        time.sleep(18)"
   ]
  }
 ],
 "metadata": {
  "kernelspec": {
   "display_name": "book",
   "language": "python",
   "name": "python3"
  },
  "language_info": {
   "codemirror_mode": {
    "name": "ipython",
    "version": 3
   },
   "file_extension": ".py",
   "mimetype": "text/x-python",
   "name": "python",
   "nbconvert_exporter": "python",
   "pygments_lexer": "ipython3",
   "version": "3.11.11"
  }
 },
 "nbformat": 4,
 "nbformat_minor": 2
}
