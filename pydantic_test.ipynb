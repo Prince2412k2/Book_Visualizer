{
 "cells": [
  {
   "cell_type": "code",
   "execution_count": 4,
   "metadata": {},
   "outputs": [],
   "source": [
    "from reader import ebook\n",
    "from main import read_list,read_json\n",
    "from typing import Optional,Dict,List\n",
    "import requests\n",
    "from dotenv import load_dotenv\n",
    "import json\n",
    "import os\n",
    "from pydantic import BaseModel, conint\n",
    "from dataclasses import dataclass"
   ]
  },
  {
   "cell_type": "code",
   "execution_count": 5,
   "metadata": {},
   "outputs": [],
   "source": [
    "load_dotenv()\n",
    "API = os.getenv(\"HF_API\")\n",
    "\n",
    "headers = {\n",
    "    \"Authorization\": f\"Bearer {API}\",\n",
    "    \"Content-Type\": \"application/json\",\n",
    "}\n",
    "url = \"https://api-inference.huggingface.co/models/mistralai/Mistral-7B-Instruct-v0.3/v1/chat/completions\"\n",
    "\n"
   ]
  },
  {
   "cell_type": "markdown",
   "metadata": {},
   "source": [
    "___"
   ]
  },
  {
   "cell_type": "markdown",
   "metadata": {},
   "source": [
    "## Get **Summary**, **Characters** AND **Places** "
   ]
  },
  {
   "cell_type": "code",
   "execution_count": 6,
   "metadata": {},
   "outputs": [],
   "source": [
    "sum_role='''(NOTE: Only output in JSON. Ensure the JSON format is valid, well-formed, and Ready to parse. nothing before or after the json file)\n",
    "Input:  \n",
    "1.Current Chapter Text: The current chapter to be analyzed.\n",
    "2.Character List: A list of characters with their descriptions till now (This chapter).\n",
    "3.Places list: list of places and their description till now (This chapter).\n",
    "4.Previous Chapters' Summary: Context from earlier chapters.\n",
    "\n",
    "Rules:  \n",
    "1.Narrative Summary: Summarize and explain the chapter in detail, integrating context and key developments from previous chapters and create a self containing summary and explaination. end with to be continued.\n",
    "2.Character List: add new characters to the list based on this chapter and Update existing character descriptions. If no characters are mentioned, return the same list as given.\n",
    "3.Places: Include an updated description of any significant locations mentioned in this chapter, focusing on environment, weather, vibe, and structure.\n",
    "4.Output Format: Ensure the output is valid and well-structured JSON.\n",
    "\n",
    "Output:  \n",
    "Generate a JSON object in this format:\n",
    "{\n",
    "  \"summary\": \"Detailed Summary and explination of the current chapter in context of previous chapters. Use previus chapter summary as context\",\n",
    "  \"characters\": {\n",
    "      \"Character Name\": \"Updated or new description (age, looks, clothes, hair, body language) based on this chapter.\"\n",
    "    },\n",
    "  \"places\": {\n",
    "      \"Place Name\": \"Updated or new description (environment, weather, vibe, structure, etc.) based on this chapter.\"\n",
    "  }\n",
    "}\n",
    "'''"
   ]
  },
  {
   "cell_type": "code",
   "execution_count": 12,
   "metadata": {},
   "outputs": [],
   "source": [
    "\n",
    "\n",
    "class SummarySchema(BaseModel):\n",
    "    summary: str\n",
    "    characters: Dict[str,str]\n",
    "    places: Dict[str,str]\n",
    "\n",
    "def scene_msg(text: str, context: str, characters: dict = {}, places: dict = {}) -> list:\n",
    "    message = [\n",
    "        {\n",
    "            \"role\": \"system\",\n",
    "            \"content\": sum_role\n",
    "        },\n",
    "        {\n",
    "            \"role\": \"user\",\n",
    "            \"content\": json.dumps({\n",
    "                \"past_context\": context,\n",
    "                \"Current_Chapter\": text,\n",
    "                \"character_list\": characters,\n",
    "                \"places_list\": places\n",
    "            }),\n",
    "        },\n",
    "    ]\n",
    "    return message\n",
    "\n",
    "def get_summ(messages:Dict[str,str]) -> Optional[str]:\n",
    "    data = {\n",
    "        \"messages\": messages,\n",
    "        \"temperature\": 0.7,\n",
    "        \"stream\": False,\n",
    "        \"max_tokens\":10000,\n",
    "        \"parameters\": {\n",
    "        \"repetition_penalty\": 1.3,\n",
    "        \"grammar\": {\n",
    "            \"type\": \"json\",\n",
    "            \"value\": SummarySchema.model_json_schema()\n",
    "                }\n",
    "                    }\n",
    "    }\n",
    "    response = requests.post(url, headers=headers, json=data)\n",
    "\n",
    "    if response.status_code == 200:\n",
    "        response_data = response.json()\n",
    "        assistant_message = response_data[\"choices\"][0][\"message\"][\"content\"]\n",
    "        return assistant_message\n",
    "    else:\n",
    "        print(f\"Error: {response.status_code}, {response.text}\")\n",
    "        return None\n",
    "\n"
   ]
  },
  {
   "cell_type": "code",
   "execution_count": 13,
   "metadata": {},
   "outputs": [],
   "source": [
    "book=ebook(\"./books/stranger.pdf\")\n",
    "title=book.get_metadata()['title']\n",
    "chapters = book.get_chapters()\n",
    "_,text=zip(*chapters[:5]) "
   ]
  },
  {
   "cell_type": "code",
   "execution_count": 14,
   "metadata": {},
   "outputs": [],
   "source": [
    "output_dict={\n",
    "    0:\n",
    "        {\n",
    "            \"summary\":\"This is the first chapter\",\n",
    "            \"characters\":{},\n",
    "            \"places\": {}\n",
    "        }\n",
    "            }"
   ]
  },
  {
   "cell_type": "code",
   "execution_count": 15,
   "metadata": {},
   "outputs": [
    {
     "name": "stdout",
     "output_type": "stream",
     "text": [
      "chapter: 0 done\n",
      "chapter: 1 done\n",
      "chapter: 2 done\n",
      "chapter: 3 done\n",
      "chapter: 4 done\n"
     ]
    }
   ],
   "source": [
    "for idx,i in enumerate(text):\n",
    "    \n",
    "    context=output_dict[idx][\"summary\"]\n",
    "    characters=output_dict[idx][\"characters\"]\n",
    "    places=output_dict[idx][\"places\"]\n",
    "    \n",
    "    mes=scene_msg(i,context,characters,places)\n",
    "    \n",
    "    summary_characters=get_summ(mes)\n",
    "    output_json=read_json(summary_characters)\n",
    "    output_dict[idx+1]=output_json\n",
    "    print(f\"chapter: {idx} done\")"
   ]
  },
  {
   "cell_type": "code",
   "execution_count": 16,
   "metadata": {},
   "outputs": [
    {
     "name": "stdout",
     "output_type": "stream",
     "text": [
      "CHAPTER 1 :\n",
      "\n",
      "Characters:\n",
      "Protagonist: A middle-aged man, dressed in regular attire, seemingly calm but with a hint of sorrow. His actions show a sense of duty towards attending his mother's funeral.\n",
      "\n",
      "Places:\n",
      "Algiers: A city where the protagonist lives. The weather is described as hot. The atmosphere is busy, as indicated by the lunch at Celeste's restaurant.\n",
      "Marengo: A village fifty miles from Algiers. The Home for Aged Persons is located here. The environment is not described in detail, but the distance from the village to the Home is mentioned.\n",
      "\n",
      "Summary:\n",
      "In this chapter, the protagonist learns about the death of his mother. He receives a telegram informing him of her passing and plans to attend the funeral the next day. He takes a bus to Marengo, a village fifty miles from Algiers, where the Home for Aged Persons is located. On the journey, he feels drowsy and sleeps most of the way. Upon arrival, he requests to see his mother immediately but is denied. The chapter ends with the protagonist reflecting on the impending funeral.\n",
      "\n",
      "-------------------------------------------------------------------------------------------------------------------\n",
      "CHAPTER 2 :\n",
      "\n",
      "Characters:\n",
      "Protagonist: A middle-aged man, dressed in regular attire, seemingly calm but with a hint of sorrow. His actions show a sense of duty towards attending his mother's funeral.\n",
      "\n",
      "Places:\n",
      "Algiers: A bustling city with a hot climate, as indicated by the lunch at Celeste's restaurant.\n",
      "Marengo: A village fifty miles from Algiers. The Home for Aged Persons is a significant location, described as a clean, white-walled building with a skylight and a mortuary.\n",
      "\n",
      "Summary:\n",
      "The protagonist learns about his mother's death and plans to attend her funeral the next day. He takes a bus to Marengo, a village fifty miles from Algiers, where the Home for Aged Persons is located. He feels drowsy during the journey and sleeps most of the way. Upon arrival, he is denied immediate access to his mother's body and reflects on the impending funeral.\n",
      "\n",
      "-------------------------------------------------------------------------------------------------------------------\n",
      "CHAPTER 3 :\n",
      "\n",
      "Characters:\n",
      "Protagonist: The middle-aged man spends the day off work, reflecting on his past and anticipating his mother's funeral. He encounters Marie Cardona, an old acquaintance, and spends the night at her place.\n",
      "Marie Cardona: A woman who used to work at the protagonist's office. She is described as being brown and having a playful demeanor.\n",
      "\n",
      "Places:\n",
      "Algiers: The city where the protagonist works and lives. It is a bustling city with a hot climate.\n",
      "Swimming pool: A location where the protagonist spends his afternoon, swimming and spending time with Marie Cardona.\n",
      "\n",
      "Summary:\n",
      "In this chapter, the protagonist takes a day off from work to attend his mother's funeral the next day. He spends his morning at the office, where his employer is understanding about his situation. In the afternoon, he goes for a swim and encounters Marie Cardona, an old acquaintance. They spend time together and he stays over at her place. The protagonist wakes up the next morning to find Marie gone. He spends the rest of the day alone, reflecting on his life and the impending funeral.\n",
      "\n",
      "-------------------------------------------------------------------------------------------------------------------\n",
      "CHAPTER 4 :\n",
      "\n",
      "Characters:\n",
      "Protagonist: The middle-aged man spends the day off work, reflecting on his past and anticipating his mother's funeral. He encounters Marie Cardona, an old acquaintance, and spends the night at her place.\n",
      "Marie Cardona: A woman who used to work at the protagonist's office. She is described as being brown and having a playful demeanor.\n",
      "\n",
      "Places:\n",
      "Algiers: The city where the protagonist works and lives. It is a bustling city with a hot climate.\n",
      "Swimming pool: A location where the protagonist spends his afternoon, swimming and spending time with Marie Cardona.\n",
      "\n",
      "Summary:\n",
      "The protagonist takes a day off to prepare for his mother's funeral. He spends the day reflecting on his past and encounters an old acquaintance, Marie Cardona. They spend the day together, swimming, and the protagonist ends up spending the night at her place. However, in the morning, Marie is gone.\n",
      "\n",
      "-------------------------------------------------------------------------------------------------------------------\n",
      "CHAPTER 5 :\n",
      "\n",
      "Characters:\n",
      "Protagonist: The middle-aged man spends the day off work, reflecting on his past and anticipating his mother's funeral. He encounters Marie Cardona, an old acquaintance, and spends the night at her place.\n",
      "Marie Cardona: A woman who used to work at the protagonist's office. She is described as being brown and having a playful demeanor. She spends the day with the protagonist, swimming, and shares an intimate moment with him.\n",
      "Raymond: A friend of the protagonist who is in a violent relationship. He is described as being aggressive and manipulative.\n",
      "\n",
      "Places:\n",
      "Algiers: The city where the protagonist works and lives. It is a bustling city with a hot climate.\n",
      "Beach in Algiers: A secluded beach where the protagonist and Marie Cardona spend their day. It is described as having a strip of sand between two rocky spurs, with a line of rushes at the back.\n",
      "\n",
      "Summary:\n",
      "In this chapter, the protagonist takes a day off work to prepare for his mother's funeral. He spends the day reflecting on his past and encounters an old acquaintance, Marie Cardona. They spend the day together at a beach in Algiers, where they swim, play, and share an intimate moment. In the evening, Marie leaves, and the protagonist returns home to find Raymond in a violent altercation with a woman. The protagonist chooses not to involve the police and instead agrees to be Raymond's witness in the incident.\n",
      "\n",
      "-------------------------------------------------------------------------------------------------------------------\n"
     ]
    }
   ],
   "source": [
    "for num, dic in output_dict.items():\n",
    "    if num==0:\n",
    "        continue\n",
    "    print(f\"CHAPTER {num} :\\n\")\n",
    "    \n",
    "    sum,char,places=dic.items()\n",
    "    print(\"Characters:\")\n",
    "    if len(char)>0 :\n",
    "        for name,i in char[1].items():\n",
    "            print(f\"{name}: {i}\")\n",
    "    \n",
    "    print(\"\\nPlaces:\")\n",
    "    if len(places)>0:\n",
    "        for name,i in places[1].items():\n",
    "            print(f\"{name}: {i}\")\n",
    "    print(f\"\\nSummary:\\n{sum[1]}\")\n",
    "    print(\"\\n-------------------------------------------------------------------------------------------------------------------\")"
   ]
  },
  {
   "cell_type": "markdown",
   "metadata": {},
   "source": [
    "___"
   ]
  },
  {
   "cell_type": "markdown",
   "metadata": {},
   "source": [
    "## Get **Scenes**"
   ]
  },
  {
   "cell_type": "code",
   "execution_count": null,
   "metadata": {},
   "outputs": [],
   "source": []
  },
  {
   "cell_type": "code",
   "execution_count": 17,
   "metadata": {},
   "outputs": [
    {
     "name": "stdout",
     "output_type": "stream",
     "text": [
      "{'properties': {'scenes': {'additionalProperties': {'type': 'string'}, 'title': 'Scenes', 'type': 'object'}}, 'required': ['scenes'], 'title': 'SceneSchema', 'type': 'object'}\n"
     ]
    }
   ],
   "source": [
    "class SceneSchema(BaseModel):\n",
    "    scenes: Dict[str,str]\n",
    "print(SceneSchema.model_json_schema())"
   ]
  },
  {
   "cell_type": "code",
   "execution_count": 18,
   "metadata": {},
   "outputs": [],
   "source": [
    "def scene_msg(text: str) -> list:\n",
    "    message = [\n",
    "        {\n",
    "            \"role\": \"system\",\n",
    "            \"content\": ''' IMPORTANT-> ONLY OUTPUT IN JSON.\n",
    "                You are a text-to-image prompt generator. \n",
    "                Your task is to analyze the provided input text and identify distinct scenes Where Place or Time cahnges.\n",
    "                For each scene, create a detailed prompt suitable for generating an image.\n",
    "                Call characters by their respacted names.\n",
    "                Call Places by their respected name\n",
    "                \n",
    "                1. **Input:**\n",
    "                    - `text`: A block of narrative text.```\n",
    "                2. **Output:**\n",
    "                    - [prompt,prompt,prompt.....]\n",
    "\n",
    "                ### Instructions:\n",
    "                - Identify key changes in location, characters, or significant actions to define separate scenes.\n",
    "                - Use descriptive language to paint a vivid picture of each scene in the prompt.\n",
    "                \n",
    "                   ''',\n",
    "        },\n",
    "        \n",
    "        {\n",
    "            \"role\": \"user\",\n",
    "            \"content\": f\"\"\"TEXT: {text}\"\"\",  # This should be your input text that describes the scenes\n",
    "        },]\n",
    "        \n",
    "    return message\n",
    "\n",
    "def get_scene(text: str) -> Optional[str]:\n",
    "    messages = scene_msg(text)\n",
    "    data = {\n",
    "        \"messages\": messages,\n",
    "        \"max_tokens\": 10000,  # Specify the maximum length of the response\n",
    "        \"temperature\": 0,  # Control the randomness of the response\n",
    "        \"stream\": False,\n",
    "        \"repetition_penalty\": 1.3,\n",
    "        \"grammar\": {\n",
    "            \"type\": \"json\",\n",
    "            \"value\": SceneSchema.model_json_schema()\n",
    "                }\n",
    "        }\n",
    "    \n",
    "    response = requests.post(url, headers=headers, json=data)\n",
    "\n",
    "    # Check the response status code and process the output\n",
    "    if response.status_code == 200:\n",
    "        response_data = response.json()\n",
    "        # Extract the assistant's message content\n",
    "        assistant_message = response_data[\"choices\"][0][\"message\"][\"content\"]\n",
    "        return assistant_message\n",
    "    else:\n",
    "        print(f\"Error: {response.status_code}, {response.text}\")  # Print error details\n",
    "        return None"
   ]
  },
  {
   "cell_type": "code",
   "execution_count": 19,
   "metadata": {},
   "outputs": [],
   "source": [
    "outputs=[]\n",
    "for i in text:\n",
    "    inputs=i.replace(\"\\n\",\" \")\n",
    "    scenes=get_scene(inputs)\n",
    "    scene_json_output=read_json(scenes)\n",
    "    outputs.append(scene_json_output)"
   ]
  },
  {
   "cell_type": "markdown",
   "metadata": {},
   "source": [
    "___\n"
   ]
  },
  {
   "cell_type": "markdown",
   "metadata": {},
   "source": [
    "## Get **Style**"
   ]
  },
  {
   "cell_type": "code",
   "execution_count": 21,
   "metadata": {},
   "outputs": [],
   "source": [
    "def basic_llm_req(text: str) -> Optional[str]:\n",
    "    messages = [\n",
    "        {\n",
    "            \"role\":\"system\",\n",
    "            \"content\":\"DO As Asked in The Input\"\n",
    "        },\n",
    "        {\n",
    "            \"role\":\"user\",\n",
    "            \"content\":text\n",
    "        }\n",
    "    ]\n",
    "    \n",
    "    data = {\n",
    "        \"messages\": messages,\n",
    "        \"max_tokens\": 10000,  # Specify the maximum length of the response\n",
    "        \"temperature\": 0,  # Control the randomness of the response\n",
    "        \"stream\": False,\n",
    "    }\n",
    "    response = requests.post(url, headers=headers, json=data)\n",
    "\n",
    "    # Check the response status code and process the output\n",
    "    if response.status_code == 200:\n",
    "        response_data = response.json()\n",
    "        # Extract the assistant's message content\n",
    "        assistant_message = response_data[\"choices\"][0][\"message\"][\"content\"]\n",
    "        return assistant_message\n",
    "    else:\n",
    "        print(f\"Error: {response.status_code}, {response.text}\")  # Print error details\n",
    "        return None\n",
    " "
   ]
  },
  {
   "cell_type": "code",
   "execution_count": 22,
   "metadata": {},
   "outputs": [],
   "source": [
    "combined_summary=\"\"\n",
    "for key,val in output_dict.items():\n",
    "    val_content=val[\"summary\"].replace(\"\\n\",\" \")\n",
    "    if key==0:\n",
    "        continue\n",
    "    output_string= f'''{combined_summary}... Chapter{key}: {val_content}'''"
   ]
  },
  {
   "cell_type": "code",
   "execution_count": 23,
   "metadata": {},
   "outputs": [],
   "source": [
    "style_prompt='''Prompt:\n",
    "\n",
    "\"Analyze the following story and provide a list of image style tags that would best suit its themes, settings, and overall mood. \n",
    "The response should include the style, period, type of art, color palette etc. 4 tags per entry.dont explain it just give tags.\n",
    "\n",
    "Response Format:\n",
    "\n",
    "Style: Realism, Impressionism, Surrealism,etc.\n",
    "Period:Romantic, Modern, Contemporary,etc.\n",
    "Type:Landscape, Portrait, Abstract,etc.\n",
    "Color Palette:Warm tones, Cool colors, Monochromatic,etc\n",
    "Mood:Serene, Dramatic, Melancholic,etc.\n",
    "\n",
    "Story\n",
    "'''\n",
    "\n",
    "style=basic_llm_req(f'''{style_prompt}:{combined_summary} ''')"
   ]
  },
  {
   "cell_type": "code",
   "execution_count": 24,
   "metadata": {},
   "outputs": [
    {
     "data": {
      "text/plain": [
       "'Title: \"The Forgotten Whispers of Time\"\\n\\n1. Style: Romantic Realism\\n   Period: Victorian\\n   Type: Landscape\\n   Color Palette: Warm Tones (Burnt Umber, Sienna, Ochre, Sepia)\\n   Mood: Melancholic\\n\\n2. Style: Impressionism\\n   Period: Modern\\n   Type: Portrait\\n   Color Palette: Cool Colors (Cerulean, Cyan, Lavender, White)\\n   Mood: Serene\\n\\n3. Style: Surrealism\\n   Period: Contemporary\\n   Type: Abstract\\n   Color Palette: Monochromatic (Black, White, Grey)\\n   Mood: Dramatic\\n\\n4. Style: Expressionism\\n   Period: Early 20th Century\\n   Type: Landscape\\n   Color Palette: Vibrant (Crimson, Lime, Cobalt, Ultramarine)\\n   Mood: Emotional, Intense'"
      ]
     },
     "execution_count": 24,
     "metadata": {},
     "output_type": "execute_result"
    }
   ],
   "source": [
    "style"
   ]
  },
  {
   "cell_type": "markdown",
   "metadata": {},
   "source": [
    "___"
   ]
  },
  {
   "cell_type": "markdown",
   "metadata": {},
   "source": [
    "## Get **Image**"
   ]
  },
  {
   "cell_type": "code",
   "execution_count": 25,
   "metadata": {},
   "outputs": [],
   "source": [
    "from huggingface_hub import InferenceClient\n",
    "import time\n",
    "\n",
    "client = InferenceClient(\n",
    "    \"stabilityai/stable-diffusion-3.5-large-turbo\",\n",
    "    token=API,\n",
    ")"
   ]
  },
  {
   "cell_type": "code",
   "execution_count": 26,
   "metadata": {},
   "outputs": [],
   "source": [
    "def get_images(key, text,characters,places,style):\n",
    "    image = client.text_to_image(\n",
    "        f\"Generate a illustration for a book given the prompt,use provided character place descriptions if needed. Prompt: {text}, characters: {characters}, places:{places}// style:{style} \",\n",
    "        height=528,\n",
    "        width=720,\n",
    "    )\n",
    "    image.save(f\"./output/{title}_{key}.png\")"
   ]
  },
  {
   "cell_type": "code",
   "execution_count": null,
   "metadata": {},
   "outputs": [
    {
     "name": "stdout",
     "output_type": "stream",
     "text": [
      "chapter0_scene1 saved\n",
      "chapter0_scene2 saved\n",
      "chapter0_scene3 saved\n",
      "chapter0_scene4 saved\n"
     ]
    }
   ],
   "source": [
    "for idx,i in enumerate(outputs):\n",
    "    chars=output_dict[idx+1][\"characters\"]\n",
    "    places=output_dict[idx+1][\"places\"]\n",
    "    for jdx,j in enumerate(i):\n",
    "        get_images(key=f\"chapter{idx}_scene{jdx+1}\",text=j,characters=chars,places=places,style=style)\n",
    "        print(f\"chapter{idx}_scene{jdx+1} saved\")\n",
    "        time.sleep(30)"
   ]
  }
 ],
 "metadata": {
  "kernelspec": {
   "display_name": "book",
   "language": "python",
   "name": "python3"
  },
  "language_info": {
   "codemirror_mode": {
    "name": "ipython",
    "version": 3
   },
   "file_extension": ".py",
   "mimetype": "text/x-python",
   "name": "python",
   "nbconvert_exporter": "python",
   "pygments_lexer": "ipython3",
   "version": "3.11.11"
  }
 },
 "nbformat": 4,
 "nbformat_minor": 2
}
