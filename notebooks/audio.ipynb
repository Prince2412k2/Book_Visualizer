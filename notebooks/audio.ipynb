{
 "cells": [
  {
   "cell_type": "code",
   "execution_count": 1,
   "metadata": {},
   "outputs": [],
   "source": [
    "##Libs\n",
    "import os\n",
    "from google.cloud import texttospeech\n",
    "import re\n",
    "import requests\n",
    "from dotenv import load_dotenv\n",
    "\n",
    "##Moduls\n",
    "from reader import ebook"
   ]
  },
  {
   "cell_type": "code",
   "execution_count": 2,
   "metadata": {},
   "outputs": [],
   "source": [
    "example=''' \n",
    "<speak>\n",
    "    <prosody rate=\"slow\" pitch=\"+1st\">Mother died today.</prosody>\n",
    "    <break time=\"700ms\"/>\n",
    "    <prosody rate=\"medium\">Or, maybe, yesterday; I can’t be sure.</prosody>\n",
    "    <break time=\"1s\"/>\n",
    "\n",
    "    <prosody pitch=\"-1st\">\n",
    "        The telegram from the Home says: <emphasis level=\"strong\">YOUR MOTHER PASSED AWAY. FUNERAL TOMORROW. DEEP SYMPATHY.</emphasis>\n",
    "    </prosody>\n",
    "    <break time=\"1s\"/>\n",
    "    <prosody rate=\"medium\">Which leaves the matter doubtful; it could have been yesterday.</prosody>\n",
    "    <break time=\"1s\"/>\n",
    "\n",
    "    The Home for Aged Persons is at Marengo, some fifty miles from Algiers.\n",
    "    <break time=\"500ms\"/>\n",
    "    <prosody rate=\"slow\">With the two o’clock bus, I should get there well before nightfall.</prosody>\n",
    "    <break time=\"700ms\"/>\n",
    "    Then I can spend the night there, keeping the usual vigil beside the body, and be back here by tomorrow evening.\n",
    "    <break time=\"1s\"/>\n",
    "\n",
    "    <prosody pitch=\"-2st\">I have fixed up with my employer for two days’ leave; obviously, under the circumstances, he couldn’t refuse.</prosody>\n",
    "    <break time=\"1s\"/>\n",
    "    <prosody pitch=\"+2st\">Still, I had an idea he looked annoyed, and I said, without thinking: <emphasis level=\"moderate\">“Sorry, sir, but it’s not my fault, you know.”</emphasis></prosody>\n",
    "    <break time=\"1s\"/>\n",
    "\n",
    "    Afterwards, it struck me I needn’t have said that.\n",
    "    <break time=\"700ms\"/>\n",
    "    <prosody rate=\"medium\">I had no reason to excuse myself; it was up to him to express his sympathy and so forth.</prosody>\n",
    "    <break time=\"1s\"/>\n",
    "    Probably he will do so the day after tomorrow, when he sees me in black.\n",
    "    <break time=\"700ms\"/>\n",
    "    For the present, it’s almost as if Mother weren’t really dead.\n",
    "    <break time=\"700ms\"/>\n",
    "    The funeral will bring it home to me, put an official seal on it, so to speak.\n",
    "    <break time=\"1.5s\"/>\n",
    "\n",
    "    <prosody pitch=\"-1st\">I took the two-o’clock bus. It was a blazing hot afternoon.</prosody>\n",
    "    <break time=\"1s\"/>\n",
    "    I’d lunched, as usual, at Céleste’s restaurant.\n",
    "    <break time=\"500ms\"/>\n",
    "    Everyone was most kind, and Céleste said to me, <emphasis level=\"strong\">“There’s no one like a mother.”</emphasis>\n",
    "    <break time=\"1s\"/>\n",
    "    When I left, they came with me to the door.\n",
    "    <break time=\"500ms\"/>\n",
    "    It was something of a rush, getting away, as at the last moment I had to call in at Emmanuel’s place to borrow his black tie and mourning band.\n",
    "    <break time=\"700ms\"/>\n",
    "\n",
    "    I had to run to catch the bus.\n",
    "    <break time=\"500ms\"/>\n",
    "    I suppose it was my hurrying like that, what with the glare off the road and from the sky, the reek of gasoline, and the jolts, that made me feel so drowsy.\n",
    "    <break time=\"1s\"/>\n",
    "    Anyhow, I slept most of the way.\n",
    "    <break time=\"700ms\"/>\n",
    "    When I woke, I was leaning against a soldier; he grinned and asked me if I’d come from a long way off, and I just nodded, to cut things short.\n",
    "    <break time=\"1s\"/>\n",
    "    I wasn’t in a mood for talking.\n",
    "    <break time=\"1.5s\"/>\n",
    "\n",
    "    <prosody pitch=\"+1st\">The Home is a little over a mile from the village.</prosody>\n",
    "    <break time=\"700ms\"/>\n",
    "    I went there on foot. I asked to be allowed to see Mother at once, but the doorkeeper told me I must see the warden first.\n",
    "    <break time=\"1s\"/>\n",
    "    He wasn’t free, and I had to wait a bit.\n",
    "    <break time=\"700ms\"/>\n",
    "    The doorkeeper chatted with me while I waited; then he led me to the office.\n",
    "    <break time=\"1.5s\"/>\n",
    "\n",
    "    The warden was a very small man, with gray hair, and a Legion of Honor rosette in his buttonhole.\n",
    "    <break time=\"500ms\"/>\n",
    "    He gave me a long look with his watery blue eyes.\n",
    "    <break time=\"700ms\"/>\n",
    "    Then we shook hands, and he held mine so long that I began to feel embarrassed.\n",
    "    <break time=\"1.5s\"/>\n",
    "</speak>\n",
    "'''"
   ]
  },
  {
   "cell_type": "code",
   "execution_count": 3,
   "metadata": {},
   "outputs": [],
   "source": [
    "load_dotenv()\n",
    "API = os.getenv(\"HF_API\")\n",
    "\n",
    "headers = {\n",
    "    \"Authorization\": f\"Bearer {API}\",\n",
    "    \"Content-Type\": \"application/json\",\n",
    "}\n",
    "url = \"https://api-inference.huggingface.co/models/mistralai/Mistral-7B-Instruct-v0.3/v1/chat/completions\"\n",
    "\n",
    "def msg(text: str) -> list:\n",
    "\n",
    "    message = [\n",
    "        {\n",
    "            \"role\": \"system\",\n",
    "            \"content\": f'''(Note-Only output SSML format).Convert given text engaging SSML format for Text-to-Speech.\n",
    "            ex🙏le -> {example}\n",
    "            '''\n",
    "        },\n",
    "        {\n",
    "            \"role\": \"user\",\n",
    "            \"content\": text\n",
    "            },\n",
    "    ]\n",
    "    return message"
   ]
  },
  {
   "cell_type": "code",
   "execution_count": 4,
   "metadata": {},
   "outputs": [],
   "source": [
    "def get_ssml(txt:str) :\n",
    "    data = {\n",
    "        \"messages\": msg(txt),\n",
    "        \"temperature\": 0.7,\n",
    "        \"stream\": False,\n",
    "        \"max_tokens\":10000\n",
    "    }\n",
    "    response = requests.post(url, headers=headers, json=data)\n",
    "\n",
    "    if response.status_code == 200:\n",
    "        response_data = response.json()\n",
    "        assistant_message = response_data[\"choices\"][0][\"message\"][\"content\"]\n",
    "        return assistant_message\n",
    "    else:\n",
    "        print(f\"Error: {response.status_code}, {response.text}\")\n",
    "        return None"
   ]
  },
  {
   "cell_type": "code",
   "execution_count": null,
   "metadata": {},
   "outputs": [],
   "source": []
  },
  {
   "cell_type": "code",
   "execution_count": 5,
   "metadata": {},
   "outputs": [],
   "source": [
    "# Set the path to your service account key file\n",
    "service_account_json = \"./exalted-skein-446217-e2-e83f57244ce8.json\"\n",
    "os.environ[\"GOOGLE_APPLICATION_CREDENTIALS\"] = service_account_json\n",
    "\n",
    "def synthesize_speech(text:str,chapter:str):\n",
    "    # Initialize the Text-to-Speech client\n",
    "    client = texttospeech.TextToSpeechClient()\n",
    "\n",
    "    # Set the text input to be synthesized\n",
    "    input_text = texttospeech.SynthesisInput(ssml=text)\n",
    "\n",
    "    # Build the voice request\n",
    "    voice = texttospeech.VoiceSelectionParams(\n",
    "        language_code=\"en-US\",  # Language code\n",
    "        name=\"en-GB-Wavenet-B\",  # Voice name\n",
    "        ssml_gender=texttospeech.SsmlVoiceGender.MALE,  # Gender\n",
    "    )\n",
    "\n",
    "    # Specify the type of audio file you want to receive\n",
    "    audio_config = texttospeech.AudioConfig(\n",
    "        audio_encoding=texttospeech.AudioEncoding.MP3,# Audio format\n",
    "        effects_profile_id=[\"telephony-class-application\"],\n",
    "    )\n",
    "\n",
    "    try:\n",
    "        # Perform the text-to-speech request\n",
    "        response = client.synthesize_speech(\n",
    "            input=input_text, voice=voice, audio_config=audio_config\n",
    "        )\n",
    "\n",
    "        # Save the response audio to an MP3 file\n",
    "        with open(f\"./output/audio/{chapter}.mp3\", \"wb\") as out:\n",
    "            out.write(response.audio_content)\n",
    "            print(\"Audio content written to 'output.mp3'\")\n",
    "    except Exception as e:\n",
    "        print(f\"An error occurred: {e}\")\n",
    "\n",
    "\n"
   ]
  },
  {
   "cell_type": "code",
   "execution_count": 6,
   "metadata": {},
   "outputs": [],
   "source": [
    "def clean_text(raw_text):\n",
    "    # Remove unwanted characters, keeping only alphanumeric characters, punctuation, and whitespace\n",
    "    cleaned_text = re.sub(r\"[^\\w\\s.,!?'-]\", \"\", raw_text)\n",
    "    \n",
    "    # Replace multiple spaces and new lines with a single space\n",
    "    cleaned_text = re.sub(r'\\s+', ' ', cleaned_text)\n",
    "    \n",
    "    # Strip leading and trailing whitespace\n",
    "    cleaned_text = cleaned_text.strip()\n",
    "    \n",
    "    return cleaned_text"
   ]
  },
  {
   "cell_type": "code",
   "execution_count": 7,
   "metadata": {},
   "outputs": [],
   "source": [
    "book=ebook(\"./books/LP.epub\")\n",
    "chapters = book.get_chapters()\n",
    "title,text=zip(*chapters)\n",
    "input=clean_text(text[1])[:1000]\n"
   ]
  },
  {
   "cell_type": "code",
   "execution_count": 8,
   "metadata": {},
   "outputs": [],
   "source": [
    "final_input=get_ssml(input)"
   ]
  },
  {
   "cell_type": "code",
   "execution_count": 9,
   "metadata": {},
   "outputs": [
    {
     "data": {
      "text/plain": [
       "'<speak>\\n    <prosody rate=\"medium\">So I had to choose another profession.</prosody>\\n    <break time=\"700ms\"/>\\n    <prosody rate=\"slow\">I learned to fly planes.</prosody>\\n    <break time=\"1s\"/>\\n    <prosody pitch=\"+1st\">I flew all over the world.</prosody>\\n    <break time=\"1s\"/>\\n    <prosody rate=\"medium\">And geography, that\\'s right, served me well.</prosody>\\n    <break time=\"1s\"/>\\n    <prosody rate=\"slow\">I knew how to recognize, at first glance, China, or Arizona.</prosody>\\n    <break time=\"1s\"/>\\n    <prosody rate=\"medium\">It is useful if you have gone astray during the night.</prosody>\\n    <break time=\"1s\"/>\\n    <prosody pitch=\"-1st\">I have had, in the course of my life, a lot of contact with many serious people.</prosody>\\n    <break time=\"1s\"/>\\n    <prosody rate=\"medium\">I have lived among the grown-ups.</prosody>\\n    <break time=\"1s\"/>\\n    <prosody rate=\"slow\">I saw them up close.</prosody>\\n    <break time=\"1s\"/>\\n    <prosody rate=\"medium\">It did not really improve my opinion of them.</prosody>\\n    <break time=\"1s\"/>\\n    <prosody rate=\"slow\">When I met one that seemed to me a little lucid, I had them experience my drawing number 1, which I had preserved.</prosody>\\n    <break time=\"1s\"/>\\n    <prosody rate=\"medium\">I wanted to know if they could come to a real understanding.</prosody>\\n    <break time=\"1s\"/>\\n    <prosody rate=\"slow\">But they always replied It\\'s a hat.</prosody>\\n    <break time=\"1s\"/>\\n    <prosody rate=\"medium\">After that I spoke to them neither of boa constrictors, nor of virgin forests, nor of stars.</prosody>\\n    <break time=\"1s\"/>\\n    <prosody rate=\"slow\">I put myself within their reach.</prosody>\\n    <break time=\"1s\"/>\\n    <prosody rate=\"medium\">I talked about bridge, golf, politics, and ties.</prosody>\\n    <break time=\"1s\"/>\\n    <prosody rate=\"slow\">And the grown-ups were glad to know such a reasonable man.</prosody>\\n    <break time=\"1.5s\"/>\\n    <prosody rate=\"medium\">II</prosody>\\n    <break time=\"500ms\"/>\\n    <prosody rate=\"slow\">So I lived alone, with no one to talk to.</prosody>\\n    <break time=\"1s\"/>\\n    <prosody rate=\"medium\">Until a breakdown in the Sahara desert six years ago.</prosody>\\n    <break time=\"1s\"/>\\n    <prosody rate=\"slow\">Something had broken</prosody>\\n    <break time=\"1s\"/>\\n    <prosody pitch=\"-1st\">in the Sahara desert six years ago.</prosody>\\n    <break time=\"1s\"/>\\n    <prosody rate=\"medium\">Something had broken</prosody>\\n    <break time=\"1s\"/>\\n    <prosody rate=\"slow\">in the Sahara desert six years ago.</prosody>\\n    <break time=\"1s\"/>\\n</speak>'"
      ]
     },
     "execution_count": 9,
     "metadata": {},
     "output_type": "execute_result"
    }
   ],
   "source": [
    "final_input"
   ]
  },
  {
   "cell_type": "code",
   "execution_count": 92,
   "metadata": {},
   "outputs": [],
   "source": [
    "final_input='''\n",
    "<speak>\n",
    "  Here are <say-as interpret-as=\"characters\">SSML</say-as> samples.\n",
    "  I can pause <break time=\"3s\"/>.\n",
    "  I can play a sound\n",
    "  <audio src=\"https://www.example.com/MY_MP3_FILE.mp3\">didn't get your MP3 audio file</audio>.\n",
    "  I can speak in cardinals. Your number is <say-as interpret-as=\"cardinal\">10</say-as>.\n",
    "  Or I can speak in ordinals. You are <say-as interpret-as=\"ordinal\">10</say-as> in line.\n",
    "  Or I can even speak in digits. The digits for ten are <say-as interpret-as=\"characters\">10</say-as>.\n",
    "  I can also substitute phrases, like the <sub alias=\"World Wide Web Consortium\">W3C</sub>.\n",
    "  Finally, I can speak a paragraph with two sentences.\n",
    "  <p><s>This is sentence one.</s><s>This is sentence two.</s></p>\n",
    "</speak>\n",
    "'''"
   ]
  },
  {
   "cell_type": "code",
   "execution_count": 10,
   "metadata": {},
   "outputs": [
    {
     "name": "stdout",
     "output_type": "stream",
     "text": [
      "Audio content written to 'output.mp3'\n"
     ]
    }
   ],
   "source": [
    "synthesize_speech(final_input,\"chapter_1_Custom\")"
   ]
  },
  {
   "cell_type": "code",
   "execution_count": 107,
   "metadata": {},
   "outputs": [
    {
     "name": "stdout",
     "output_type": "stream",
     "text": [
      "Audio file has been saved as output.mp3\n"
     ]
    }
   ],
   "source": [
    "from gtts import gTTS\n",
    "\n",
    "# Input text\n",
    "text = input\n",
    "\n",
    "# Create gTTS object\n",
    "tts = gTTS(text=text, lang='en', slow=False)\n",
    "\n",
    "# Save as an MP3 file\n",
    "tts.save(\"output.mp3\")\n",
    "\n",
    "print(\"Audio file has been saved as output.mp3\")\n"
   ]
  },
  {
   "cell_type": "code",
   "execution_count": 91,
   "metadata": {},
   "outputs": [
    {
     "data": {
      "text/plain": [
       "\"So I had to choose another profession. I learned to fly planes. I flew all over the world. And geography, that's right, served me well. I knew how to recognize, at first glance, China, or Arizona. It is useful if you have gone astray during the night. I have had, in the course of my life, a lot of contact with many serious people. I have lived among the grown-ups. I saw them up close. It did not really improve my opinion of them. When I met one that seemed to me a little lucid, I had them experience my drawing number 1, which I had preserved. I wanted to know if they could come to a real understanding. But they always replied It's a hat. After that I spoke to them neither of boa constrictors, nor of virgin forests, nor of stars. I put myself within their reach. I talked about bridge, golf, politics, and ties. And the grown-ups were glad to know such a reasonable man. II So I lived alone, with no one to talk to, until a breakdown in the Sahara desert six years ago. Something had broken \""
      ]
     },
     "execution_count": 91,
     "metadata": {},
     "output_type": "execute_result"
    }
   ],
   "source": [
    "input"
   ]
  }
 ],
 "metadata": {
  "kernelspec": {
   "display_name": "book",
   "language": "python",
   "name": "python3"
  },
  "language_info": {
   "codemirror_mode": {
    "name": "ipython",
    "version": 3
   },
   "file_extension": ".py",
   "mimetype": "text/x-python",
   "name": "python",
   "nbconvert_exporter": "python",
   "pygments_lexer": "ipython3",
   "version": "3.11.11"
  }
 },
 "nbformat": 4,
 "nbformat_minor": 2
}
