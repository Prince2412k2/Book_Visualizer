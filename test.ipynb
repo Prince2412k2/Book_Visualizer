{
 "cells": [
  {
   "cell_type": "code",
   "execution_count": 1,
   "metadata": {},
   "outputs": [],
   "source": [
    "from reader import ebook\n",
    "from main import read_list,read_json,get_images\n",
    "from typing import Optional\n",
    "import requests\n",
    "from dotenv import load_dotenv\n",
    "import json\n",
    "import os\n"
   ]
  },
  {
   "cell_type": "code",
   "execution_count": 2,
   "metadata": {},
   "outputs": [],
   "source": [
    "load_dotenv()\n",
    "API = os.getenv(\"HF_API\")\n",
    "\n",
    "headers = {\n",
    "    \"Authorization\": f\"Bearer {API}\",\n",
    "    \"Content-Type\": \"application/json\",\n",
    "}\n",
    "url = \"https://api-inference.huggingface.co/models/mistralai/Mistral-7B-Instruct-v0.3/v1/chat/completions\"\n"
   ]
  },
  {
   "cell_type": "code",
   "execution_count": 15,
   "metadata": {},
   "outputs": [],
   "source": [
    "role='''(NOTE: Only output in JSON. Ensure the JSON format is valid, well-formed, and easy to parse.)\n",
    "Input:  \n",
    "1.Chapter Text: The current chapter to be analyzed.\n",
    "2.Character List: A list of characters with their descriptions till now (This chapter).\n",
    "3.Places list: list of places and their description till now (This chapter).\n",
    "3.Previous Chapters' Summary: Context from earlier chapters.\n",
    "\n",
    "Rules:  \n",
    "1.Narrative Summary: Summarize the chapter in detail , integrating context and key developments from previous chapters and create a self containing summary. end with to be continued.\n",
    "2.Character List: add new characters to the list based on this chapter and Update existing character descriptions. If no characters are mentioned, return the same list as given.\n",
    "3.Places: Include an updated description of any significant locations mentioned in this chapter, focusing on environment, weather, vibe, and structure.\n",
    "4.Output Format: Ensure the output is valid and well-structured JSON.\n",
    "\n",
    "Output:  \n",
    "Generate a JSON object in this format:\n",
    "{\n",
    "  \"summary\": \"Detailed Summary of the current chapter in context of previous chapters.\",\n",
    "  \"characters\": {\n",
    "      \"Character Name\": \"Updated or new description (age, looks, clothes, hair, body language) based on this chapter.\"\n",
    "    },\n",
    "  \"places\": {\n",
    "      \"Place Name\": \"Updated or new description (environment, weather, vibe, structure, etc.) based on this chapter.\"\n",
    "  }\n",
    "}\n",
    "\n",
    "example:\n",
    "{\n",
    "  \"summary\": \"The chapter opens with the protagonist, Monsieur Meursault, receiving a telegram about his mother's death. \n",
    "  Despite the news, he reacts with emotional detachment, pondering the ambiguity of the exact day of her passing.\n",
    "  He prepares to attend the funeral, arranging leave from work, but notes his employer's subtle annoyance.\n",
    "  His journey to the Home for Aged Persons in Marengo reveals the intense heat of the Algerian climate and his interactions with others, \n",
    "  such as a soldier on the bus and the doorkeeper. \n",
    "  At the Home, Meursault encounters the warden, who seems both judgmental and understanding about the circumstances leading to his mother's stay. \n",
    "  The chapter concludes with Meursault entering the mortuary, where his lack of emotion continues as he declines to view the body, further emphasizing his detachment.\",\n",
    "  \n",
    "  \"characters\": {\n",
    "    \"Monsieur Meursault\": \"A young man, emotionally detached and indifferent. He appears practical, with a reserved demeanor. His body language reflects discomfort when dealing with social interactions, such as prolonged handshakes or unnecessary apologies.\",\n",
    "    \"The Doorkeeper\": \"A man in his sixties, hale and hearty with a cheerful demeanor. He has ruddy cheeks, blue eyes, and a white mustache. Though officially a doorkeeper, he sees himself as an authority figure among the residents.\",\n",
    "    \"The Warden\": \"A small, older man with gray hair and watery blue eyes. He wears a Legion of Honor rosette and has a formal yet slightly judgmental attitude. He holds a prolonged handshake, perhaps signaling awkwardness or an attempt at connection.\"\n",
    "  },\n",
    "  \"places\": {\n",
    "    \"The Home for Aged Persons\": \"Located in Marengo, fifty miles from Algiers, the Home has a formal and slightly oppressive atmosphere. The environment is marked by a clean mortuary, whitewashed walls, and a courtyard where elderly residents gather. The weather is intensely hot, reflecting the harsh Algerian climate.\",\n",
    "    \"Marengo\": \"A small village with a rural, subdued atmosphere. The intense afternoon heat creates a sense of lethargy and discomfort. The Home itself is slightly isolated, requiring a mile-long walk from the bus stop.\"\n",
    "  }\n",
    "}\n",
    "\n",
    "'''\n"
   ]
  },
  {
   "cell_type": "code",
   "execution_count": 16,
   "metadata": {},
   "outputs": [],
   "source": [
    "def msg(text: str, context: str = \"Its first chapter\", characters: dict = {}, places: dict = {}) -> list:\n",
    "    js=json.dumps({\n",
    "                \"past_context\": context,\n",
    "                \"text\": text,\n",
    "                \"character_list\": characters,\n",
    "                \"places_list\": places})\n",
    "    message = [\n",
    "        {\n",
    "            \"role\": \"system\",\n",
    "            \"content\": role\n",
    "        },\n",
    "        {\n",
    "            \"role\": \"user\",\n",
    "            \"content\": json.dumps({\n",
    "                \"past_context\": context,\n",
    "                \"text\": text,\n",
    "                \"character_list\": characters,\n",
    "                \"places_list\": places\n",
    "            }),\n",
    "        },\n",
    "    ]\n",
    "    return message"
   ]
  },
  {
   "cell_type": "code",
   "execution_count": 5,
   "metadata": {},
   "outputs": [],
   "source": [
    "def get_scene(messages) -> Optional[str]:\n",
    "    data = {\n",
    "        \"messages\": messages,\n",
    "        \"temperature\": 0.7,\n",
    "        \"stream\": False,\n",
    "        \"max_tokens\":10000\n",
    "    }\n",
    "    response = requests.post(url, headers=headers, json=data)\n",
    "\n",
    "    if response.status_code == 200:\n",
    "        response_data = response.json()\n",
    "        assistant_message = response_data[\"choices\"][0][\"message\"][\"content\"]\n",
    "        return assistant_message\n",
    "    else:\n",
    "        print(f\"Error: {response.status_code}, {response.text}\")\n",
    "        return None"
   ]
  },
  {
   "cell_type": "code",
   "execution_count": 17,
   "metadata": {},
   "outputs": [],
   "source": [
    "book=ebook(\"./books/LP.epub\")\n",
    "chapters = book.get_chapters()\n",
    "_,text=zip(*chapters[:10]) \n",
    "\n"
   ]
  },
  {
   "cell_type": "code",
   "execution_count": 19,
   "metadata": {},
   "outputs": [],
   "source": [
    "\n",
    "output_dict={\n",
    "    0:\n",
    "        {\n",
    "            \"summary\":\"This is the first chapter\",\n",
    "            \"characters\":{},\n",
    "            \"places\": {}\n",
    "        }\n",
    "            }"
   ]
  },
  {
   "cell_type": "code",
   "execution_count": 20,
   "metadata": {},
   "outputs": [
    {
     "name": "stdout",
     "output_type": "stream",
     "text": [
      "chapter: 0 done\n",
      "chapter: 1 done\n",
      "chapter: 2 done\n",
      "chapter: 3 done\n",
      "chapter: 4 done\n",
      "chapter: 5 done\n",
      "chapter: 6 done\n",
      "chapter: 7 done\n",
      "chapter: 8 done\n",
      "chapter: 9 done\n"
     ]
    }
   ],
   "source": [
    "for idx,i in enumerate(text):\n",
    "    mes=msg(text,output_dict[idx][\"summary\"],characters=output_dict[idx][\"characters\"],places=output_dict[idx][\"places\"])\n",
    "    summary_characters=get_scene(mes)\n",
    "    output_json=read_json(summary_characters)\n",
    "    output_dict[idx+1]=output_json\n",
    "    print(f\"chapter: {idx} done\")\n",
    "    "
   ]
  },
  {
   "cell_type": "code",
   "execution_count": null,
   "metadata": {},
   "outputs": [],
   "source": [
    "output_dict"
   ]
  },
  {
   "cell_type": "code",
   "execution_count": 21,
   "metadata": {},
   "outputs": [
    {
     "name": "stdout",
     "output_type": "stream",
     "text": [
      "CHAPTER 1 :\n",
      "\n",
      "Characters:\n",
      "The Storyteller: A grown-up who has encountered the Little Prince in the Sahara Desert. He shares the Little Prince's stories and reflects on their encounter.\n",
      "The Little Prince: A mysterious character who comes from a planet with stars as his companions. He shares stories of his own planet and its challenges.\n",
      "\n",
      "Places:\n",
      "The Sahara Desert: A vast, isolated desert where the storyteller encounters the Little Prince.\n",
      "The Little Prince's Planet: A unique planet inhabited by stars, baobabs, and the Little Prince's flower.\n",
      "\n",
      "Summary:\n",
      "In this chapter, the storyteller reflects on his childhood and the encounter with the Little Prince, a mysterious character who came to him in the Sahara Desert. The Little Prince shares stories of his own planet, where he lived among stars and faced challenges such as the drama of the baobabs and the complexities of love with a rose. The storyteller learns about the Little Prince's flower, which he had nurtured and cared for but ultimately had to leave behind. The chapter ends with the Little Prince's departure from the storyteller's planet, leaving him with a sense of loss and longing.\n",
      "\n",
      "-------------------------------------------------------------------------------------------------------------------\n",
      "CHAPTER 2 :\n",
      "\n",
      "Characters:\n",
      "The Storyteller: A grown-up who has encountered the Little Prince in the Sahara Desert. He shares the Little Prince's stories and reflects on their encounter.\n",
      "The Little Prince: A mysterious character who comes from a planet with stars as his companions. He shares stories of his own planet and its challenges.\n",
      "\n",
      "Places:\n",
      "The Sahara Desert: A vast, isolated desert where the storyteller encounters the Little Prince.\n",
      "The Little Prince's Planet: A unique planet inhabited by stars, baobabs, and the Little Prince's flower.\n",
      "\n",
      "Summary:\n",
      "The chapter delves into the storyteller's past, recounting his encounter with the mystical Little Prince in the Sahara Desert. The Little Prince shares tales of his home planet, where he lives among stars and faces challenges like the drama of the baobabs and the complexities of love with a rose. The storyteller learns about the Little Prince's flower, which he had nurtured and cared for but ultimately had to leave behind. The chapter concludes with the Little Prince's departure from the storyteller's planet, leaving him with a sense of loss and longing.\n",
      "\n",
      "-------------------------------------------------------------------------------------------------------------------\n",
      "CHAPTER 3 :\n",
      "\n",
      "Characters:\n",
      "The Storyteller: A grown-up who has encountered the Little Prince in the Sahara Desert. He shares the Little Prince's stories and reflects on their encounter.\n",
      "The Little Prince: A mysterious character who comes from a planet with stars as his companions. He shares stories of his own planet and its challenges.\n",
      "\n",
      "Places:\n",
      "The Sahara Desert: A vast, isolated desert where the storyteller encounters the Little Prince.\n",
      "The Little Prince's Planet: A unique planet inhabited by stars, baobabs, and the Little Prince's flower.\n",
      "\n",
      "Summary:\n",
      "The chapter delves into the storyteller's past, recounting his encounter with the mystical Little Prince in the Sahara Desert. The Little Prince shares tales of his home planet, where he lives among stars and faces challenges like the drama of the baobabs and the complexities of love with a rose. The storyteller learns about the Little Prince's flower, which he had nurtured and cared for but ultimately had to leave behind. The chapter concludes with the Little Prince's departure from the storyteller's planet, leaving him with a sense of loss and longing.\n",
      "\n",
      "-------------------------------------------------------------------------------------------------------------------\n",
      "CHAPTER 4 :\n",
      "\n",
      "Characters:\n",
      "The Storyteller: A grown-up who has encountered the Little Prince in the Sahara Desert. He shares the Little Prince's stories and reflects on their encounter.\n",
      "The Little Prince: A mysterious character who comes from a planet with stars as his companions. He shares stories of his own planet and its challenges.\n",
      "\n",
      "Places:\n",
      "The Sahara Desert: A vast, isolated desert where the storyteller encounters the Little Prince.\n",
      "The Little Prince's Planet: A unique planet inhabited by stars, baobabs, and the Little Prince's flower.\n",
      "\n",
      "Summary:\n",
      "The chapter delves into the storyteller's past, recounting his encounter with the mystical Little Prince in the Sahara Desert. The Little Prince shares tales of his home planet, where he lives among stars and faces challenges like the drama of the baobabs and the complexities of love with a rose. The storyteller learns about the Little Prince's flower, which he had nurtured and cared for but ultimately had to leave behind. The chapter concludes with the Little Prince's departure from the storyteller's planet, leaving him with a sense of loss and longing.\n",
      "\n",
      "-------------------------------------------------------------------------------------------------------------------\n",
      "CHAPTER 5 :\n",
      "\n",
      "Characters:\n",
      "The Storyteller: A grown-up who has encountered the Little Prince in the Sahara Desert. He shares the Little Prince's stories and reflects on their encounter.\n",
      "The Little Prince: A mysterious character who comes from a planet with stars as his companions. He shares stories of his own planet and its challenges.\n",
      "\n",
      "Places:\n",
      "The Sahara Desert: A vast, isolated desert where the storyteller encounters the Little Prince.\n",
      "The Little Prince's Planet: A unique planet inhabited by stars, baobabs, and the Little Prince's flower.\n",
      "\n",
      "Summary:\n",
      "The chapter delves into the storyteller's past, recounting his encounter with the mystical Little Prince in the Sahara Desert. The Little Prince shares tales of his home planet, where he lives among stars and faces challenges like the drama of the baobabs and the complexities of love with a rose. The storyteller learns about the Little Prince's flower, which he had nurtured and cared for but ultimately had to leave behind. The chapter concludes with the Little Prince's departure from the storyteller's planet, leaving him with a sense of loss and longing.\n",
      "\n",
      "-------------------------------------------------------------------------------------------------------------------\n",
      "CHAPTER 6 :\n",
      "\n",
      "Characters:\n",
      "The Storyteller: A grown-up who has encountered the Little Prince in the Sahara Desert. He shares the Little Prince's stories and reflects on their encounter.\n",
      "The Little Prince: A mysterious character who comes from a planet with stars as his companions. He shares stories of his own planet and its challenges.\n",
      "\n",
      "Places:\n",
      "The Sahara Desert: A vast, isolated desert where the storyteller encounters the Little Prince.\n",
      "The Little Prince's Planet: A unique planet inhabited by stars, baobabs, and the Little Prince's flower.\n",
      "\n",
      "Summary:\n",
      "The chapter delves into the storyteller's past, recounting his encounter with the mystical Little Prince in the Sahara Desert. The Little Prince shares tales of his home planet, where he lives among stars and faces challenges like the drama of the baobabs and the complexities of love with a rose. The storyteller learns about the Little Prince's flower, which he had nurtured and cared for but ultimately had to leave behind. The chapter concludes with the Little Prince's departure from the storyteller's planet, leaving him with a sense of loss and longing.\n",
      "\n",
      "-------------------------------------------------------------------------------------------------------------------\n",
      "CHAPTER 7 :\n",
      "\n",
      "Characters:\n",
      "The Storyteller: A grown-up who has encountered the Little Prince in the Sahara Desert. He shares the Little Prince's stories and reflects on their encounter.\n",
      "The Little Prince: A mysterious character who comes from a planet with stars as his companions. He shares stories of his own planet and its challenges.\n",
      "\n",
      "Places:\n",
      "The Sahara Desert: A vast, isolated desert where the storyteller encounters the Little Prince.\n",
      "The Little Prince's Planet: A unique planet inhabited by stars, baobabs, and the Little Prince's flower.\n",
      "\n",
      "Summary:\n",
      "The chapter delves into the storyteller's past, recounting his encounter with the mystical Little Prince in the Sahara Desert. The Little Prince shares tales of his home planet, where he lives among stars and faces challenges like the drama of the baobabs and the complexities of love with a rose. The storyteller learns about the Little Prince's flower, which he had nurtured and cared for but ultimately had to leave behind. The chapter concludes with the Little Prince's departure from the storyteller's planet, leaving him with a sense of loss and longing.\n",
      "\n",
      "-------------------------------------------------------------------------------------------------------------------\n",
      "CHAPTER 8 :\n",
      "\n",
      "Characters:\n",
      "The Storyteller: A grown-up who has encountered the Little Prince in the Sahara Desert. He shares the Little Prince's stories and reflects on their encounter.\n",
      "The Little Prince: A mysterious character who comes from a planet with stars as his companions. He shares stories of his own planet and its challenges.\n",
      "\n",
      "Places:\n",
      "The Sahara Desert: A vast, isolated desert where the storyteller encounters the Little Prince.\n",
      "The Little Prince's Planet: A unique planet inhabited by stars, baobabs, and the Little Prince's flower.\n",
      "\n",
      "Summary:\n",
      "The chapter delves into the storyteller's past, recounting his encounter with the mystical Little Prince in the Sahara Desert. The Little Prince shares tales of his home planet, where he lives among stars and faces challenges like the drama of the baobabs and the complexities of love with a rose. The storyteller learns about the Little Prince's flower, which he had nurtured and cared for but ultimately had to leave behind. The chapter concludes with the Little Prince's departure from the storyteller's planet, leaving him with a sense of loss and longing.\n",
      "\n",
      "-------------------------------------------------------------------------------------------------------------------\n",
      "CHAPTER 9 :\n",
      "\n",
      "Characters:\n",
      "The Storyteller: A grown-up who has encountered the Little Prince in the Sahara Desert. He shares the Little Prince's stories and reflects on their encounter.\n",
      "The Little Prince: A mysterious character who comes from a planet with stars as his companions. He shares stories of his own planet and its challenges.\n",
      "\n",
      "Places:\n",
      "The Sahara Desert: A vast, isolated desert where the storyteller encounters the Little Prince.\n",
      "The Little Prince's Planet: A unique planet inhabited by stars, baobabs, and the Little Prince's flower.\n",
      "\n",
      "Summary:\n",
      "The chapter delves into the storyteller's past, recounting his encounter with the mystical Little Prince in the Sahara Desert. The Little Prince shares tales of his home planet, where he lives among stars and faces challenges like the drama of the baobabs and the complexities of love with a rose. The storyteller learns about the Little Prince's flower, which he had nurtured and cared for but ultimately had to leave behind. The chapter concludes with the Little Prince's departure from the storyteller's planet, leaving him with a sense of loss and longing.\n",
      "\n",
      "-------------------------------------------------------------------------------------------------------------------\n",
      "CHAPTER 10 :\n",
      "\n",
      "Characters:\n",
      "The Storyteller: A grown-up who has encountered the Little Prince in the Sahara Desert. He shares the Little Prince's stories and reflects on their encounter.\n",
      "The Little Prince: A mysterious character who comes from a planet with stars as his companions. He shares stories of his own planet and its challenges.\n",
      "\n",
      "Places:\n",
      "The Sahara Desert: A vast, isolated desert where the storyteller encounters the Little Prince.\n",
      "The Little Prince's Planet: A unique planet inhabited by stars, baobabs, and the Little Prince's flower.\n",
      "\n",
      "Summary:\n",
      "The chapter delves into the storyteller's past, recounting his encounter with the mystical Little Prince in the Sahara Desert. The Little Prince shares tales of his home planet, where he lives among stars and faces challenges like the drama of the baobabs and the complexities of love with a rose. The storyteller learns about the Little Prince's flower, which he had nurtured and cared for but ultimately had to leave behind. The chapter concludes with the Little Prince's departure from the storyteller's planet, leaving him with a sense of loss and longing.\n",
      "\n",
      "-------------------------------------------------------------------------------------------------------------------\n"
     ]
    }
   ],
   "source": [
    "for num, dic in output_dict.items():\n",
    "    if num==0:\n",
    "        continue\n",
    "    print(f\"CHAPTER {num} :\\n\")\n",
    "    \n",
    "    sum,char,places=dic.items()\n",
    "    print(\"Characters:\")\n",
    "    if len(char)>0 :\n",
    "        for name,i in char[1].items():\n",
    "            print(f\"{name}: {i}\")\n",
    "    \n",
    "    print(\"\\nPlaces:\")\n",
    "    if len(places)>0:\n",
    "        for name,i in places[1].items():\n",
    "            print(f\"{name}: {i}\")\n",
    "    print(f\"\\nSummary:\\n{sum[1]}\")\n",
    "    print(\"\\n-------------------------------------------------------------------------------------------------------------------\")"
   ]
  },
  {
   "cell_type": "code",
   "execution_count": 25,
   "metadata": {},
   "outputs": [
    {
     "name": "stdout",
     "output_type": "stream",
     "text": [
      "This is the first chapter\n",
      "In this chapter, the storyteller reflects on his childhood and the encounter with the Little Prince, a mysterious character who came to him in the Sahara Desert. The Little Prince shares stories of his own planet, where he lived among stars and faced challenges such as the drama of the baobabs and the complexities of love with a rose. The storyteller learns about the Little Prince's flower, which he had nurtured and cared for but ultimately had to leave behind. The chapter ends with the Little Prince's departure from the storyteller's planet, leaving him with a sense of loss and longing.\n",
      "The chapter delves into the storyteller's past, recounting his encounter with the mystical Little Prince in the Sahara Desert. The Little Prince shares tales of his home planet, where he lives among stars and faces challenges like the drama of the baobabs and the complexities of love with a rose. The storyteller learns about the Little Prince's flower, which he had nurtured and cared for but ultimately had to leave behind. The chapter concludes with the Little Prince's departure from the storyteller's planet, leaving him with a sense of loss and longing.\n",
      "The chapter delves into the storyteller's past, recounting his encounter with the mystical Little Prince in the Sahara Desert. The Little Prince shares tales of his home planet, where he lives among stars and faces challenges like the drama of the baobabs and the complexities of love with a rose. The storyteller learns about the Little Prince's flower, which he had nurtured and cared for but ultimately had to leave behind. The chapter concludes with the Little Prince's departure from the storyteller's planet, leaving him with a sense of loss and longing.\n",
      "The chapter delves into the storyteller's past, recounting his encounter with the mystical Little Prince in the Sahara Desert. The Little Prince shares tales of his home planet, where he lives among stars and faces challenges like the drama of the baobabs and the complexities of love with a rose. The storyteller learns about the Little Prince's flower, which he had nurtured and cared for but ultimately had to leave behind. The chapter concludes with the Little Prince's departure from the storyteller's planet, leaving him with a sense of loss and longing.\n",
      "The chapter delves into the storyteller's past, recounting his encounter with the mystical Little Prince in the Sahara Desert. The Little Prince shares tales of his home planet, where he lives among stars and faces challenges like the drama of the baobabs and the complexities of love with a rose. The storyteller learns about the Little Prince's flower, which he had nurtured and cared for but ultimately had to leave behind. The chapter concludes with the Little Prince's departure from the storyteller's planet, leaving him with a sense of loss and longing.\n",
      "The chapter delves into the storyteller's past, recounting his encounter with the mystical Little Prince in the Sahara Desert. The Little Prince shares tales of his home planet, where he lives among stars and faces challenges like the drama of the baobabs and the complexities of love with a rose. The storyteller learns about the Little Prince's flower, which he had nurtured and cared for but ultimately had to leave behind. The chapter concludes with the Little Prince's departure from the storyteller's planet, leaving him with a sense of loss and longing.\n",
      "The chapter delves into the storyteller's past, recounting his encounter with the mystical Little Prince in the Sahara Desert. The Little Prince shares tales of his home planet, where he lives among stars and faces challenges like the drama of the baobabs and the complexities of love with a rose. The storyteller learns about the Little Prince's flower, which he had nurtured and cared for but ultimately had to leave behind. The chapter concludes with the Little Prince's departure from the storyteller's planet, leaving him with a sense of loss and longing.\n",
      "The chapter delves into the storyteller's past, recounting his encounter with the mystical Little Prince in the Sahara Desert. The Little Prince shares tales of his home planet, where he lives among stars and faces challenges like the drama of the baobabs and the complexities of love with a rose. The storyteller learns about the Little Prince's flower, which he had nurtured and cared for but ultimately had to leave behind. The chapter concludes with the Little Prince's departure from the storyteller's planet, leaving him with a sense of loss and longing.\n",
      "The chapter delves into the storyteller's past, recounting his encounter with the mystical Little Prince in the Sahara Desert. The Little Prince shares tales of his home planet, where he lives among stars and faces challenges like the drama of the baobabs and the complexities of love with a rose. The storyteller learns about the Little Prince's flower, which he had nurtured and cared for but ultimately had to leave behind. The chapter concludes with the Little Prince's departure from the storyteller's planet, leaving him with a sense of loss and longing.\n",
      "The chapter delves into the storyteller's past, recounting his encounter with the mystical Little Prince in the Sahara Desert. The Little Prince shares tales of his home planet, where he lives among stars and faces challenges like the drama of the baobabs and the complexities of love with a rose. The storyteller learns about the Little Prince's flower, which he had nurtured and cared for but ultimately had to leave behind. The chapter concludes with the Little Prince's departure from the storyteller's planet, leaving him with a sense of loss and longing.\n"
     ]
    }
   ],
   "source": [
    "for key, val in output_dict.items():\n",
    "    print(val[\"summary\"])"
   ]
  },
  {
   "cell_type": "code",
   "execution_count": 407,
   "metadata": {},
   "outputs": [
    {
     "data": {
      "text/plain": [
       "{'narrative_summary': 'The narrator recounts his past experiences, including the loss of his artistic dreams due to the lack of understanding from adults, and his encounter with a mysterious voice in the Sahara Desert that asked him to draw a sheep. This encounter rekindled his connection to childhood innocence.',\n",
       " 'characters': {'The Narrator': 'An unnamed individual who is a seasoned traveler and pilot. He has a cynical view of adults and their lack of imagination. He carries a drawing of a mysterious little man he encountered in the Sahara Desert.'}}"
      ]
     },
     "execution_count": 407,
     "metadata": {},
     "output_type": "execute_result"
    }
   ],
   "source": [
    "b"
   ]
  },
  {
   "cell_type": "code",
   "execution_count": 402,
   "metadata": {},
   "outputs": [],
   "source": [
    "char=b['characters']\n",
    "summary=b['narrative_summary']"
   ]
  },
  {
   "cell_type": "code",
   "execution_count": 404,
   "metadata": {},
   "outputs": [
    {
     "name": "stdout",
     "output_type": "stream",
     "text": [
      "characters:\n",
      "The Narrator:\n",
      "An unnamed character who is a grown-up, a pilot, and an artist at heart. He has a pessimistic view of adults and their lack of imagination. He wears a pilot's uniform and has a serious expression.\n",
      "\n",
      "Summary:\n",
      "The narrator reflects on his past, his lost artistic dreams, and his encounter with a mysterious voice in the Sahara Desert. This voice, later identified as the little prince, asks him to draw a sheep, reigniting his connection to childhood innocence.\n"
     ]
    }
   ],
   "source": [
    "print(\"characters:\")\n",
    "for name,disc in char.items():\n",
    "    print(f\"{name}:\\n{disc}\")\n",
    "print(f\"\\nSummary:\\n{summary}\")\n"
   ]
  }
 ],
 "metadata": {
  "kernelspec": {
   "display_name": "book",
   "language": "python",
   "name": "python3"
  },
  "language_info": {
   "codemirror_mode": {
    "name": "ipython",
    "version": 3
   },
   "file_extension": ".py",
   "mimetype": "text/x-python",
   "name": "python",
   "nbconvert_exporter": "python",
   "pygments_lexer": "ipython3",
   "version": "3.11.11"
  }
 },
 "nbformat": 4,
 "nbformat_minor": 2
}
