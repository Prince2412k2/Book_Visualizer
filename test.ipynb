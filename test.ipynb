{
 "cells": [
  {
   "cell_type": "code",
   "execution_count": 422,
   "metadata": {},
   "outputs": [],
   "source": [
    "from reader import ebook\n",
    "from main import read_list,read_json\n",
    "from typing import Optional\n",
    "import requests\n",
    "from dotenv import load_dotenv\n",
    "import json"
   ]
  },
  {
   "cell_type": "code",
   "execution_count": 136,
   "metadata": {},
   "outputs": [],
   "source": [
    "load_dotenv()\n",
    "API = os.getenv(\"HF_API\")\n",
    "\n",
    "headers = {\n",
    "    \"Authorization\": f\"Bearer {API}\",\n",
    "    \"Content-Type\": \"application/json\",\n",
    "}\n",
    "url = \"https://api-inference.huggingface.co/models/mistralai/Mistral-7B-Instruct-v0.3/v1/chat/completions\"\n"
   ]
  },
  {
   "cell_type": "code",
   "execution_count": 486,
   "metadata": {},
   "outputs": [],
   "source": [
    "role='''(NOTE: Only output in JSON. Ensure the JSON format is valid, well-formed, and easy to parse.)\n",
    "Input:  \n",
    "1.Chapter Text: The current chapter to be analyzed.\n",
    "2.Character List: A list of characters with their descriptions till now (This chapter).\n",
    "3.Places list: list of places and their description till now (This chapter).\n",
    "3.Previous Chapters' Summary: Context from earlier chapters.\n",
    "\n",
    "Rules:  \n",
    "1.Narrative Summary: Summarize the chapter, integrating context and key developments from previous chapters and create a self containing summary. end with to be continued.\n",
    "2.Character List: Update existing character descriptions or add new characters based on this chapter. If no characters are mentioned, return the same as given.\n",
    "3.Places: Include an updated description of any significant locations mentioned in this chapter, focusing on environment, weather, vibe, and structure.\n",
    "4.Output Format: Ensure the output is valid and well-structured JSON.\n",
    "\n",
    "Output:  \n",
    "Generate a JSON object in this format:\n",
    "{\n",
    "  \"summary\": \"Summary of the current chapter in context of previous chapters.\",\n",
    "  \"characters\": {\n",
    "      \"Character Name\": \"Updated or new description (age, looks, clothes, hair, body language) based on this chapter.\"\n",
    "    },\n",
    "  \"places\": {\n",
    "      \"Place Name\": \"Updated or new description (environment, weather, vibe, structure, etc.) based on this chapter.\"\n",
    "  }\n",
    "}\n",
    "\n",
    "example:\n",
    "{\n",
    "  \"summary\": \"In this chapter, Mira embarks on a courageous journey to seek the sun goddess Solara, facing numerous challenges along the way. As she navigates through the enchanted forest, her determination shines through, reflecting the hope of her village. The chapter highlights her growth and resilience against the encroaching darkness.\",\n",
    "  \"characters\": {\n",
    "    \"Mira\": \"A 16-year-old girl with long, wavy black hair and bright green eyes. She wears a simple tunic made of earth-toned fabric, suitable for travel, and has a determined expression. Mira carries a small satchel with essential supplies and exhibits adventurous body language, often standing tall with her shoulders back.\"\n",
    "  },\n",
    "  \"places\": {\n",
    "    \"Enchanted Forest\": \"A mystical area filled with vibrant flora and magical creatures, bathed in dappled sunlight. The air is rich with the sounds of nature, creating an atmosphere of wonder and adventure.\"\n",
    "  }\n",
    "}\n",
    "\n",
    "'''\n"
   ]
  },
  {
   "cell_type": "code",
   "execution_count": 423,
   "metadata": {},
   "outputs": [],
   "source": [
    "def msg(text: str, context: str = \"Its first chapter\", characters: dict = {}, places: dict = {}) -> list:\n",
    "    js=json.dumps({\n",
    "                \"past_context\": context,\n",
    "                \"text\": text,\n",
    "                \"character_list\": characters,\n",
    "                \"places_list\": places})\n",
    "    message = [\n",
    "        {\n",
    "            \"role\": \"system\",\n",
    "            \"content\": role\n",
    "        },\n",
    "        {\n",
    "            \"role\": \"user\",\n",
    "            \"content\": json.dumps({\n",
    "                \"past_context\": context,\n",
    "                \"text\": text,\n",
    "                \"character_list\": characters,\n",
    "                \"places_list\": places\n",
    "            }),\n",
    "        },\n",
    "    ]\n",
    "    return message"
   ]
  },
  {
   "cell_type": "code",
   "execution_count": 424,
   "metadata": {},
   "outputs": [],
   "source": [
    "def get_scene(messages) -> Optional[str]:\n",
    "    data = {\n",
    "        \"messages\": messages,\n",
    "        \"temperature\": 0.5,\n",
    "        \"stream\": False,\n",
    "        \"max_tokens\":10000\n",
    "    }\n",
    "    response = requests.post(url, headers=headers, json=data)\n",
    "\n",
    "    if response.status_code == 200:\n",
    "        response_data = response.json()\n",
    "        assistant_message = response_data[\"choices\"][0][\"message\"][\"content\"]\n",
    "        return assistant_message\n",
    "    else:\n",
    "        print(f\"Error: {response.status_code}, {response.text}\")\n",
    "        return None"
   ]
  },
  {
   "cell_type": "code",
   "execution_count": 487,
   "metadata": {},
   "outputs": [],
   "source": [
    "book=ebook(\"./books/LP.epub\")\n",
    "chapters = book.get_chapters()\n",
    "_,text=zip(*chapters[:5]) \n",
    "\n"
   ]
  },
  {
   "cell_type": "code",
   "execution_count": 488,
   "metadata": {},
   "outputs": [],
   "source": [
    "\n",
    "output_dict={0:{\"summary\":\"This is the first chapter\",\"characters\":{},\"places\": {}}\n",
    "}"
   ]
  },
  {
   "cell_type": "code",
   "execution_count": 489,
   "metadata": {},
   "outputs": [
    {
     "name": "stdout",
     "output_type": "stream",
     "text": [
      "chapter: 0 done\n",
      "chapter: 1 done\n",
      "chapter: 2 done\n",
      "chapter: 3 done\n",
      "chapter: 4 done\n"
     ]
    }
   ],
   "source": [
    "for idx,i in enumerate(text):\n",
    "    mes=msg(text,output_dict[idx][\"summary\"])\n",
    "    summary_characters=get_scene(mes)\n",
    "    output_json=read_json(summary_characters)\n",
    "    output_dict[idx+1]=output_json\n",
    "    print(f\"chapter: {idx} done\")\n",
    "    "
   ]
  },
  {
   "cell_type": "code",
   "execution_count": null,
   "metadata": {},
   "outputs": [],
   "source": [
    "output_dict"
   ]
  },
  {
   "cell_type": "code",
   "execution_count": 490,
   "metadata": {},
   "outputs": [
    {
     "name": "stdout",
     "output_type": "stream",
     "text": [
      "CHAPTER 1 :\n",
      "\n",
      "Characters:\n",
      "\n",
      "Places:\n",
      "Sahara Desert: A vast, isolated desert region where the chapter's key events take place.\n",
      "\n",
      "Summary:\n",
      "The chapter begins with the narrator recalling a childhood memory of a drawing he made of a boa constrictor digesting an elephant, which was met with confusion by adults. He then recounts a later encounter in the Sahara desert with a small, enigmatic figure who requests the narrator to draw him a sheep. Despite the narrator's initial struggles, he eventually draws a sheep to the little figure's satisfaction. The chapter ends without revealing the true nature of the little figure.\n",
      "\n",
      "-------------------------------------------------------------------------------------------------------------------\n",
      "CHAPTER 2 :\n",
      "\n",
      "Characters:\n",
      "\n",
      "Places:\n",
      "Sahara Desert: A vast, isolated desert area in North Africa. The setting is at night, with the narrator stranded due to a plane breakdown.\n",
      "\n",
      "Summary:\n",
      "In this chapter, the narrator recounts a childhood memory of a drawing he made of a boa constrictor digesting an elephant, which was met with confusion by adults. Later, he encounters a small, enigmatic figure in the Sahara desert who requests the narrator to draw him a sheep. Despite the narrator's initial struggles, he eventually draws a sheep to the little figure's satisfaction. The chapter ends without revealing the true nature of the little figure.\n",
      "\n",
      "-------------------------------------------------------------------------------------------------------------------\n",
      "CHAPTER 3 :\n",
      "\n",
      "Characters:\n",
      "\n",
      "Places:\n",
      "Sahara Desert: A vast, sun-scorched desert located in North Africa, offering a barren and isolated environment.\n",
      "\n",
      "Summary:\n",
      "In this chapter, the narrator recounts a childhood memory of a drawing he made of a boa constrictor digesting an elephant, which was met with confusion by adults. Later, he encounters a small, enigmatic figure in the Sahara desert who requests the narrator to draw him a sheep. Despite the narrator's initial struggles, he eventually draws a sheep to the little figure's satisfaction. The chapter ends without revealing the true nature of the little figure.\n",
      "\n",
      "-------------------------------------------------------------------------------------------------------------------\n",
      "CHAPTER 4 :\n",
      "\n",
      "Characters:\n",
      "\n",
      "Places:\n",
      "Sahara Desert: A vast, sun-scorched desert located in North Africa, offering a barren and isolated environment.\n",
      "\n",
      "Summary:\n",
      "In this chapter, the narrator recounts a childhood memory of a drawing he made of a boa constrictor digesting an elephant, which was met with confusion by adults. Later, he encounters a small, enigmatic figure in the Sahara desert who requests the narrator to draw him a sheep. Despite the narrator's initial struggles, he eventually draws a sheep to the little figure's satisfaction. The chapter ends without revealing the true nature of the little figure.\n",
      "\n",
      "-------------------------------------------------------------------------------------------------------------------\n",
      "CHAPTER 5 :\n",
      "\n",
      "Characters:\n",
      "\n",
      "Places:\n",
      "Sahara Desert: A vast, sun-scorched desert located in North Africa, offering a barren and isolated environment.\n",
      "\n",
      "Summary:\n",
      "In this chapter, the narrator recounts a childhood memory of a drawing he made of a boa constrictor digesting an elephant, which was met with confusion by adults. Later, he encounters a small, enigmatic figure in the Sahara desert who requests the narrator to draw him a sheep. Despite the narrator's initial struggles, he eventually draws a sheep to the little figure's satisfaction. The chapter ends without revealing the true nature of the little figure.\n",
      "\n",
      "-------------------------------------------------------------------------------------------------------------------\n"
     ]
    }
   ],
   "source": [
    "for num, dic in output_dict.items():\n",
    "    if num==0:\n",
    "        continue\n",
    "    print(f\"CHAPTER {num} :\\n\")\n",
    "    \n",
    "    sum,char,places=dic.items()\n",
    "    print(\"Characters:\")\n",
    "    if len(char)>0 :\n",
    "        for name,i in char[1].items():\n",
    "            print(f\"{name}: {i}\")\n",
    "    \n",
    "    print(\"\\nPlaces:\")\n",
    "    if len(places)>0:\n",
    "        for name,i in places[1].items():\n",
    "            print(f\"{name}: {i}\")\n",
    "    print(f\"\\nSummary:\\n{sum[1]}\")\n",
    "    print(\"\\n-------------------------------------------------------------------------------------------------------------------\")"
   ]
  },
  {
   "cell_type": "code",
   "execution_count": 406,
   "metadata": {},
   "outputs": [],
   "source": [
    "b=read_json(a)"
   ]
  },
  {
   "cell_type": "code",
   "execution_count": 407,
   "metadata": {},
   "outputs": [
    {
     "data": {
      "text/plain": [
       "{'narrative_summary': 'The narrator recounts his past experiences, including the loss of his artistic dreams due to the lack of understanding from adults, and his encounter with a mysterious voice in the Sahara Desert that asked him to draw a sheep. This encounter rekindled his connection to childhood innocence.',\n",
       " 'characters': {'The Narrator': 'An unnamed individual who is a seasoned traveler and pilot. He has a cynical view of adults and their lack of imagination. He carries a drawing of a mysterious little man he encountered in the Sahara Desert.'}}"
      ]
     },
     "execution_count": 407,
     "metadata": {},
     "output_type": "execute_result"
    }
   ],
   "source": [
    "b"
   ]
  },
  {
   "cell_type": "code",
   "execution_count": 402,
   "metadata": {},
   "outputs": [],
   "source": [
    "char=b['characters']\n",
    "summary=b['narrative_summary']"
   ]
  },
  {
   "cell_type": "code",
   "execution_count": 404,
   "metadata": {},
   "outputs": [
    {
     "name": "stdout",
     "output_type": "stream",
     "text": [
      "characters:\n",
      "The Narrator:\n",
      "An unnamed character who is a grown-up, a pilot, and an artist at heart. He has a pessimistic view of adults and their lack of imagination. He wears a pilot's uniform and has a serious expression.\n",
      "\n",
      "Summary:\n",
      "The narrator reflects on his past, his lost artistic dreams, and his encounter with a mysterious voice in the Sahara Desert. This voice, later identified as the little prince, asks him to draw a sheep, reigniting his connection to childhood innocence.\n"
     ]
    }
   ],
   "source": [
    "print(\"characters:\")\n",
    "for name,disc in char.items():\n",
    "    print(f\"{name}:\\n{disc}\")\n",
    "print(f\"\\nSummary:\\n{summary}\")\n"
   ]
  }
 ],
 "metadata": {
  "kernelspec": {
   "display_name": "book",
   "language": "python",
   "name": "python3"
  },
  "language_info": {
   "codemirror_mode": {
    "name": "ipython",
    "version": 3
   },
   "file_extension": ".py",
   "mimetype": "text/x-python",
   "name": "python",
   "nbconvert_exporter": "python",
   "pygments_lexer": "ipython3",
   "version": "3.11.11"
  }
 },
 "nbformat": 4,
 "nbformat_minor": 2
}
